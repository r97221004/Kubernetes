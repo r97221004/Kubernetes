{
 "cells": [
  {
   "cell_type": "markdown",
   "id": "f9d57f57",
   "metadata": {},
   "source": [
    "# Configuration Best Practices"
   ]
  },
  {
   "cell_type": "raw",
   "id": "c4ea0129",
   "metadata": {},
   "source": [
    "This document highlights and consolidates configuration best practices that are introduced throughout the user guide, Getting Started documentation, and examples.\n",
    "\n",
    "This is a living document. If you think of something that is not on this list but might be useful to others, please don't hesitate to file an issue or submit a PR."
   ]
  },
  {
   "cell_type": "markdown",
   "id": "4090e1e9",
   "metadata": {},
   "source": [
    "# General Configuration Tips"
   ]
  },
  {
   "cell_type": "raw",
   "id": "1f60de8f",
   "metadata": {},
   "source": [
    "When defining configurations, specify the latest stable API version.\n",
    "\n",
    "Configuration files should be stored in version control before being pushed to the cluster. This allows you to quickly roll back a configuration change if necessary. It also aids cluster re-creation and restoration.\n",
    "\n",
    "Write your configuration files using YAML rather than JSON. Though these formats can be used interchangeably in almost all scenarios, YAML tends to be more user-friendly.\n",
    "\n",
    "Group related objects into a single file whenever it makes sense. One file is often easier to manage than several. See the guestbook-all-in-one.yaml file as an example of this syntax.\n",
    "\n",
    "Note also that many kubectl commands can be called on a directory. For example, you can call kubectl apply on a directory of config files.\n",
    "\n",
    "Don't specify default values unnecessarily: simple, minimal configuration will make errors less likely.\n",
    "\n",
    "Put object descriptions in annotations, to allow better introspection."
   ]
  },
  {
   "cell_type": "markdown",
   "id": "a015769a",
   "metadata": {},
   "source": [
    "# \"Naked\" Pods versus ReplicaSets, Deployments, and Jobs"
   ]
  },
  {
   "cell_type": "raw",
   "id": "1b66e29b",
   "metadata": {},
   "source": [
    "Don't use naked Pods (that is, Pods not bound to a ReplicaSet or Deployment) if you can avoid it. Naked Pods will not be rescheduled in the event of a node failure.\n",
    "\n",
    "A Deployment, which both creates a ReplicaSet to ensure that the desired number of Pods is always available, and specifies a strategy to replace Pods (such as RollingUpdate), is almost always preferable to creating Pods directly, except for some explicit restartPolicy: Never scenarios. A Job may also be appropriate."
   ]
  },
  {
   "cell_type": "markdown",
   "id": "a0c19a60",
   "metadata": {},
   "source": [
    "# Services"
   ]
  },
  {
   "cell_type": "raw",
   "id": "3652ce40",
   "metadata": {},
   "source": [
    "待補"
   ]
  },
  {
   "cell_type": "markdown",
   "id": "8f2af35e",
   "metadata": {},
   "source": [
    "# Using Labels"
   ]
  },
  {
   "cell_type": "raw",
   "id": "5cc86cf4",
   "metadata": {},
   "source": [
    "待補"
   ]
  },
  {
   "cell_type": "markdown",
   "id": "b05480c2",
   "metadata": {},
   "source": [
    "# Using kubectl "
   ]
  },
  {
   "cell_type": "raw",
   "id": "62a89962",
   "metadata": {},
   "source": [
    "1. Use kubectl apply -f <directory>. This looks for Kubernetes configuration in all .yaml, .yml, and .json files in \n",
    "   <directory> and passes it to apply.\n",
    "\n",
    "2. Use label selectors for get and delete operations instead of specific object names. See the sections on label selectors \n",
    "   and using labels effectively.\n",
    "\n",
    "3. Use kubectl create deployment and kubectl expose to quickly create single-container Deployments and Services. See Use a \n",
    "   Service to Access an Application in a Cluster for an example."
   ]
  },
  {
   "cell_type": "markdown",
   "id": "b9a01bd9",
   "metadata": {},
   "source": [
    "# Environment Variables"
   ]
  },
  {
   "cell_type": "markdown",
   "id": "37f3c5a5",
   "metadata": {},
   "source": [
    "### 方法一: 直接使用指令"
   ]
  },
  {
   "cell_type": "code",
   "execution_count": null,
   "id": "542fc9a4",
   "metadata": {},
   "outputs": [],
   "source": [
    "kubectl run web --image nginx \\\n",
    "  --env='USERNAME=alice' \\\n",
    "  --env 'PASSWORD=123456' \\\n",
    "  -l 'app=web,env=test' \\\n",
    "  -o yaml --dry-run=client \\\n",
    "  > test.yaml"
   ]
  },
  {
   "cell_type": "raw",
   "id": "a1b3e1e7",
   "metadata": {},
   "source": [
    "使用 yaml 檔建立 pod"
   ]
  },
  {
   "cell_type": "code",
   "execution_count": null,
   "id": "ddc0a8fd",
   "metadata": {},
   "outputs": [],
   "source": [
    "kubctl apply -f test.yaml"
   ]
  },
  {
   "cell_type": "raw",
   "id": "059b92ab",
   "metadata": {},
   "source": [
    "進入 pod 的 shell 看看環境變數有沒有建立成功"
   ]
  },
  {
   "cell_type": "code",
   "execution_count": null,
   "id": "efddd92d",
   "metadata": {},
   "outputs": [],
   "source": [
    "$env"
   ]
  },
  {
   "cell_type": "markdown",
   "id": "e6a076fd",
   "metadata": {},
   "source": [
    "### 方法二: 使用 yaml 文件"
   ]
  },
  {
   "cell_type": "raw",
   "id": "2f26a039",
   "metadata": {},
   "source": [
    "環境變數的 key 為 NAME，值為 Hello World"
   ]
  },
  {
   "cell_type": "code",
   "execution_count": null,
   "id": "4105748b",
   "metadata": {},
   "outputs": [],
   "source": [
    "apiVersion: v1\n",
    "kind: Pod\n",
    "metadata:\n",
    "  name: pod-env\n",
    "spec:\n",
    "  containers:\n",
    "  - name: producer\n",
    "    image: busybox\n",
    "    command: [\"sh\", \"-c\", \"while true; do echo $NAME >> /tmp/index.html; sleep 10; done\"]\n",
    "    env:\n",
    "    - name: NAMEㄔㄛ\n",
    "      value: Hello World"
   ]
  },
  {
   "cell_type": "raw",
   "id": "630f9bb6",
   "metadata": {},
   "source": [
    "檢查環境變數有沒有設定成功"
   ]
  },
  {
   "cell_type": "code",
   "execution_count": null,
   "id": "f2869bdf",
   "metadata": {},
   "outputs": [],
   "source": [
    "kubectl apply -f pod-env.yml\n",
    "kubectl get pods\n",
    "kubectl exec pod-env -- more /tmp/index.html"
   ]
  },
  {
   "cell_type": "markdown",
   "id": "af92ea56",
   "metadata": {},
   "source": [
    "##### 範例"
   ]
  },
  {
   "cell_type": "code",
   "execution_count": null,
   "id": "82a78edd",
   "metadata": {},
   "outputs": [],
   "source": [
    "apiVersion: v1\n",
    "kind: Pod\n",
    "metadata:\n",
    "  name: mysql\n",
    "spec:\n",
    "  containers:\n",
    "  - name: mysql\n",
    "    image: mysql:8.0\n",
    "    env:\n",
    "    - name: MYSQL_ROOT_PASSWORD\n",
    "      value: root"
   ]
  },
  {
   "cell_type": "code",
   "execution_count": null,
   "id": "7b586893",
   "metadata": {},
   "outputs": [],
   "source": [
    "使用 yaml 檔建立 pod"
   ]
  },
  {
   "cell_type": "code",
   "execution_count": null,
   "id": "a2aef391",
   "metadata": {},
   "outputs": [],
   "source": [
    "kubectl apply -f mysql.yml"
   ]
  },
  {
   "cell_type": "code",
   "execution_count": null,
   "id": "f3a512fc",
   "metadata": {},
   "outputs": [],
   "source": [
    "檢查環境變數有沒有設定成功"
   ]
  },
  {
   "cell_type": "code",
   "execution_count": null,
   "id": "2a374256",
   "metadata": {},
   "outputs": [],
   "source": [
    "$env"
   ]
  },
  {
   "cell_type": "raw",
   "id": "24888c06",
   "metadata": {},
   "source": [
    "看有沒有辦法進去 mysql 的 shell"
   ]
  },
  {
   "cell_type": "code",
   "execution_count": null,
   "id": "02c04214",
   "metadata": {},
   "outputs": [],
   "source": [
    "mysql -h 127.0.0.1 -u root -p"
   ]
  },
  {
   "cell_type": "markdown",
   "id": "bd86104b",
   "metadata": {},
   "source": [
    "### 方法三: 使用 ConfigMap"
   ]
  },
  {
   "cell_type": "raw",
   "id": "8df1420c",
   "metadata": {},
   "source": [
    "ConfigMap 有以下特點：\n",
    "\n",
    "1. 一個 ConfigMap 物件可以存入整個 configuration 像是 webserver config file, Nginx config file。\n",
    "2. 無需修改 container 程式碼，可以替換不同環境的 Config 開發過程中，常因應不同的環境需配置不同的 configuration，像是 staging 與 \n",
    "   production 存取的資料庫位址不一致等等。無需修改程式碼的特點，可以幫助我們更快部署到各個不同的環境中。統一存放所有的 \n",
    "   configuration。\n",
    "3. 透過 kubectl get 指令快速查看目前系統所有的 ConfigMap。"
   ]
  },
  {
   "cell_type": "markdown",
   "id": "e4c2c145",
   "metadata": {},
   "source": [
    "##### 使用指令"
   ]
  },
  {
   "cell_type": "code",
   "execution_count": null,
   "id": "df59925b",
   "metadata": {},
   "outputs": [],
   "source": [
    "kubectl create configmap mysql-cfg \\\n",
    "  --from-literal=MYSQL_ROOT_PASSWORD=root \\\n",
    "  --from-literal=MYSQL_USER=demo \\\n",
    "  --from-literal=MYSQL_PASSWORD=demo"
   ]
  },
  {
   "cell_type": "code",
   "execution_count": null,
   "id": "4bcfbf9b",
   "metadata": {},
   "outputs": [],
   "source": [
    "kubectl get configMap"
   ]
  },
  {
   "cell_type": "markdown",
   "id": "1c8886ec",
   "metadata": {},
   "source": [
    "##### 使用檔案"
   ]
  },
  {
   "cell_type": "raw",
   "id": "98e048d7",
   "metadata": {},
   "source": [
    "my-redis.conf 檔"
   ]
  },
  {
   "cell_type": "code",
   "execution_count": null,
   "id": "5eb82ef6",
   "metadata": {},
   "outputs": [],
   "source": [
    "bind 127.0.0.1\n",
    "port 6379\n",
    "maxclients 10000\n",
    "maxmemory 50mb\n",
    "maxmemory-policy volatile-lru\n",
    "syslog-enabled yes\n",
    "dir /var/lib/redis\n",
    "dbfilename redis.dump.rdb\n",
    "databases 1\n",
    "appendfsync everysec\n",
    "save 600 10"
   ]
  },
  {
   "cell_type": "code",
   "execution_count": null,
   "id": "8a403034",
   "metadata": {},
   "outputs": [],
   "source": [
    "kubectl create configmap redis-config --from-file=my-redis.conf"
   ]
  },
  {
   "cell_type": "raw",
   "id": "1adeb65c",
   "metadata": {},
   "source": [
    "查看是否創建成功"
   ]
  },
  {
   "cell_type": "code",
   "execution_count": null,
   "id": "3933b2a3",
   "metadata": {},
   "outputs": [],
   "source": [
    "kubectl get confexitigMap"
   ]
  },
  {
   "cell_type": "raw",
   "id": "395eb38e",
   "metadata": {},
   "source": [
    "更詳細的查看"
   ]
  },
  {
   "cell_type": "code",
   "execution_count": null,
   "id": "e3a78b37",
   "metadata": {},
   "outputs": [],
   "source": [
    "kubectl describe configMap"
   ]
  },
  {
   "cell_type": "markdown",
   "id": "1c491060",
   "metadata": {},
   "source": [
    "##### 使用 yaml 檔"
   ]
  },
  {
   "cell_type": "code",
   "execution_count": null,
   "id": "99c40b43",
   "metadata": {},
   "outputs": [],
   "source": [
    "apiVersion: v1\n",
    "kind: ConfigMap\n",
    "metadata:\n",
    "  name: appconfig\n",
    "data:\n",
    "  MYSQL_ROOT_PASSWORD: root\n",
    "  MYSQL_USER: demo\n",
    "  MYSQL_PASSWORD: demo"
   ]
  },
  {
   "cell_type": "raw",
   "id": "201dab4f",
   "metadata": {},
   "source": [
    "使用 yaml 啟動 configMap 物件"
   ]
  },
  {
   "cell_type": "code",
   "execution_count": null,
   "id": "e8cc47cf",
   "metadata": {},
   "outputs": [],
   "source": [
    "kubectl apply -f appconfig.yaml"
   ]
  },
  {
   "cell_type": "raw",
   "id": "5df5e1ba",
   "metadata": {},
   "source": [
    "看有沒有成功"
   ]
  },
  {
   "cell_type": "code",
   "execution_count": null,
   "id": "829f3d78",
   "metadata": {},
   "outputs": [],
   "source": [
    "kubectl get configmaps"
   ]
  },
  {
   "cell_type": "raw",
   "id": "1d298689",
   "metadata": {},
   "source": [
    "這樣我們的 pod 就可以引用剛剛創建的 configMap 物件 appconfig"
   ]
  },
  {
   "cell_type": "code",
   "execution_count": null,
   "id": "14e81c6b",
   "metadata": {},
   "outputs": [],
   "source": [
    "apiVersion: v1\n",
    "kind: Pod\n",
    "metadata:\n",
    "  name: mysql\n",
    "spec:\n",
    "  containers:\n",
    "  - name: mysql\n",
    "    image: mysql:8.0\n",
    "    envFrom:\n",
    "      - configMapRef:\n",
    "          name: appconfig"
   ]
  },
  {
   "cell_type": "raw",
   "id": "11e0c419",
   "metadata": {},
   "source": [
    "之後步驟跟上方的檢視方式是一樣的"
   ]
  },
  {
   "cell_type": "markdown",
   "id": "c80238bc",
   "metadata": {},
   "source": [
    "##### 使用 Volume 的方式"
   ]
  },
  {
   "cell_type": "code",
   "execution_count": null,
   "id": "65ded796",
   "metadata": {},
   "outputs": [],
   "source": [
    "apiVersion: v1\n",
    "kind: Pod\n",
    "metadata:\n",
    "  name: pod-env\n",
    "spec:\n",
    "  volumes:\n",
    "  - name: appconfig\n",
    "    configMap:\n",
    "      name: appconfig\n",
    "  containers:\n",
    "  - name: busybox\n",
    "    image: busybox\n",
    "    command: [\"sh\", \"-c\", \"while true; do echo $(date) >> /tmp/index.html; sleep 10; done\"]\n",
    "    volumeMounts:\n",
    "    - name: appconfig\n",
    "      mountPath: \"/etc/appconfig\""
   ]
  },
  {
   "cell_type": "raw",
   "id": "9f76ec47",
   "metadata": {},
   "source": [
    "注意我們的 configMap 沒有指定 key 跟 path ， 所以在 /etc/appconfig 底下會有三個檔案 MYSQL_PASSWORD、MYSQL_ROOT_PASSWORD、\n",
    "MYSQL_USER，然後裡面放他們各自的值。"
   ]
  },
  {
   "cell_type": "markdown",
   "id": "4c0d6f7d",
   "metadata": {},
   "source": [
    "### 方法四: 使用 Secrets"
   ]
  },
  {
   "cell_type": "raw",
   "id": "f3326cd1",
   "metadata": {},
   "source": [
    "A Secret is an object that contains a small amount of sensitive data such as a password, a token, or a key. Such information might otherwise be put in a Pod specification or in a container image. Using a Secret means that you don't need to include confidential data in your application code.\n",
    "\n",
    "Because Secrets can be created independently of the Pods that use them, there is less risk of the Secret (and its data) being exposed during the workflow of creating, viewing, and editing Pods. Kubernetes, and applications that run in your cluster, can also take additional precautions with Secrets, such as avoiding writing secret data to nonvolatile storage.\n",
    "\n",
    "Secrets are similar to ConfigMaps but are specifically intended to hold confidential data."
   ]
  },
  {
   "cell_type": "raw",
   "id": "d3baa85d",
   "metadata": {},
   "source": [
    "Caution:\n",
    "Kubernetes Secrets are, by default, stored unencrypted in the API server's underlying data store (etcd). Anyone with API access can retrieve or modify a Secret, and so can anyone with access to etcd. Additionally, anyone who is authorized to create a Pod in a namespace can use that access to read any Secret in that namespace; this includes indirect access such as the ability to create a Deployment.\n",
    "\n",
    "In order to safely use Secrets, take at least the following steps:\n",
    "\n",
    "    1. Enable Encryption at Rest for Secrets.\n",
    "    2. Enable or configure RBAC rules with least-privilege access to Secrets.\n",
    "    3. Restrict Secret access to specific containers.\n",
    "    4. Consider using external Secret store providers.\n",
    "\n",
    "For more guidelines to manage and improve the security of your Secrets, refer to Good practices for Kubernetes Secrets."
   ]
  },
  {
   "cell_type": "markdown",
   "id": "c7f7ee7e",
   "metadata": {},
   "source": [
    "##### Uses for Secrets"
   ]
  },
  {
   "cell_type": "raw",
   "id": "7492745f",
   "metadata": {},
   "source": [
    "There are three main ways for a Pod to use a Secret:\n",
    "\n",
    "1. As files in a volume mounted on one or more of its containers.\n",
    "2. As container environment variable.\n",
    "3. By the kubelet when pulling images for the Pod.\n",
    "\n",
    "The Kubernetes control plane also uses Secrets; for example, bootstrap token Secrets are a mechanism to help automate node registration."
   ]
  },
  {
   "cell_type": "markdown",
   "id": "d9b6e876",
   "metadata": {},
   "source": [
    "##### Working with Secrets"
   ]
  },
  {
   "cell_type": "markdown",
   "id": "6b337cc1",
   "metadata": {},
   "source": [
    "##### 方法一: create Secret using kubectl command"
   ]
  },
  {
   "cell_type": "raw",
   "id": "f87249f4",
   "metadata": {},
   "source": [
    "This method shows you how to create, edit, manage, and delete Kubernetes Secrets using the kubectl command-line tool."
   ]
  },
  {
   "cell_type": "markdown",
   "id": "084102a9",
   "metadata": {},
   "source": [
    "##### Create a Secret"
   ]
  },
  {
   "cell_type": "raw",
   "id": "eb2cf835",
   "metadata": {},
   "source": [
    "A Secret object stores sensitive data such as credentials used by Pods to access services. For example, you might need a Secret to store the username and password needed to access a database.\n",
    "\n",
    "You can create the Secret by passing the raw data in the command, or by storing the credentials in files that you pass in the command. The following commands create a Secret that stores the username admin and the password S!B\\*d$zDsb=."
   ]
  },
  {
   "cell_type": "markdown",
   "id": "326e5a21",
   "metadata": {},
   "source": [
    "##### Use raw data"
   ]
  },
  {
   "cell_type": "raw",
   "id": "8f01f962",
   "metadata": {},
   "source": [
    "Run the following command:"
   ]
  },
  {
   "cell_type": "code",
   "execution_count": null,
   "id": "3e0eb959",
   "metadata": {},
   "outputs": [],
   "source": [
    "kubectl create secret generic db-user-pass \\\n",
    "    --from-literal=username=devuser \\\n",
    "    --from-literal=password='S!B\\*d$zDsb='"
   ]
  },
  {
   "cell_type": "raw",
   "id": "2ed396d3",
   "metadata": {},
   "source": [
    "You must use single quotes '' to escape special characters such as $, \\, *, =, and ! in your strings. If you don't, your shell will interpret these characters."
   ]
  },
  {
   "cell_type": "markdown",
   "id": "c90cf6e0",
   "metadata": {},
   "source": [
    "##### Use source files"
   ]
  },
  {
   "cell_type": "raw",
   "id": "678dcdf1",
   "metadata": {},
   "source": [
    "1. Store the credentials in files with the values encoded in base64:"
   ]
  },
  {
   "cell_type": "code",
   "execution_count": null,
   "id": "113aba02",
   "metadata": {},
   "outputs": [],
   "source": [
    "echo -n 'admin' | base64 > ./username.txt\n",
    "echo -n 'S!B\\*d$zDsb=' | base64 > ./password.txt"
   ]
  },
  {
   "cell_type": "raw",
   "id": "f3390bca",
   "metadata": {},
   "source": [
    "The -n flag ensures that the generated files do not have an extra newline character at the end of the text. This is important because when kubectl reads a file and encodes the content into a base64 string, the extra newline character gets encoded too. You do not need to escape special characters in strings that you include in a file."
   ]
  },
  {
   "cell_type": "raw",
   "id": "7b150b96",
   "metadata": {},
   "source": [
    "2. Pass the file paths in the kubectl command:"
   ]
  },
  {
   "cell_type": "code",
   "execution_count": null,
   "id": "4b0671a7",
   "metadata": {},
   "outputs": [],
   "source": [
    "kubectl create secret generic db-user-pass \\\n",
    "    --from-file=./username.txt \\\n",
    "    --from-file=./password.txt"
   ]
  },
  {
   "cell_type": "raw",
   "id": "61dfd383",
   "metadata": {},
   "source": [
    "The default key name is the file name. You can optionally set the key name using --from-file=[key=]source. For example:"
   ]
  },
  {
   "cell_type": "markdown",
   "id": "c3e035da",
   "metadata": {},
   "source": [
    "##### Verify the Secret"
   ]
  },
  {
   "cell_type": "raw",
   "id": "0f46a902",
   "metadata": {},
   "source": [
    "Check that the Secret was created:"
   ]
  },
  {
   "cell_type": "code",
   "execution_count": null,
   "id": "07ea6db4",
   "metadata": {},
   "outputs": [],
   "source": [
    "kubectl get secrets"
   ]
  },
  {
   "cell_type": "raw",
   "id": "c59d42ce",
   "metadata": {},
   "source": [
    "The output is similar to:"
   ]
  },
  {
   "cell_type": "raw",
   "id": "1dfd076c",
   "metadata": {},
   "source": [
    "NAME                  TYPE                                  DATA      AGE\n",
    "db-user-pass          Opaque                                2         51s"
   ]
  },
  {
   "cell_type": "raw",
   "id": "2607a8f3",
   "metadata": {},
   "source": [
    "View the details of the Secret:"
   ]
  },
  {
   "cell_type": "code",
   "execution_count": null,
   "id": "1362a73e",
   "metadata": {},
   "outputs": [],
   "source": [
    "kubectl describe secret db-user-pass"
   ]
  },
  {
   "cell_type": "raw",
   "id": "18ac314d",
   "metadata": {},
   "source": [
    "The output is similar to:"
   ]
  },
  {
   "cell_type": "raw",
   "id": "ad2e9072",
   "metadata": {},
   "source": [
    "Name:            db-user-pass\n",
    "Namespace:       default\n",
    "Labels:          <none>\n",
    "Annotations:     <none>\n",
    "\n",
    "Type:            Opaque\n",
    "\n",
    "Data\n",
    "====\n",
    "password:    12 bytes\n",
    "username:    5 bytes"
   ]
  },
  {
   "cell_type": "raw",
   "id": "f4b2bba8",
   "metadata": {},
   "source": [
    "The commands kubectl get and kubectl describe avoid showing the contents of a Secret by default. This is to protect the Secret from being exposed accidentally, or from being stored in a terminal log."
   ]
  },
  {
   "cell_type": "markdown",
   "id": "2a01bbdb",
   "metadata": {},
   "source": [
    "##### Decode the Secret"
   ]
  },
  {
   "cell_type": "raw",
   "id": "06bcd122",
   "metadata": {},
   "source": [
    "1. View the contents of the Secret you created:"
   ]
  },
  {
   "cell_type": "code",
   "execution_count": null,
   "id": "6107b5c3",
   "metadata": {},
   "outputs": [],
   "source": [
    "kubectl get secret db-user-pass -o jsonpath='{.data}'"
   ]
  },
  {
   "cell_type": "raw",
   "id": "a2478476",
   "metadata": {},
   "source": [
    "The output is similar to:"
   ]
  },
  {
   "cell_type": "raw",
   "id": "c01e39c3",
   "metadata": {},
   "source": [
    "{\"password\":\"UyFCXCpkJHpEc2I9\",\"username\":\"YWRtaW4=\"} # 注意使用檔案的那個又會被編碼一次"
   ]
  },
  {
   "cell_type": "raw",
   "id": "23de0292",
   "metadata": {},
   "source": [
    "2. Decode the password data:"
   ]
  },
  {
   "cell_type": "code",
   "execution_count": null,
   "id": "2eea1ee7",
   "metadata": {},
   "outputs": [],
   "source": [
    "echo 'UyFCXCpkJHpEc2I9' | base64 --decode"
   ]
  },
  {
   "cell_type": "raw",
   "id": "dfa7f370",
   "metadata": {},
   "source": [
    "The output is similar to:"
   ]
  },
  {
   "cell_type": "raw",
   "id": "e7fee5c1",
   "metadata": {},
   "source": [
    "S!B\\*d$zDsb="
   ]
  },
  {
   "cell_type": "raw",
   "id": "13d3e7d1",
   "metadata": {},
   "source": [
    "Caution: This is an example for documentation purposes. In practice, this method could cause the command with the encoded data to be stored in your shell history. Anyone with access to your computer could find the command and decode the secret. A better approach is to combine the view and decode commands."
   ]
  },
  {
   "cell_type": "code",
   "execution_count": null,
   "id": "56975f9b",
   "metadata": {},
   "outputs": [],
   "source": [
    "kubectl get secret db-user-pass -o jsonpath='{.data.password}' | base64 --decode"
   ]
  },
  {
   "cell_type": "markdown",
   "id": "a01c8dbd",
   "metadata": {},
   "source": [
    "##### Edit a Secret"
   ]
  },
  {
   "cell_type": "raw",
   "id": "44c8edec",
   "metadata": {},
   "source": [
    "You can edit an existing Secret object unless it is immutable. To edit a Secret, run the following command:"
   ]
  },
  {
   "cell_type": "code",
   "execution_count": null,
   "id": "e6fac9ab",
   "metadata": {},
   "outputs": [],
   "source": [
    "kubectl edit secrets <secret-name>"
   ]
  },
  {
   "cell_type": "raw",
   "id": "cefa123f",
   "metadata": {},
   "source": [
    "This opens your default editor and allows you to update the base64 encoded Secret values in the data field, such as in the following example:"
   ]
  },
  {
   "cell_type": "code",
   "execution_count": null,
   "id": "d818885a",
   "metadata": {},
   "outputs": [],
   "source": [
    "# Please edit the object below. Lines beginning with a '#' will be ignored,\n",
    "# and an empty file will abort the edit. If an error occurs while saving this file, it will be\n",
    "# reopened with the relevant failures.\n",
    "#\n",
    "apiVersion: v1\n",
    "data:\n",
    "  password: UyFCXCpkJHpEc2I9\n",
    "  username: YWRtaW4=\n",
    "kind: Secret\n",
    "metadata:\n",
    "  creationTimestamp: \"2022-06-28T17:44:13Z\"\n",
    "  name: db-user-pass\n",
    "  namespace: default\n",
    "  resourceVersion: \"12708504\"\n",
    "  uid: 91becd59-78fa-4c85-823f-6d44436242ac\n",
    "type: Opaque"
   ]
  },
  {
   "cell_type": "markdown",
   "id": "57ae721e",
   "metadata": {},
   "source": [
    "##### Clean up"
   ]
  },
  {
   "cell_type": "raw",
   "id": "b23043a1",
   "metadata": {},
   "source": [
    "To delete a Secret, run the following command:"
   ]
  },
  {
   "cell_type": "code",
   "execution_count": null,
   "id": "1d05176c",
   "metadata": {},
   "outputs": [],
   "source": [
    "kubectl delete secret db-user-pass"
   ]
  },
  {
   "cell_type": "markdown",
   "id": "29beee06",
   "metadata": {},
   "source": [
    "##### 方法二: create Secret from config file"
   ]
  },
  {
   "cell_type": "markdown",
   "id": "157c28c0",
   "metadata": {},
   "source": [
    "##### Create the Secret "
   ]
  },
  {
   "cell_type": "raw",
   "id": "0f4ac60d",
   "metadata": {},
   "source": [
    "You can define the Secret object in a manifest first, in JSON or YAML format, and then create that object. The Secret resource contains two maps: data and stringData. The data field is used to store arbitrary data, encoded using base64. The stringData field is provided for convenience, and it allows you to provide the same data as unencoded strings. The keys of data and stringData must consist of alphanumeric characters, -, _ or .."
   ]
  },
  {
   "cell_type": "raw",
   "id": "522a0609",
   "metadata": {},
   "source": [
    "The following example stores two strings in a Secret using the data field."
   ]
  },
  {
   "cell_type": "raw",
   "id": "56b2ffdc",
   "metadata": {},
   "source": [
    "1. Convert the strings to base64:"
   ]
  },
  {
   "cell_type": "code",
   "execution_count": null,
   "id": "86a8f20b",
   "metadata": {},
   "outputs": [],
   "source": [
    "echo -n 'admin' | base64\n",
    "echo -n '1f2d1e2e67df' | base64"
   ]
  },
  {
   "cell_type": "raw",
   "id": "85070154",
   "metadata": {},
   "source": [
    "The output is similar to:"
   ]
  },
  {
   "cell_type": "code",
   "execution_count": null,
   "id": "67f10249",
   "metadata": {},
   "outputs": [],
   "source": [
    "YWRtaW4=\n",
    "MWYyZDFlMmU2N2Rm"
   ]
  },
  {
   "cell_type": "raw",
   "id": "b1dd3a6b",
   "metadata": {},
   "source": [
    "2. Create the manifest:"
   ]
  },
  {
   "cell_type": "code",
   "execution_count": null,
   "id": "b407f531",
   "metadata": {},
   "outputs": [],
   "source": [
    "apiVersion: v1\n",
    "kind: Secret\n",
    "metadata:\n",
    "  name: mysecret\n",
    "type: Opaque\n",
    "data:\n",
    "  username: YWRtaW4=\n",
    "  password: MWYyZDFlMmU2N2Rm"
   ]
  },
  {
   "cell_type": "raw",
   "id": "513c6800",
   "metadata": {},
   "source": [
    "Note that the name of a Secret object must be a valid DNS subdomain name."
   ]
  },
  {
   "cell_type": "raw",
   "id": "0aeb1676",
   "metadata": {},
   "source": [
    "3. Create the Secret using kubectl apply:"
   ]
  },
  {
   "cell_type": "code",
   "execution_count": null,
   "id": "d84dbd45",
   "metadata": {},
   "outputs": [],
   "source": [
    "kubectl apply -f ./secret.yaml"
   ]
  },
  {
   "cell_type": "raw",
   "id": "f7691293",
   "metadata": {},
   "source": [
    "The output is similar to:"
   ]
  },
  {
   "cell_type": "code",
   "execution_count": null,
   "id": "2daf302c",
   "metadata": {},
   "outputs": [],
   "source": [
    "secret/mysecret created"
   ]
  },
  {
   "cell_type": "raw",
   "id": "84e10036",
   "metadata": {},
   "source": [
    "To verify that the Secret was created and to decode the Secret data, refer to Managing Secrets using kubectl."
   ]
  },
  {
   "cell_type": "markdown",
   "id": "0a5031d0",
   "metadata": {},
   "source": [
    "##### Specify unencoded data when creating a Secret"
   ]
  },
  {
   "cell_type": "raw",
   "id": "bdd0d826",
   "metadata": {},
   "source": [
    "For certain scenarios, you may wish to use the stringData field instead. This field allows you to put a non-base64 encoded string directly into the Secret, and the string will be encoded for you when the Secret is created or updated.\n",
    "\n",
    "A practical example of this might be where you are deploying an application that uses a Secret to store a configuration file, and you want to populate parts of that configuration file during your deployment process.\n",
    "\n",
    "For example, if your application uses the following configuration file:"
   ]
  },
  {
   "cell_type": "code",
   "execution_count": null,
   "id": "716c0ae0",
   "metadata": {},
   "outputs": [],
   "source": [
    "apiUrl: \"https://my.api.com/api/v1\"\n",
    "username: \"<user>\"\n",
    "password: \"<password>\""
   ]
  },
  {
   "cell_type": "raw",
   "id": "f92bbe04",
   "metadata": {},
   "source": [
    "You could store this in a Secret using the following definition:"
   ]
  },
  {
   "cell_type": "code",
   "execution_count": null,
   "id": "65521edc",
   "metadata": {},
   "outputs": [],
   "source": [
    "apiVersion: v1\n",
    "kind: Secret\n",
    "metadata:\n",
    "  name: mysecret\n",
    "type: Opaque\n",
    "stringData:\n",
    "  config.yaml: |\n",
    "    apiUrl: \"https://my.api.com/api/v1\"\n",
    "    username: <user>\n",
    "    password: <password>    "
   ]
  },
  {
   "cell_type": "raw",
   "id": "7580704b",
   "metadata": {},
   "source": [
    "When you retrieve the Secret data, the command returns the encoded values, and not the plaintext values you provided in stringData.\n",
    "\n",
    "For example, if you run the following command:"
   ]
  },
  {
   "cell_type": "raw",
   "id": "deb33cef",
   "metadata": {},
   "source": [
    "kubectl get secret mysecret -o yaml"
   ]
  },
  {
   "cell_type": "raw",
   "id": "2d952f4e",
   "metadata": {},
   "source": [
    "The output is similar to:"
   ]
  },
  {
   "cell_type": "code",
   "execution_count": null,
   "id": "150b5e6e",
   "metadata": {},
   "outputs": [],
   "source": [
    "apiVersion: v1\n",
    "data:\n",
    "  config.yaml: YXBpVXJsOiAiaHR0cHM6Ly9teS5hcGkuY29tL2FwaS92MSIKdXNlcm5hbWU6IHt7dXNlcm5hbWV9fQpwYXNzd29yZDoge3twYXNzd29yZH19\n",
    "kind: Secret\n",
    "metadata:\n",
    "  creationTimestamp: 2018-11-15T20:40:59Z\n",
    "  name: mysecret\n",
    "  namespace: default\n",
    "  resourceVersion: \"7225\"\n",
    "  uid: c280ad2e-e916-11e8-98f2-025000000001\n",
    "type: Opaque"
   ]
  },
  {
   "cell_type": "markdown",
   "id": "9795d06e",
   "metadata": {},
   "source": [
    "##### Specify both data and stringData"
   ]
  },
  {
   "cell_type": "raw",
   "id": "a598f2b6",
   "metadata": {},
   "source": [
    "If you specify a field in both data and stringData, the value from stringData is used.\n",
    "For example, if you define the following Secret:"
   ]
  },
  {
   "cell_type": "code",
   "execution_count": null,
   "id": "39bfb50c",
   "metadata": {},
   "outputs": [],
   "source": [
    "apiVersion: v1\n",
    "kind: Secret\n",
    "metadata:\n",
    "  name: mysecret\n",
    "type: Opaque\n",
    "data:\n",
    "  username: YWRtaW4=\n",
    "stringData:\n",
    "  username: administrator"
   ]
  },
  {
   "cell_type": "raw",
   "id": "d816adb7",
   "metadata": {},
   "source": [
    "The Secret object is created as follows:"
   ]
  },
  {
   "cell_type": "code",
   "execution_count": null,
   "id": "2ed74b3f",
   "metadata": {},
   "outputs": [],
   "source": [
    "apiVersion: v1\n",
    "data:\n",
    "  username: YWRtaW5pc3RyYXRvcg==\n",
    "kind: Secret\n",
    "metadata:\n",
    "  creationTimestamp: 2018-11-15T20:46:46Z\n",
    "  name: mysecret\n",
    "  namespace: default\n",
    "  resourceVersion: \"7579\"\n",
    "  uid: 91460ecb-e917-11e8-98f2-025000000001\n",
    "type: Opaque"
   ]
  },
  {
   "cell_type": "raw",
   "id": "b80ce7cc",
   "metadata": {},
   "source": [
    "YWRtaW5pc3RyYXRvcg== decodes to administrator."
   ]
  },
  {
   "cell_type": "markdown",
   "id": "94a0e0a1",
   "metadata": {},
   "source": [
    "##### Edit a Secret "
   ]
  },
  {
   "cell_type": "raw",
   "id": "5843d8cd",
   "metadata": {},
   "source": [
    "To edit the data in the Secret you created using a manifest, modify the data or stringData field in your manifest and apply the file to your cluster. You can edit an existing Secret object unless it is immutable.\n",
    "\n",
    "For example, if you want to change the password from the previous example to birdsarentreal, do the following:"
   ]
  },
  {
   "cell_type": "raw",
   "id": "dc1ad134",
   "metadata": {},
   "source": [
    "1. Encode the new password string:"
   ]
  },
  {
   "cell_type": "code",
   "execution_count": null,
   "id": "45076978",
   "metadata": {},
   "outputs": [],
   "source": [
    "echo -n 'birdsarentreal' | base64"
   ]
  },
  {
   "cell_type": "raw",
   "id": "174d5a7f",
   "metadata": {},
   "source": [
    "The output is similar to:"
   ]
  },
  {
   "cell_type": "code",
   "execution_count": null,
   "id": "b1ef921c",
   "metadata": {},
   "outputs": [],
   "source": [
    "YmlyZHNhcmVudHJlYWw="
   ]
  },
  {
   "cell_type": "raw",
   "id": "9ee1da0f",
   "metadata": {},
   "source": [
    "2. Update the data field with your new password string:"
   ]
  },
  {
   "cell_type": "code",
   "execution_count": null,
   "id": "7ca72523",
   "metadata": {},
   "outputs": [],
   "source": [
    "apiVersion: v1\n",
    "kind: Secret\n",
    "metadata:\n",
    "  name: mysecret\n",
    "type: Opaque\n",
    "data:\n",
    "  username: YWRtaW4=\n",
    "  password: YmlyZHNhcmVudHJlYWw="
   ]
  },
  {
   "cell_type": "raw",
   "id": "697ed8ef",
   "metadata": {},
   "source": [
    "3. Apply the manifest to your cluster:"
   ]
  },
  {
   "cell_type": "code",
   "execution_count": null,
   "id": "f9a477ac",
   "metadata": {},
   "outputs": [],
   "source": [
    "kubectl apply -f ./secret.yaml"
   ]
  },
  {
   "cell_type": "raw",
   "id": "9f652554",
   "metadata": {},
   "source": [
    "The output is similar to:"
   ]
  },
  {
   "cell_type": "raw",
   "id": "c4728f3d",
   "metadata": {},
   "source": [
    "secret/mysecret configured"
   ]
  },
  {
   "cell_type": "raw",
   "id": "8399060e",
   "metadata": {},
   "source": [
    "Kubernetes updates the existing Secret object. In detail, the kubectl tool notices that there is an existing Secret object with the same name. kubectl fetches the existing object, plans changes to it, and submits the changed Secret object to your cluster control plane.\n",
    "\n",
    "If you specified kubectl apply --server-side instead, kubectl uses Server Side Apply instead."
   ]
  },
  {
   "cell_type": "markdown",
   "id": "6d481782",
   "metadata": {},
   "source": [
    "##### Clean up"
   ]
  },
  {
   "cell_type": "raw",
   "id": "174da74c",
   "metadata": {},
   "source": [
    "To delete the Secret you have created:"
   ]
  },
  {
   "cell_type": "code",
   "execution_count": null,
   "id": "91cf796c",
   "metadata": {},
   "outputs": [],
   "source": [
    "kubectl delete secret mysecret"
   ]
  },
  {
   "cell_type": "markdown",
   "id": "d13e2f14",
   "metadata": {},
   "source": [
    "### Constraints on Secret names and data"
   ]
  },
  {
   "cell_type": "raw",
   "id": "79f0e989",
   "metadata": {},
   "source": [
    "The name of a Secret object must be a valid DNS subdomain name.\n",
    "\n",
    "You can specify the data and/or the stringData field when creating a configuration file for a Secret. The data and the stringData fields are optional. The values for all keys in the data field have to be base64-encoded strings. If the conversion to base64 string is not desirable, you can choose to specify the stringData field instead, which accepts arbitrary strings as values.\n",
    "\n",
    "The keys of data and stringData must consist of alphanumeric characters, -, _ or .. All key-value pairs in the stringData field are internally merged into the data field. If a key appears in both the data and the stringData field, the value specified in the stringData field takes precedence."
   ]
  },
  {
   "cell_type": "markdown",
   "id": "51cecbb0",
   "metadata": {},
   "source": [
    "### Size limit"
   ]
  },
  {
   "cell_type": "raw",
   "id": "2c5d5565",
   "metadata": {},
   "source": [
    "Individual secrets are limited to 1MiB in size. This is to discourage creation of very large secrets that could exhaust the API server and kubelet memory. However, creation of many smaller secrets could also exhaust memory. You can use a resource quota to limit the number of Secrets (or other resources) in a namespace."
   ]
  },
  {
   "cell_type": "markdown",
   "id": "04df28cd",
   "metadata": {},
   "source": [
    "### Editing a Secret"
   ]
  },
  {
   "cell_type": "raw",
   "id": "5e1137ad",
   "metadata": {},
   "source": [
    "You can edit an existing Secret using kubectl:"
   ]
  },
  {
   "cell_type": "code",
   "execution_count": null,
   "id": "d33f79e3",
   "metadata": {},
   "outputs": [],
   "source": [
    "kubectl edit secrets mysecret"
   ]
  },
  {
   "cell_type": "raw",
   "id": "19835566",
   "metadata": {},
   "source": [
    "This opens your default editor and allows you to update the base64 encoded Secret values in the data field; for example:"
   ]
  },
  {
   "cell_type": "code",
   "execution_count": null,
   "id": "381e5225",
   "metadata": {},
   "outputs": [],
   "source": [
    "# Please edit the object below. Lines beginning with a '#' will be ignored,\n",
    "# and an empty file will abort the edit. If an error occurs while saving this file, it will be\n",
    "# reopened with the relevant failures.\n",
    "#\n",
    "apiVersion: v1\n",
    "data:\n",
    "  username: YWRtaW4=\n",
    "  password: MWYyZDFlMmU2N2Rm\n",
    "kind: Secret\n",
    "metadata:\n",
    "  annotations:\n",
    "    kubectl.kubernetes.io/last-applied-configuration: { ... }\n",
    "  creationTimestamp: 2020-01-22T18:41:56Z\n",
    "  name: mysecret\n",
    "  namespace: default\n",
    "  resourceVersion: \"164619\"\n",
    "  uid: cfee02d6-c137-11e5-8d73-42010af00002\n",
    "type: Opaque"
   ]
  },
  {
   "cell_type": "raw",
   "id": "9dc76ebc",
   "metadata": {},
   "source": [
    "That example manifest defines a Secret with two keys in the data field: username and password. The values are Base64 strings in the manifest; however, when you use the Secret with a Pod then the kubelet provides the decoded data to the Pod and its containers.\n",
    "\n",
    "You can package many keys and values into one Secret, or use many Secrets, whichever is convenient."
   ]
  },
  {
   "cell_type": "markdown",
   "id": "2c09fcc6",
   "metadata": {},
   "source": [
    "### Using a Secret"
   ]
  },
  {
   "cell_type": "raw",
   "id": "60227a5a",
   "metadata": {},
   "source": [
    "Secrets can be mounted as data volumes or exposed as environment variables to be used by a container in a Pod. Secrets can also be used by other parts of the system, without being directly exposed to the Pod. For example, Secrets can hold credentials that other parts of the system should use to interact with external systems on your behalf.\n",
    "\n",
    "Secret volume sources are validated to ensure that the specified object reference actually points to an object of type Secret. Therefore, a Secret needs to be created before any Pods that depend on it.\n",
    "\n",
    "If the Secret cannot be fetched (perhaps because it does not exist, or due to a temporary lack of connection to the API server) the kubelet periodically retries running that Pod. The kubelet also reports an Event for that Pod, including details of the problem fetching the Secret."
   ]
  },
  {
   "cell_type": "markdown",
   "id": "9af4d1c9",
   "metadata": {},
   "source": [
    "### Optional Secrets"
   ]
  },
  {
   "cell_type": "raw",
   "id": "832964da",
   "metadata": {},
   "source": [
    "When you define a container environment variable based on a Secret, you can mark it as optional. The default is for the Secret to be required.\n",
    "\n",
    "None of a Pod's containers will start until all non-optional Secrets are available.\n",
    "\n",
    "If a Pod references a specific key in a Secret and that Secret does exist, but is missing the named key, the Pod fails during startup."
   ]
  },
  {
   "cell_type": "markdown",
   "id": "8671881f",
   "metadata": {},
   "source": [
    "### Using Secrets as files from a Pod"
   ]
  },
  {
   "cell_type": "raw",
   "id": "cde3725f",
   "metadata": {},
   "source": [
    "If you want to access data from a Secret in a Pod, one way to do that is to have Kubernetes make the value of that Secret be available as a file inside the filesystem of one or more of the Pod's containers.\n",
    "\n",
    "To configure that, you:\n",
    "\n",
    "1. Create a secret or use an existing one. Multiple Pods can reference the same secret.\n",
    "2. Modify your Pod definition to add a volume under .spec.volumes[]. Name the volume anything, and have a \n",
    "   .spec.volumes[].secret.secretName field equal to the name of the Secret object.\n",
    "3. Add a .spec.containers[].volumeMounts[] to each container that needs the secret. Specify \n",
    "   .spec.containers[].volumeMounts[].readOnly = true and .spec.containers[].volumeMounts[].mountPath to an unused directory \n",
    "   name where you would like the secrets to appear.\n",
    "4. Modify your image or command line so that the program looks for files in that directory. Each key in the secret data map \n",
    "   becomes the filename under mountPath."
   ]
  },
  {
   "cell_type": "raw",
   "id": "76766881",
   "metadata": {},
   "source": [
    "This is an example of a Pod that mounts a Secret named mysecret in a volume:"
   ]
  },
  {
   "cell_type": "code",
   "execution_count": null,
   "id": "8baff748",
   "metadata": {},
   "outputs": [],
   "source": [
    "apiVersion: v1\n",
    "kind: Pod\n",
    "metadata:\n",
    "  name: mypod\n",
    "spec:\n",
    "  containers:\n",
    "  - name: mypod\n",
    "    image: redis\n",
    "    volumeMounts:\n",
    "    - name: foo\n",
    "      mountPath: \"/etc/foo\"\n",
    "      readOnly: true\n",
    "  volumes:\n",
    "  - name: foo\n",
    "    secret:\n",
    "      secretName: mysecret\n",
    "      optional: false # default setting; \"mysecret\" must exist"
   ]
  },
  {
   "cell_type": "raw",
   "id": "8ef77a6b",
   "metadata": {},
   "source": [
    "Each Secret you want to use needs to be referred to in .spec.volumes.\n",
    "\n",
    "If there are multiple containers in the Pod, then each container needs its own volumeMounts block, but only one .spec.volumes is needed per Secret."
   ]
  },
  {
   "cell_type": "markdown",
   "id": "4d9b6b5a",
   "metadata": {},
   "source": [
    "### Projection of Secret keys to specific paths"
   ]
  },
  {
   "cell_type": "raw",
   "id": "00e55d29",
   "metadata": {},
   "source": [
    "You can also control the paths within the volume where Secret keys are projected. You can use the .spec.volumes[].secret.items field to change the target path of each key:"
   ]
  },
  {
   "cell_type": "code",
   "execution_count": null,
   "id": "098fe951",
   "metadata": {},
   "outputs": [],
   "source": [
    "apiVersion: v1\n",
    "kind: Pod\n",
    "metadata:\n",
    "  name: mypod\n",
    "spec:\n",
    "  containers:\n",
    "  - name: mypod\n",
    "    image: redis\n",
    "    volumeMounts:\n",
    "    - name: foo\n",
    "      mountPath: \"/etc/foo\"\n",
    "      readOnly: true\n",
    "  volumes:\n",
    "  - name: foo\n",
    "    secret:\n",
    "      secretName: mysecret\n",
    "      items:\n",
    "      - key: username\n",
    "        path: my-group/my-username"
   ]
  },
  {
   "cell_type": "raw",
   "id": "c1286f58",
   "metadata": {},
   "source": [
    "What will happen:\n",
    "\n",
    "1. the username key from mysecret is available to the container at the path /etc/foo/my-group/my-username instead of at \n",
    "   /etc/foo/username.\n",
    "2. the password key from that Secret object is not projected.\n",
    "   If .spec.volumes[].secret.items is used, only keys specified in items are projected. To consume all keys from the \n",
    "   Secret, all of them must be listed in the items field.\n",
    "\n",
    "If you list keys explicitly, then all listed keys must exist in the corresponding Secret. Otherwise, the volume is not created."
   ]
  },
  {
   "cell_type": "markdown",
   "id": "ff343283",
   "metadata": {},
   "source": [
    "### Consuming Secret values from volumes"
   ]
  },
  {
   "cell_type": "raw",
   "id": "a48fcb82",
   "metadata": {},
   "source": [
    "Inside the container that mounts a secret volume, the secret keys appear as files. The secret values are base64 decoded and stored inside these files.\n",
    "\n",
    "This is the result of commands executed inside the container from the example above:"
   ]
  },
  {
   "cell_type": "code",
   "execution_count": null,
   "id": "d14236b2",
   "metadata": {},
   "outputs": [],
   "source": [
    "ls /etc/foo/"
   ]
  },
  {
   "cell_type": "raw",
   "id": "daa050c3",
   "metadata": {},
   "source": [
    "The output is similar to:"
   ]
  },
  {
   "cell_type": "raw",
   "id": "73b0b318",
   "metadata": {},
   "source": [
    "username\n",
    "password"
   ]
  },
  {
   "cell_type": "code",
   "execution_count": null,
   "id": "a32d14b4",
   "metadata": {},
   "outputs": [],
   "source": [
    "cat /etc/foo/username"
   ]
  },
  {
   "cell_type": "raw",
   "id": "52534d9c",
   "metadata": {},
   "source": [
    "The output is similar to:"
   ]
  },
  {
   "cell_type": "raw",
   "id": "ce3105c7",
   "metadata": {},
   "source": [
    "admin"
   ]
  },
  {
   "cell_type": "code",
   "execution_count": null,
   "id": "2422766b",
   "metadata": {},
   "outputs": [],
   "source": [
    "cat /etc/foo/password"
   ]
  },
  {
   "cell_type": "raw",
   "id": "812b87df",
   "metadata": {},
   "source": [
    "The output is similar to:"
   ]
  },
  {
   "cell_type": "raw",
   "id": "5ebb81dd",
   "metadata": {},
   "source": [
    "1f2d1e2e67df"
   ]
  },
  {
   "cell_type": "raw",
   "id": "6a5cf4f7",
   "metadata": {},
   "source": [
    "The program in a container is responsible for reading the secret data from these files, as needed."
   ]
  },
  {
   "cell_type": "markdown",
   "id": "120dcb20",
   "metadata": {},
   "source": [
    "### Mounted Secrets are updated automatically"
   ]
  },
  {
   "cell_type": "raw",
   "id": "5c3d21e8",
   "metadata": {},
   "source": [
    "When a volume contains data from a Secret, and that Secret is updated, Kubernetes tracks this and updates the data in the volume, using an eventually-consistent approach."
   ]
  },
  {
   "cell_type": "raw",
   "id": "b2e07c63",
   "metadata": {},
   "source": [
    "Note: A container using a Secret as a subPath volume mount does not receive automated Secret updates."
   ]
  },
  {
   "cell_type": "raw",
   "id": "8e4e2b82",
   "metadata": {},
   "source": [
    "The kubelet keeps a cache of the current keys and values for the Secrets that are used in volumes for pods on that node. You can configure the way that the kubelet detects changes from the cached values. The configMapAndSecretChangeDetectionStrategy field in the kubelet configuration controls which strategy the kubelet uses. The default strategy is Watch.\n",
    "\n",
    "Updates to Secrets can be either propagated by an API watch mechanism (the default), based on a cache with a defined time-to-live, or polled from the cluster API server on each kubelet synchronisation loop.\n",
    "\n",
    "As a result, the total delay from the moment when the Secret is updated to the moment when new keys are projected to the Pod can be as long as the kubelet sync period + cache propagation delay, where the cache propagation delay depends on the chosen cache type (following the same order listed in the previous paragraph, these are: watch propagation delay, the configured cache TTL, or zero for direct polling)."
   ]
  },
  {
   "cell_type": "markdown",
   "id": "0a32fb8e",
   "metadata": {},
   "source": [
    "### Using Secrets as environment variables"
   ]
  },
  {
   "cell_type": "raw",
   "id": "70165b56",
   "metadata": {},
   "source": [
    "To use a Secret in an environment variable in a Pod:\n",
    "\n",
    "1. Create a Secret (or use an existing one). Multiple Pods can reference the same Secret.\n",
    "2. Modify your Pod definition in each container that you wish to consume the value of a secret key to add an environment  \n",
    "   variable for each secret key you wish to consume. The environment variable that consumes the secret key should populate \n",
    "   the secret's name and key in env[].valueFrom.secretKeyRef.\n",
    "3. Modify your image and/or command line so that the program looks for values in the specified environment variables.\n",
    "\n",
    "This is an example of a Pod that uses a Secret via environment variables:"
   ]
  },
  {
   "cell_type": "code",
   "execution_count": null,
   "id": "fcecdd29",
   "metadata": {},
   "outputs": [],
   "source": [
    "apiVersion: v1\n",
    "kind: Pod\n",
    "metadata:\n",
    "  name: secret-env-pod\n",
    "spec:\n",
    "  containers:\n",
    "  - name: mycontainer\n",
    "    image: redis\n",
    "    env:\n",
    "      - name: SECRET_USERNAME\n",
    "        valueFrom:\n",
    "          secretKeyRef:\n",
    "            name: mysecret\n",
    "            key: username\n",
    "            optional: false # same as default; \"mysecret\" must exist\n",
    "                            # and include a key named \"username\"\n",
    "      - name: SECRET_PASSWORD\n",
    "        valueFrom:\n",
    "          secretKeyRef:\n",
    "            name: mysecret\n",
    "            key: password\n",
    "            optional: false # same as default; \"mysecret\" must exist\n",
    "                            # and include a key named \"password\"\n",
    "  restartPolicy: Never"
   ]
  },
  {
   "cell_type": "markdown",
   "id": "0b8db454",
   "metadata": {},
   "source": [
    "### Invalid environment variables"
   ]
  },
  {
   "cell_type": "raw",
   "id": "3809ec7f",
   "metadata": {},
   "source": [
    "Secrets used to populate environment variables by the envFrom field that have keys that are considered invalid environment variable names will have those keys skipped. The Pod is allowed to start.\n",
    "\n",
    "If you define a Pod with an invalid variable name, the failed Pod startup includes an event with the reason set to InvalidVariableNames and a message that lists the skipped invalid keys. The following example shows a Pod that refers to a Secret named mysecret, where mysecret contains 2 invalid keys: 1badkey and 2alsobad."
   ]
  },
  {
   "cell_type": "code",
   "execution_count": null,
   "id": "10bb0011",
   "metadata": {},
   "outputs": [],
   "source": [
    "kubectl get events"
   ]
  },
  {
   "cell_type": "raw",
   "id": "65de31d0",
   "metadata": {},
   "source": [
    "The output is similar to:"
   ]
  },
  {
   "cell_type": "raw",
   "id": "3e23ae2d",
   "metadata": {},
   "source": [
    "LASTSEEN   FIRSTSEEN   COUNT     NAME            KIND      SUBOBJECT                         TYPE      REASON\n",
    "0s         0s          1         dapi-test-pod   Pod                                         Warning   \n",
    "\n",
    "InvalidEnvironmentVariableNames   kubelet, 127.0.0.1      Keys [1badkey, 2alsobad] from the EnvFrom secret default/mysecret \n",
    "were skipped since they are considered invalid environment variable names."
   ]
  },
  {
   "cell_type": "markdown",
   "id": "ebea2de5",
   "metadata": {},
   "source": [
    "### Consuming Secret values from environment variables "
   ]
  },
  {
   "cell_type": "raw",
   "id": "49ee91a4",
   "metadata": {},
   "source": [
    "Inside a container that consumes a Secret using environment variables, the secret keys appear as normal environment variables. The values of those variables are the base64 decoded values of the secret data.\n",
    "\n",
    "This is the result of commands executed inside the container from the example above:"
   ]
  },
  {
   "cell_type": "code",
   "execution_count": null,
   "id": "928fd5a8",
   "metadata": {},
   "outputs": [],
   "source": [
    "echo \"$SECRET_USERNAME\""
   ]
  },
  {
   "cell_type": "raw",
   "id": "5fc355d0",
   "metadata": {},
   "source": [
    "The output is similar to:"
   ]
  },
  {
   "cell_type": "code",
   "execution_count": null,
   "id": "612ef705",
   "metadata": {},
   "outputs": [],
   "source": [
    "admin"
   ]
  },
  {
   "cell_type": "code",
   "execution_count": null,
   "id": "75ad64b7",
   "metadata": {},
   "outputs": [],
   "source": [
    "echo \"$SECRET_PASSWORD\""
   ]
  },
  {
   "cell_type": "raw",
   "id": "c2f5c0c8",
   "metadata": {},
   "source": [
    "The output is similar to:"
   ]
  },
  {
   "cell_type": "code",
   "execution_count": null,
   "id": "23e84fc0",
   "metadata": {},
   "outputs": [],
   "source": [
    "1f2d1e2e67df"
   ]
  },
  {
   "cell_type": "raw",
   "id": "888b00e5",
   "metadata": {},
   "source": [
    "Note: If a container already consumes a Secret in an environment variable, a Secret update will not be seen by the container unless it is restarted. There are third party solutions for triggering restarts when secrets change."
   ]
  },
  {
   "cell_type": "markdown",
   "id": "006f5543",
   "metadata": {},
   "source": [
    "### 範例: As container environment variables "
   ]
  },
  {
   "cell_type": "raw",
   "id": "27ae0a8d",
   "metadata": {},
   "source": [
    "Create a secret"
   ]
  },
  {
   "cell_type": "code",
   "execution_count": null,
   "id": "74b04a95",
   "metadata": {},
   "outputs": [],
   "source": [
    "apiVersion: v1\n",
    "kind: Secret\n",
    "metadata:\n",
    "  name: mysecret\n",
    "type: Opaque\n",
    "data:\n",
    "  USER_NAME: YWRtaW4=\n",
    "  PASSWORD: MWYyZDFlMmU2N2Rm"
   ]
  },
  {
   "cell_type": "code",
   "execution_count": null,
   "id": "0dc01366",
   "metadata": {},
   "outputs": [],
   "source": [
    "Create the Secret:"
   ]
  },
  {
   "cell_type": "code",
   "execution_count": null,
   "id": "5cc350e4",
   "metadata": {},
   "outputs": [],
   "source": [
    "kubectl apply -f mysecret.yaml"
   ]
  },
  {
   "cell_type": "raw",
   "id": "ef2c6afe",
   "metadata": {},
   "source": [
    "Use envFrom to define all of the Secret's data as container environment variables. The key from the Secret becomes the environment variable name in the Pod."
   ]
  },
  {
   "cell_type": "code",
   "execution_count": null,
   "id": "eaf7f16a",
   "metadata": {},
   "outputs": [],
   "source": [
    "apiVersion: v1\n",
    "kind: Pod\n",
    "metadata:\n",
    "  name: secret-test-pod\n",
    "spec:\n",
    "  containers:\n",
    "    - name: test-container\n",
    "      image: registry.k8s.io/busybox\n",
    "      command: [ \"/bin/sh\", \"-c\", \"env\" ]\n",
    "      envFrom:\n",
    "      - secretRef:\n",
    "          name: mysecret\n",
    "  restartPolicy: Never"
   ]
  },
  {
   "cell_type": "raw",
   "id": "272a20f5",
   "metadata": {},
   "source": [
    "觀察有沒有成功"
   ]
  },
  {
   "cell_type": "code",
   "execution_count": null,
   "id": "94f84941",
   "metadata": {},
   "outputs": [],
   "source": [
    "kubectl logs secret-test-pod"
   ]
  },
  {
   "cell_type": "markdown",
   "id": "e8d83314",
   "metadata": {},
   "source": [
    "### 範例: Pod with SSH keys"
   ]
  },
  {
   "cell_type": "raw",
   "id": "5028b75a",
   "metadata": {},
   "source": [
    "Create a Secret containing some SSH keys:"
   ]
  },
  {
   "cell_type": "code",
   "execution_count": null,
   "id": "32acd582",
   "metadata": {},
   "outputs": [],
   "source": [
    "kubectl create secret generic ssh-key-secret --from-file=ssh-privatekey=/path/to/.ssh/id_rsa --from-file=ssh-publickey=/path/to/.ssh/id_rsa.pub"
   ]
  },
  {
   "cell_type": "raw",
   "id": "575384a9",
   "metadata": {},
   "source": [
    "The output is similar to:"
   ]
  },
  {
   "cell_type": "raw",
   "id": "80569fc5",
   "metadata": {},
   "source": [
    "secret \"ssh-key-secret\" created"
   ]
  },
  {
   "cell_type": "raw",
   "id": "9375a62a",
   "metadata": {},
   "source": [
    "You can also create a kustomization.yaml with a secretGenerator field containing ssh keys."
   ]
  },
  {
   "cell_type": "raw",
   "id": "efffcc03",
   "metadata": {},
   "source": [
    "Caution:\n",
    "Think carefully before sending your own SSH keys: other users of the cluster may have access to the Secret.\n",
    "\n",
    "You could instead create an SSH private key representing a service identity that you want to be accessible to all the users with whom you share the Kubernetes cluster, and that you can revoke if the credentials are compromised."
   ]
  },
  {
   "cell_type": "raw",
   "id": "b8dfe7ec",
   "metadata": {},
   "source": [
    "Now you can create a Pod which references the secret with the SSH key and consumes it in a volume:"
   ]
  },
  {
   "cell_type": "code",
   "execution_count": null,
   "id": "5baacfce",
   "metadata": {},
   "outputs": [],
   "source": [
    "apiVersion: v1\n",
    "kind: Pod\n",
    "metadata:\n",
    "  name: secret-test-pod\n",
    "  labels:\n",
    "    name: secret-test\n",
    "spec:\n",
    "  volumes:\n",
    "  - name: secret-volume\n",
    "    secret:\n",
    "      secretName: ssh-key-secret\n",
    "  containers:\n",
    "  - name: ssh-test-container\n",
    "    image: mySshImage\n",
    "    volumeMounts:\n",
    "    - name: secret-volume\n",
    "      readOnly: true\n",
    "      mountPath: \"/etc/secret-volume\""
   ]
  },
  {
   "cell_type": "raw",
   "id": "1971f888",
   "metadata": {},
   "source": [
    "When the container's command runs, the pieces of the key will be available in:"
   ]
  },
  {
   "cell_type": "raw",
   "id": "289210db",
   "metadata": {},
   "source": [
    "/etc/secret-volume/ssh-publickey\n",
    "/etc/secret-volume/ssh-privatekey"
   ]
  },
  {
   "cell_type": "raw",
   "id": "3fc09d77",
   "metadata": {},
   "source": [
    "The container is then free to use the secret data to establish an SSH connection."
   ]
  },
  {
   "cell_type": "markdown",
   "id": "05e847b6",
   "metadata": {},
   "source": [
    "### 範例:  Define a Command and Arguments for a Container"
   ]
  },
  {
   "cell_type": "raw",
   "id": "5bdf8f81",
   "metadata": {},
   "source": [
    "This example shows how to define commands and arguments when you run a container in a Pod"
   ]
  },
  {
   "cell_type": "markdown",
   "id": "d808ebc3",
   "metadata": {},
   "source": [
    "##### Define a command and arguments when you create a Pod"
   ]
  },
  {
   "cell_type": "raw",
   "id": "60c413e6",
   "metadata": {},
   "source": [
    "When you create a Pod, you can define a command and arguments for the containers that run in the Pod. To define a command, include the command field in the configuration file. To define arguments for the command, include the args field in the configuration file. The command and arguments that you define cannot be changed after the Pod is created.\n",
    "\n",
    "The command and arguments that you define in the configuration file override the default command and arguments provided by the container image. If you define args, but do not define a command, the default command is used with your new arguments."
   ]
  },
  {
   "cell_type": "raw",
   "id": "2d45889f",
   "metadata": {},
   "source": [
    "Note: The command field corresponds to entrypoint in some container runtimes."
   ]
  },
  {
   "cell_type": "raw",
   "id": "68ed4ae9",
   "metadata": {},
   "source": [
    "In this exercise, you create a Pod that runs one container. The configuration file for the Pod defines a command and two arguments:"
   ]
  },
  {
   "cell_type": "code",
   "execution_count": null,
   "id": "ac742e69",
   "metadata": {},
   "outputs": [],
   "source": [
    "apiVersion: v1\n",
    "kind: Pod\n",
    "metadata:\n",
    "  name: command-demo\n",
    "  labels:\n",
    "    purpose: demonstrate-command\n",
    "spec:\n",
    "  containers:\n",
    "  - name: command-demo-container\n",
    "    image: debian\n",
    "    command: [\"printenv\"]\n",
    "    args: [\"HOSTNAME\", \"KUBERNETES_PORT\"]\n",
    "  restartPolicy: OnFailure"
   ]
  },
  {
   "cell_type": "raw",
   "id": "db375d3f",
   "metadata": {},
   "source": [
    "Create a Pod based on the YAML configuration file:"
   ]
  },
  {
   "cell_type": "code",
   "execution_count": null,
   "id": "2aee4547",
   "metadata": {},
   "outputs": [],
   "source": [
    "kubectl apply -f https://k8s.io/examples/pods/commands.yaml"
   ]
  },
  {
   "cell_type": "raw",
   "id": "252c8e30",
   "metadata": {},
   "source": [
    "List the running Pods:"
   ]
  },
  {
   "cell_type": "code",
   "execution_count": null,
   "id": "52c548e1",
   "metadata": {},
   "outputs": [],
   "source": [
    "kubectl get pods"
   ]
  },
  {
   "cell_type": "raw",
   "id": "fbde952f",
   "metadata": {},
   "source": [
    "The output shows that the container that ran in the command-demo Pod has completed."
   ]
  },
  {
   "cell_type": "raw",
   "id": "70e8e67b",
   "metadata": {},
   "source": [
    "To see the output of the command that ran in the container, view the logs from the Pod:"
   ]
  },
  {
   "cell_type": "code",
   "execution_count": null,
   "id": "84466983",
   "metadata": {},
   "outputs": [],
   "source": [
    "kubectl logs command-demo"
   ]
  },
  {
   "cell_type": "raw",
   "id": "e2689b15",
   "metadata": {},
   "source": [
    "The output shows the values of the HOSTNAME and KUBERNETES_PORT environment variables:"
   ]
  },
  {
   "cell_type": "raw",
   "id": "4c27c389",
   "metadata": {},
   "source": [
    "command-demo\n",
    "tcp://10.3.240.1:443"
   ]
  },
  {
   "cell_type": "markdown",
   "id": "75bb1d25",
   "metadata": {},
   "source": [
    "##### Use environment variables to define arguments "
   ]
  },
  {
   "cell_type": "raw",
   "id": "349fa1c2",
   "metadata": {},
   "source": [
    "In the preceding example, you defined the arguments directly by providing strings. As an alternative to providing strings directly, you can define arguments by using environment variables:"
   ]
  },
  {
   "cell_type": "code",
   "execution_count": null,
   "id": "d251ed1c",
   "metadata": {},
   "outputs": [],
   "source": [
    "env:\n",
    "- name: MESSAGE\n",
    "  value: \"hello world\"\n",
    "command: [\"/bin/echo\"]\n",
    "args: [\"$(MESSAGE)\"]"
   ]
  },
  {
   "cell_type": "raw",
   "id": "89abe477",
   "metadata": {},
   "source": [
    "This means you can define an argument for a Pod using any of the techniques available for defining environment variables, including ConfigMaps and Secrets."
   ]
  },
  {
   "cell_type": "raw",
   "id": "5d21b44d",
   "metadata": {},
   "source": [
    "Note: The environment variable appears in parentheses, \"$(VAR)\". This is required for the variable to be expanded in the command or args field."
   ]
  },
  {
   "cell_type": "markdown",
   "id": "b5ad645a",
   "metadata": {},
   "source": [
    "##### Run a command in a shell"
   ]
  },
  {
   "cell_type": "raw",
   "id": "e13e0b62",
   "metadata": {},
   "source": [
    "In some cases, you need your command to run in a shell. For example, your command might consist of several commands piped together, or it might be a shell script. To run your command in a shell, wrap it like this:"
   ]
  },
  {
   "cell_type": "code",
   "execution_count": null,
   "id": "3c0b9b57",
   "metadata": {},
   "outputs": [],
   "source": [
    "command: [\"/bin/sh\"]\n",
    "args: [\"-c\", \"while true; do echo hello; sleep 10;done\"]"
   ]
  },
  {
   "cell_type": "code",
   "execution_count": null,
   "id": "37988c41",
   "metadata": {},
   "outputs": [],
   "source": []
  },
  {
   "cell_type": "code",
   "execution_count": null,
   "id": "56d02321",
   "metadata": {},
   "outputs": [],
   "source": []
  },
  {
   "cell_type": "code",
   "execution_count": null,
   "id": "e5c5ad8e",
   "metadata": {},
   "outputs": [],
   "source": []
  }
 ],
 "metadata": {
  "kernelspec": {
   "display_name": "Python 3",
   "language": "python",
   "name": "python3"
  },
  "language_info": {
   "codemirror_mode": {
    "name": "ipython",
    "version": 3
   },
   "file_extension": ".py",
   "mimetype": "text/x-python",
   "name": "python",
   "nbconvert_exporter": "python",
   "pygments_lexer": "ipython3",
   "version": "3.8.10"
  }
 },
 "nbformat": 4,
 "nbformat_minor": 5
}
