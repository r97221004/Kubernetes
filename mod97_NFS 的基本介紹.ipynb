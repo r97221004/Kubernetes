{
 "cells": [
  {
   "cell_type": "markdown",
   "id": "986cd9e4",
   "metadata": {},
   "source": [
    "參考鳥哥: https://linux.vbird.org/linux_server/centos6/0330nfs.php"
   ]
  },
  {
   "cell_type": "markdown",
   "id": "fc53582e",
   "metadata": {},
   "source": [
    "參考鳥哥: https://wizardforcel.gitbooks.io/vbird-linux-basic-4e/content/148.html"
   ]
  },
  {
   "cell_type": "raw",
   "id": "3309cd48",
   "metadata": {},
   "source": [
    "NFS 為 Network FileSystem 的簡稱，它的目的就是想讓不同的機器、不同的作業系統可以彼此分享個別的檔案啦！目前在 Unix Like 當中用來做為檔案伺服器是相當不錯的一個方案喔！基本上， Unix Like 主機連接到另一部 Unix Like 主機來分享彼此的檔案時，使用 NFS 要比 SAMBA 這個伺服器快速且方便的多了！此外， NFS 的設定真的很簡單，幾乎只要記得啟動 Remote Procedure Call 這個咚咚 (RPC, 就是 rpcbind 這個軟體啦！) 就一定可以架設的起來！真是不錯啊！ 如果是在 Linux PC cluster 的環境下，這個伺服器被使用的機率更是高的多喔！所以得來玩一玩啊！"
   ]
  },
  {
   "cell_type": "markdown",
   "id": "374ee00b",
   "metadata": {},
   "source": [
    "# NFS 的由來與其功能"
   ]
  },
  {
   "cell_type": "raw",
   "id": "cd3a74a7",
   "metadata": {},
   "source": [
    "NFS 這個藉由網路分享檔案系統的服務在架設的時候是很簡單的，不過，它最大的問題在於『權限』方面的概念！ 因為在用戶端與伺服器端可能必須要具備相同的帳號才能夠存取某些目錄或檔案。 另外，NFS 的啟動需要透過所謂的遠端程序呼叫 (RPC)，也就是說，我們並不是只要啟動 NFS 就好了， 還需要啟動 RPC 這個服務才行啊！\n",
    "\n",
    "因此，在開始進行 NFS 的設定之前，我們得先來瞭解一下，什麼是 NFS 呢？不然講了一堆也沒有用，對吧！ ^_^！ 底下就來談一談什麼是 NFS ，且 NFS 的啟動還需要什麼樣的協定啊！"
   ]
  },
  {
   "cell_type": "markdown",
   "id": "f2031efa",
   "metadata": {},
   "source": [
    "# 什麼是 NFS (Network FileSystem)"
   ]
  },
  {
   "cell_type": "raw",
   "id": "0a4e8bbe",
   "metadata": {},
   "source": [
    "NFS 就是 Network FileSystem 的縮寫，最早之前是由 Sun 這家公司所發展出來的。 它最大的功能就是可以透過網路，讓不同的機器、不同的作業系統、可以彼此分享個別的檔案 (share files)。所以，你也可以簡單的將他看做是一個檔案伺服器 (file server) 呢！這個 NFS 伺服器可以讓你的 PC 來將網路遠端的 NFS 伺服器分享的目錄，掛載到本地端的機器當中， 在本地端的機器看起來，那個遠端主機的目錄就好像是自己的一個磁碟分割槽一樣 (partition)！使用上面相當的便利！"
   ]
  },
  {
   "cell_type": "markdown",
   "id": "4dd92b0e",
   "metadata": {},
   "source": [
    "<img src='./img/31.png'>"
   ]
  },
  {
   "cell_type": "raw",
   "id": "6fa7c809",
   "metadata": {},
   "source": [
    "就如同上面的圖示一般，當我們的 NFS 伺服器設定好了分享出來的 /home/sharefile 這個目錄後，其他的 NFS 用戶端就可以將這個目錄掛載到自己系統上面的某個掛載點 (掛載點可以自訂)，例如前面圖示中的 NFS client 1 與 NFS client 2 掛載的目錄就不相同。我只要在 NFS client 1 系統中進入 /home/data/sharefile 內，就可以看到 NFS 伺服器系統內的 /home/sharefile 目錄下的所有資料了 (當然，權限要足夠啊！^_^)！這個 /home/data/sharefile 就好像 NFS client 1 自己機器裡面的一個 partition 喔！只要權限對了，那麼你可以使用 cp, cd, mv, rm... 等等磁碟或檔案相關的指令！真是他 X 的方便吶！"
   ]
  },
  {
   "cell_type": "raw",
   "id": "8671a724",
   "metadata": {},
   "source": [
    "好的，既然 NFS 是透過網路來進行資料的傳輸，那麼經由第二章談到的 socket pair 的概念你會知道 NFS 應該會使用一些埠口吧？那麼 NFS 使用哪個埠口來進行傳輸呢？基本上 NFS 這個服務的埠口開在 2049 ，但是由於檔案系統非常複雜，因此 NFS 還有其他的程序去啟動額外的埠口，但這些額外的埠口啟動的號碼是？ 答案是....不知道！ @_@ ！因為預設 NFS 用來傳輸的埠口是隨機選擇小於 1024 以下的埠口來使用的。咦！那用戶端怎麼知道你伺服器端使用那個埠口啊？此時就得要 遠端程序呼叫 (Remote Procedure Call, RPC) 的協定來輔助啦！底下我們就來談談什麼是 RPC？"
   ]
  },
  {
   "cell_type": "markdown",
   "id": "9b56032a",
   "metadata": {},
   "source": [
    "# 什麼是 RPC (Remote Procedure Call)"
   ]
  },
  {
   "cell_type": "raw",
   "id": "986d81a4",
   "metadata": {},
   "source": [
    "因為 NFS 支援的功能相當的多，而不同的功能都會使用不同的程式來啟動， 每啟動一個功能就會啟用一些埠口來傳輸資料，因此， NFS 的功能所對應的埠口才沒有固定住， 而是隨機取用一些未被使用的小於 1024 的埠口來作為傳輸之用。但如此一來又造成用戶端想要連上伺服器時的困擾， 因為用戶端得要知道伺服器端的相關埠口才能夠連線吧！\n",
    "\n",
    "此時我們就得需要遠端程序呼叫 (RPC) 的服務啦！RPC 最主要的功能就是在指定每個 NFS 功能所對應的 port number ，並且回報給用戶端，讓用戶端可以連結到正確的埠口上去。 那 RPC 又是如何知道每個 NFS 的埠口呢？這是因為當伺服器在啟動 NFS 時會隨機取用數個埠口，並主動的向 RPC 註冊，因此 RPC 可以知道每個埠口對應的 NFS 功能，然後 RPC 又是固定使用 port 111 來監聽用戶端的需求並回報用戶端正確的埠口， 所以當然可以讓 NFS 的啟動更為輕鬆愉快了！"
   ]
  },
  {
   "cell_type": "markdown",
   "id": "9511ee28",
   "metadata": {},
   "source": [
    "<img src='./img/32.png'>"
   ]
  },
  {
   "cell_type": "raw",
   "id": "a3803598",
   "metadata": {},
   "source": [
    "如上圖所示，當用戶端有 NFS 檔案存取需求時，他會如何向伺服器端要求資料呢？\n",
    "\n",
    "用戶端會向伺服器端的 RPC (port 111) 發出 NFS 檔案存取功能的詢問要求；\n",
    "伺服器端找到對應的已註冊的 NFS daemon 埠口後，會回報給用戶端；\n",
    "用戶端瞭解正確的埠口後，就可以直接與 NFS daemon 來連線。"
   ]
  },
  {
   "cell_type": "raw",
   "id": "62bfbf85",
   "metadata": {},
   "source": [
    "由於 NFS 的各項功能都必須要向 RPC 來註冊，如此一來 RPC 才能瞭解 NFS 這個服務的各項功能之 port number, PID, NFS 在伺服器所監聽的 IP 等等，而用戶端才能夠透過 RPC 的詢問找到正確對應的埠口。 也就是說，NFS 必須要有 RPC 存在時才能成功的提供服務，因此我們稱 NFS 為 RPC server 的一種。事實上，有很多這樣的伺服器都是向 RPC 註冊的，舉例來說，NIS (Network Information Service) 也是 RPC server 的一種呢。此外，由圖 13.1-2 你也會知道，不論是用戶端還是伺服器端，要使用 NFS 時，兩者都需要啟動 RPC 才行喔！"
   ]
  },
  {
   "cell_type": "markdown",
   "id": "15983f94",
   "metadata": {},
   "source": [
    "# NFS 啟動的 RPC daemons"
   ]
  },
  {
   "cell_type": "raw",
   "id": "b17c7848",
   "metadata": {},
   "source": [
    "我們現在知道 NFS 伺服器在啟動的時候就得要向 RPC 註冊，所以 NFS 伺服器也被稱為 RPC server 之一。 那麼 NFS 伺服器主要的任務是進行檔案系統的分享，檔案系統的分享則與權限有關。 所以 NFS 伺服器啟動時至少需要兩個 daemons ，一個管理用戶端是否能夠登入的問題， 一個管理用戶端能夠取得的權限。如果你還想要管理 quota 的話，那麼 NFS 還得要再載入其他的 RPC 程式就是了。我們以較單純的 NFS 伺服器來說：\n",
    "\n",
    "rpc.nfsd：\n",
    "最主要的 NFS 伺服器服務提供者。這個 daemon 主要的功能就是在管理用戶端是否能夠使用伺服器檔案系統掛載資訊等， 其中還包含這個登入者的 ID 的判別喔！\n",
    "\n",
    "rpc.mountd\n",
    "這個 daemon 主要的功能，則是在管理 NFS 的檔案系統哩！當用戶端順利的通過 rpc.nfsd 而登入伺服器之後，在他可以使用 NFS 伺服器提供的檔案之前，還會經過檔案使用權限 (就是那個 -rwxrwxrwx 與 owner, group 那幾個權限啦) 的認證程序！他會去讀 NFS 的設定檔 /etc/exports 來比對用戶端的權限，當通過這一關之後用戶端就可以取得使用 NFS 檔案的權限啦！(註：這個也是我們用來管理 NFS 分享之目錄的使用權限與安全設定的地方哩！)\n",
    "\n",
    "rpc.lockd (非必要)\n",
    "這個玩意兒可以用在管理檔案的鎖定 (lock) 用途。為何檔案需要『鎖定』呢？ 因為既然分享的 NFS 檔案可以讓用戶端使用，那麼當多個用戶端同時嘗試寫入某個檔案時， 就可能對於該檔案造成一些問題啦！這個 rpc.lockd 則可以用來克服這個問題。 但 rpc.lockd 必須要同時在用戶端與伺服器端都開啟才行喔！此外， rpc.lockd 也常與 rpc.statd 同時啟用。\n",
    "\n",
    "rpc.statd (非必要)\n",
    "可以用來檢查檔案的一致性，與 rpc.lockd 有關！若發生因為用戶端同時使用同一檔案造成檔案可能有所損毀時， rpc.statd 可以用來檢測並嘗試回復該檔案。與 rpc.lockd 同樣的，這個功能必須要在伺服器端與用戶端都啟動才會生效。\n",
    "\n",
    "\n",
    "上述這幾個 RPC 所需要的程序，其實都已經寫入到兩個基本的服務啟動腳本中了，那就是 nfs 以及 nfslock 囉！ 亦即是在 /etc/init.d/nfs, /etc/init.d/nfslock，與伺服器較有關的寫入在 nfs 服務中，而與用戶端的 rpc.lockd 之類的，就設定於 nfslock 服務中。"
   ]
  },
  {
   "cell_type": "markdown",
   "id": "419bf7cc",
   "metadata": {},
   "source": [
    "# NFS 的檔案存取權限"
   ]
  },
  {
   "cell_type": "raw",
   "id": "b4aff113",
   "metadata": {},
   "source": [
    "略"
   ]
  },
  {
   "cell_type": "markdown",
   "id": "781b7730",
   "metadata": {},
   "source": [
    "# NFS Server 端的設定"
   ]
  },
  {
   "cell_type": "raw",
   "id": "6bca1d5b",
   "metadata": {},
   "source": [
    "既然要使用 NFS 的話，就得要安裝 NFS 所需要的軟體了！底下讓我們查詢一下系統有無安裝所需要的軟體， NFS 軟體的架構以及如何設定 NFS 伺服器吧"
   ]
  },
  {
   "cell_type": "markdown",
   "id": "4e4a478c",
   "metadata": {},
   "source": [
    "# 所需要的軟體"
   ]
  },
  {
   "cell_type": "raw",
   "id": "5cfe670d",
   "metadata": {},
   "source": [
    "以 CentOS 6.x 為例的話，要設定好 NFS 伺服器我們必須要有兩個軟體才行，分別是：\n",
    "\n",
    "1. RPC 主程式：rpcbind\n",
    "\n",
    "就如同剛剛提的到，我們的 NFS 其實可以被視為一個 RPC 服務，而要啟動任何一個 RPC 服務之前，我們都需要做好 port 的對應 (mapping) 的工作才行，這個工作其實就是『 rpcbind 』這個服務所負責的！也就是說， 在啟動任何一個 RPC 服務之前，我們都需要啟動 rpcbind 才行！ (在 CentOS 5.x 以前這個軟體稱為 portmap，在 CentOS 6.x 之後才稱為 rpcbind 的！)\n",
    "\n",
    "2. NFS 主程式：nfs-utils\n",
    "\n",
    "就是提供 rpc.nfsd 及 rpc.mountd 這兩個 NFS daemons 與其他相關 documents 與說明文件、執行檔等的軟體！這個就是 NFS 服務所需要的主要軟體啦！一定要有喔！\n",
    "\n",
    "\n",
    "好了，知道我們需要這兩個軟體之後，現在幹嘛？趕快去你的系統先用 RPM 看一下有沒有這兩個軟體啦！ 沒有的話趕快用 RPM 或 yum 去安裝喔！不然就玩不下去了！"
   ]
  },
  {
   "cell_type": "markdown",
   "id": "4e76dd1f",
   "metadata": {},
   "source": [
    "### 範例: centOS"
   ]
  },
  {
   "cell_type": "raw",
   "id": "f042f98a",
   "metadata": {},
   "source": [
    "例題：\n",
    "\n",
    "請問我的主機是以 RPM 為套件管理的 Linux distribution ，例如 Red Hat, CentOS 與 SuSE 等版本，那麼我要如何知道我的主機裡面是否已經安裝了 rpcbind 與 nfs 相關的軟體呢？\n",
    "答：\n",
    "簡單的使用『 rpm -qa | grep nfs 』與『 rpm -qa | grep rpcbind 』即可知道啦！如果沒有安裝的話， 在 CentOS 內可以使用『 yum install nfs-utils 』來安裝！"
   ]
  },
  {
   "cell_type": "markdown",
   "id": "804df671",
   "metadata": {},
   "source": [
    "### 範例: 在Ubuntu上安裝和配置NFS服務器"
   ]
  },
  {
   "cell_type": "markdown",
   "id": "bc3f2921",
   "metadata": {},
   "source": [
    "##### NFS server setup"
   ]
  },
  {
   "cell_type": "raw",
   "id": "5dddd305",
   "metadata": {},
   "source": [
    "install NFS server and create directory for our exports"
   ]
  },
  {
   "cell_type": "code",
   "execution_count": null,
   "id": "4dec8f38",
   "metadata": {},
   "outputs": [],
   "source": [
    "sudo apt-get install -y nfs-kernel-server\n",
    "sudo mkdir -p /export/volumes\n",
    "sudo mkdir -p /export/volumes/pod"
   ]
  },
  {
   "cell_type": "markdown",
   "id": "757446db",
   "metadata": {},
   "source": [
    "config NFS export"
   ]
  },
  {
   "cell_type": "code",
   "execution_count": null,
   "id": "d8b20074",
   "metadata": {},
   "outputs": [],
   "source": [
    "sudo bash -c 'echo \"/export/volumes *(rw,no_root_squash,no_subtree_check)\" > /etc/exports'\n",
    "cat /etc/exports\n",
    "sudo systemctl restart nfs-kernel-server.service"
   ]
  },
  {
   "cell_type": "raw",
   "id": "f314b85f",
   "metadata": {},
   "source": [
    "注意如果 nfs server 是掛在 Azure 的虛擬機上時，Azure 的虛擬機預設外不是 ping 不到外部 IP 的。要設定 Allow ICMP。port 號是 *，表示全部。"
   ]
  },
  {
   "cell_type": "raw",
   "id": "6618bc0d",
   "metadata": {},
   "source": [
    "要跟 nfs server 溝通需要通過 tcp 2049 與 udp 4046 port，所以也需要打開。"
   ]
  },
  {
   "cell_type": "markdown",
   "id": "2e442126",
   "metadata": {},
   "source": [
    "##### NFS client test"
   ]
  },
  {
   "cell_type": "raw",
   "id": "b42d1453",
   "metadata": {},
   "source": [
    "安裝客戶端所需套件"
   ]
  },
  {
   "cell_type": "raw",
   "id": "22a9f2de",
   "metadata": {},
   "source": [
    " sudo apt-get install -y nfs-common"
   ]
  },
  {
   "cell_type": "raw",
   "id": "f2e84543",
   "metadata": {},
   "source": [
    "要將 nfs-server-address 改成 nfs server 的 ip，以下指令是將 server 的目錄 /export/volumes 與 client 端的目錄 /mnt/ 綁定"
   ]
  },
  {
   "cell_type": "code",
   "execution_count": null,
   "id": "1a871b26",
   "metadata": {},
   "outputs": [],
   "source": [
    "udo mount -t nfs nfs-server-address:/export/volumes /mnt/"
   ]
  },
  {
   "cell_type": "raw",
   "id": "6609f3fe",
   "metadata": {},
   "source": [
    "查看綁定有沒有成功"
   ]
  },
  {
   "cell_type": "code",
   "execution_count": null,
   "id": "caaf0df5",
   "metadata": {},
   "outputs": [],
   "source": [
    "mount | grep nfs\n",
    "df -h "
   ]
  },
  {
   "cell_type": "raw",
   "id": "3e6841b7",
   "metadata": {},
   "source": [
    "刪除剛剛的綁定"
   ]
  },
  {
   "cell_type": "code",
   "execution_count": null,
   "id": "b433c50c",
   "metadata": {},
   "outputs": [],
   "source": [
    "sudo umount /mnt"
   ]
  }
 ],
 "metadata": {
  "kernelspec": {
   "display_name": "Python 3",
   "language": "python",
   "name": "python3"
  },
  "language_info": {
   "codemirror_mode": {
    "name": "ipython",
    "version": 3
   },
   "file_extension": ".py",
   "mimetype": "text/x-python",
   "name": "python",
   "nbconvert_exporter": "python",
   "pygments_lexer": "ipython3",
   "version": "3.8.10"
  }
 },
 "nbformat": 4,
 "nbformat_minor": 5
}
