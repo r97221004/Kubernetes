{
 "cells": [
  {
   "cell_type": "markdown",
   "id": "89c8ef8a",
   "metadata": {},
   "source": [
    "# 什麼是 Kubernetes（K8s）"
   ]
  },
  {
   "cell_type": "raw",
   "id": "a762dcff",
   "metadata": {},
   "source": [
    "K8s 全名為 Kubernetes，之所以被稱作 K8s，是因為名稱的 k 與 s 之間有 8 個英文字母而得其名。K8s 是一種可用來自動化部屬、擴展及管理多個容器（Container）的系統，適用於當容器數量增加，需要穩定容器環境，以及管理資源或權限分配的狀況。而 K8s 最常與 Docker Swarm 拿來做比較，兩者不同的是，Docker Swarm 必須建構在 Docker 的架構下，功能侷限、無法跳脫。K8s 則因功能廣泛，而逐漸取代了 Docker Swarm 在市場上的地位。"
   ]
  },
  {
   "cell_type": "markdown",
   "id": "0f089b4e",
   "metadata": {},
   "source": [
    "### 網友這麼說:"
   ]
  },
  {
   "cell_type": "raw",
   "id": "ca4c4ebf",
   "metadata": {},
   "source": [
    "Kubernetes 給人最直接的感受是，相較於系統複雜的設定，只需要一名系統兼運維的工程師負責部署與維護、其他人就能更專注在開發上，即便像我們這樣『小』團隊、也是有能力面對複雜的系統設計，這並不是因為我們做了什麼，而是 Kubernetes 已經幫我們做了很多事情。"
   ]
  },
  {
   "cell_type": "markdown",
   "id": "d8624566",
   "metadata": {},
   "source": [
    "<font color=red>DevOps 工程師的重要性</font>"
   ]
  },
  {
   "cell_type": "markdown",
   "id": "0ffa18d6",
   "metadata": {},
   "source": [
    "# K8s 元件說明︱Container、Pod、Node"
   ]
  },
  {
   "cell_type": "raw",
   "id": "d413198d",
   "metadata": {},
   "source": [
    "那麼 K8s 如何幫助我們管理及部屬 Container？要瞭解 K8s 如何運作，就要先瞭解它的元件及架構。"
   ]
  },
  {
   "cell_type": "markdown",
   "id": "e55a43ab",
   "metadata": {},
   "source": [
    "<img src='./img/1.svg'>"
   ]
  },
  {
   "cell_type": "markdown",
   "id": "98aa0d8f",
   "metadata": {},
   "source": [
    "### Container"
   ]
  },
  {
   "cell_type": "raw",
   "id": "bc77c7df",
   "metadata": {},
   "source": [
    "Container 中文稱作容器，指的是將應用程式沙箱化，且包含應用程式所需的關聯系統程式、必要的執行檔等內容，讓其無須再透過另外部署安裝，即可在各種容器平台中執行。"
   ]
  },
  {
   "cell_type": "markdown",
   "id": "d436b245",
   "metadata": {},
   "source": [
    "### Pod"
   ]
  },
  {
   "cell_type": "raw",
   "id": "cfebcfda",
   "metadata": {},
   "source": [
    "Pod 則為 K8s 運作的最小單位，中文可稱作容器集，意即一個 Pod 內部可含一個或是多個 Container（視運行需求會有一或多個容器同時運行）。而一個 Pod 會對應到一個應用程式，同一個 Pod 中的 Containers 則會共享相同的網路資源（如：IP地址、主機名稱等）。"
   ]
  },
  {
   "cell_type": "markdown",
   "id": "bac78def",
   "metadata": {},
   "source": [
    "### Node"
   ]
  },
  {
   "cell_type": "raw",
   "id": "80a90556",
   "metadata": {},
   "source": [
    "Node 則還分為 2 種：\n",
    "\n",
    "1. Worker Node\n",
    "   Worker Node 為主要執行的運行節點，且一個 Worker Node 會對應一台機器。內部還可細分為 kubelet、kube-proxy 及 Container Runtime 3\n",
    "   個元件。\n",
    "\n",
    "2. Control Plane\n",
    "   舊簡稱 Master Node，負責各個 Worker Node 的管理，可稱作是 K8S 的發號施令的中樞。其內部由 kube-apiserver、etcd、kube-scheduler    以及 kube-controller-manager 4 個元件組成。"
   ]
  },
  {
   "cell_type": "markdown",
   "id": "376a4d88",
   "metadata": {},
   "source": [
    "# 為什麼使用 K8s"
   ]
  },
  {
   "cell_type": "markdown",
   "id": "0bb9a34c",
   "metadata": {},
   "source": [
    "### 網友這麼說:"
   ]
  },
  {
   "cell_type": "raw",
   "id": "21f42e09",
   "metadata": {},
   "source": [
    "過去曾參與過大型專案開發，上線產品、除錯、與測試功能都包在一起。每次發布新功能、修改代碼都非常膽戰心驚，哪怕是一個 bug 也會影響整個系統效能。而相較於這樣單體架構(Monolithic Architecture) 的服務， 微服務(microservices) 架構大大減少程式複雜度，將每個服務依照各自業務需求獨立出來，以 Rest API 互相構通。而 microservices 概念的導入，改善了我們過去所面臨到的問題：\n",
    "\n",
    "- 將龐大的專案拆成幾個不同面向的小專案，當代碼夠小、容易理解、開發效率能被提高 (新人也能更容易入手)\n",
    "- 各個服務之間也可獨立部署，不因一個服務癱瘓而癱瘓整個系統\n",
    "- 各團隊可以依照自己的需求使用適合自己的語言、資料庫開發\n",
    "- 每個服務也可以依照自己的需求，選擇在不同機器上部署\n",
    "- 然而，當系統中的微服務越來越多時，管理上也會面臨到很大的挑戰。Kubenetes 的出現讓我們管理這些微服務程式更加方便。"
   ]
  },
  {
   "cell_type": "markdown",
   "id": "f79c777f",
   "metadata": {},
   "source": [
    "# 使用 K8s 的好處"
   ]
  },
  {
   "cell_type": "markdown",
   "id": "9b82668c",
   "metadata": {},
   "source": [
    "### 可以跑在任何地方 "
   ]
  },
  {
   "cell_type": "raw",
   "id": "9de86fab",
   "metadata": {},
   "source": [
    "Kubernetes 可以運行在任何地方：不論是私有雲、公有雲(像是 AWS、Azure、Google Cloud Platform )、或是混合雲。"
   ]
  },
  {
   "cell_type": "markdown",
   "id": "c6ffa232",
   "metadata": {},
   "source": [
    "### 高度模組化 "
   ]
  },
  {
   "cell_type": "code",
   "execution_count": null,
   "id": "f0a8eb5c",
   "metadata": {},
   "outputs": [],
   "source": [
    "每個服務都被切成一個 container ，不論是要做修改、擴張、甚至將服務遷移到另外一台機器，都可以快速被部署。"
   ]
  },
  {
   "cell_type": "markdown",
   "id": "5af19ca5",
   "metadata": {},
   "source": [
    "### 服務、系統部屬更方便"
   ]
  },
  {
   "cell_type": "raw",
   "id": "26639bb7",
   "metadata": {},
   "source": [
    "由於容器可在任何容器平台運行，因此無論是同時將多個 Container 部屬到一台機器，或是多個 Container 部屬至多台機器都不是問題。"
   ]
  },
  {
   "cell_type": "markdown",
   "id": "dbbc5ad1",
   "metadata": {},
   "source": [
    "### 自動化管理，重啟、擴張皆可行"
   ]
  },
  {
   "cell_type": "raw",
   "id": "206594fc",
   "metadata": {},
   "source": [
    "且 K8s 可自動偵測、管理各 Container 的狀態，若有需要可對 Container 執行自動擴展。而若偵測到有 Container 發生故障，也可自動重啟以確保服務正確且持續地運行。"
   ]
  },
  {
   "cell_type": "markdown",
   "id": "5d46a549",
   "metadata": {},
   "source": [
    "### 彈性化運用"
   ]
  },
  {
   "cell_type": "raw",
   "id": "c80c5025",
   "metadata": {},
   "source": [
    "K8s 中每個服務、系統皆可獨立部屬，因此不會因為其中一個系統出現錯誤而影響整個運作，甚至各 Container 也可依各自需求來修改，運用上擁有高度彈性化。"
   ]
  },
  {
   "cell_type": "markdown",
   "id": "cb4518ec",
   "metadata": {},
   "source": [
    "### 活躍的社群"
   ]
  },
  {
   "cell_type": "raw",
   "id": "24340ce4",
   "metadata": {},
   "source": [
    "Kubernetes 是開源的 ，受到社群的關注度也非常高。"
   ]
  },
  {
   "cell_type": "raw",
   "id": "51c73834",
   "metadata": {},
   "source": [
    "...."
   ]
  },
  {
   "cell_type": "markdown",
   "id": "58a32c6f",
   "metadata": {},
   "source": [
    "<font color=red>Auto Scaling、CICD更簡便(透過yaml定義部署程序)、跨平台、配合大量採用 PaaS </font>"
   ]
  },
  {
   "cell_type": "markdown",
   "id": "200f231f",
   "metadata": {},
   "source": [
    "# 歸納"
   ]
  },
  {
   "cell_type": "markdown",
   "id": "e92a744e",
   "metadata": {},
   "source": [
    "### K8s 導入前的準備"
   ]
  },
  {
   "cell_type": "raw",
   "id": "c5e564a5",
   "metadata": {},
   "source": [
    "功能盤點: 複雜度評估\n",
    "使用微服務架構"
   ]
  },
  {
   "cell_type": "markdown",
   "id": "584ae492",
   "metadata": {},
   "source": [
    "### 開始重構"
   ]
  },
  {
   "cell_type": "raw",
   "id": "0921e99e",
   "metadata": {},
   "source": [
    "1. Infra建設\n",
    "2. k8s CI/CD流程\n",
    "3. API Gateway\n",
    "4. 最小可行(Hello world)\n",
    "5. 功能播離"
   ]
  }
 ],
 "metadata": {
  "kernelspec": {
   "display_name": "Python 3",
   "language": "python",
   "name": "python3"
  },
  "language_info": {
   "codemirror_mode": {
    "name": "ipython",
    "version": 3
   },
   "file_extension": ".py",
   "mimetype": "text/x-python",
   "name": "python",
   "nbconvert_exporter": "python",
   "pygments_lexer": "ipython3",
   "version": "3.8.10"
  }
 },
 "nbformat": 4,
 "nbformat_minor": 5
}
