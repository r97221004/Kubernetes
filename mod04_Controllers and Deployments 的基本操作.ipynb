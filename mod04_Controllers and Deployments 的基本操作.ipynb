{
 "cells": [
  {
   "cell_type": "markdown",
   "id": "91b9d3a4",
   "metadata": {},
   "source": [
    "# Controller Manager"
   ]
  },
  {
   "cell_type": "markdown",
   "id": "59e1c57d",
   "metadata": {},
   "source": [
    "參考官方資料: https://kubernetes.io/docs/concepts/architecture/controller/"
   ]
  },
  {
   "cell_type": "raw",
   "id": "b4fc9400",
   "metadata": {},
   "source": [
    "A controller tracks at least one Kubernetes resource type. These objects have a spec field that represents the desired state. The controller(s) for that resource are responsible for making the current state come closer to that desired state.\n",
    "\n",
    "- kube controller Manager\n",
    "- cloud controller Manager( 跟雲有關的集群才會用到 )"
   ]
  },
  {
   "cell_type": "raw",
   "id": "48de9745",
   "metadata": {},
   "source": [
    "注意 Controller Manager 是在 Master 的節點裡負責統籌各個 Controller 的 Manager"
   ]
  },
  {
   "cell_type": "markdown",
   "id": "971f9381",
   "metadata": {},
   "source": [
    "<img src='./img/12.png'>"
   ]
  },
  {
   "cell_type": "markdown",
   "id": "efe9b69f",
   "metadata": {},
   "source": [
    "# Controllers"
   ]
  },
  {
   "cell_type": "raw",
   "id": "07aea263",
   "metadata": {},
   "source": [
    "Pod Controllers\n",
    "\n",
    "- ReplicaSet\n",
    "- Deployment\n",
    "- DaemonSet\n",
    "- StatefulSet\n",
    "- Job\n",
    "- CronJob\n",
    "\n",
    "Other Controllers\n",
    "\n",
    "- Node\n",
    "- Service\n",
    "- Endpoint"
   ]
  },
  {
   "cell_type": "markdown",
   "id": "686ceb5a",
   "metadata": {},
   "source": [
    "# System Pods"
   ]
  },
  {
   "cell_type": "raw",
   "id": "a4970902",
   "metadata": {},
   "source": [
    "下面的指令會得到當前 namespace 下的所有資源。"
   ]
  },
  {
   "cell_type": "code",
   "execution_count": null,
   "id": "3f6c0e4e",
   "metadata": {},
   "outputs": [],
   "source": [
    "kubectl get all "
   ]
  },
  {
   "cell_type": "raw",
   "id": "1ab2fa49",
   "metadata": {},
   "source": [
    "加入短選項 -A 會得到所有 namespaces 下的所有資源。"
   ]
  },
  {
   "cell_type": "code",
   "execution_count": null,
   "id": "313e9604",
   "metadata": {},
   "outputs": [],
   "source": [
    "kubectl get all -A"
   ]
  },
  {
   "cell_type": "raw",
   "id": "d52482a0",
   "metadata": {},
   "source": [
    "取得 kube-system 下，所有的 daemonset 資源。"
   ]
  },
  {
   "cell_type": "code",
   "execution_count": null,
   "id": "d6c1fc5c",
   "metadata": {},
   "outputs": [],
   "source": [
    "kubectl get daemonset --namespace kube-system"
   ]
  },
  {
   "cell_type": "raw",
   "id": "0289901e",
   "metadata": {},
   "source": [
    "取得 kube-system 下，名為 coredns 的 deployment。"
   ]
  },
  {
   "cell_type": "code",
   "execution_count": null,
   "id": "6617e0a2",
   "metadata": {},
   "outputs": [],
   "source": [
    "kubectl get deployment coredns --namespace kube-system"
   ]
  },
  {
   "cell_type": "markdown",
   "id": "00b7f8b1",
   "metadata": {},
   "source": [
    "# Labels"
   ]
  },
  {
   "cell_type": "raw",
   "id": "5372226b",
   "metadata": {},
   "source": [
    "- Used to organize resources: Pod, Nodes and more\n",
    "- Label Selectors are used to select/query Objects"
   ]
  },
  {
   "cell_type": "markdown",
   "id": "45bbd34a",
   "metadata": {},
   "source": [
    "### Add labels"
   ]
  },
  {
   "cell_type": "markdown",
   "id": "4a4f2749",
   "metadata": {},
   "source": [
    "##### 方法一: Declaratively in a Manifest in YAML"
   ]
  },
  {
   "cell_type": "raw",
   "id": "50f1443f",
   "metadata": {},
   "source": [
    "這樣會直接創建三個 pod"
   ]
  },
  {
   "cell_type": "raw",
   "id": "5cd0d505",
   "metadata": {},
   "source": [
    "labels.yaml"
   ]
  },
  {
   "cell_type": "code",
   "execution_count": null,
   "id": "47a28a9a",
   "metadata": {},
   "outputs": [],
   "source": [
    "apiVersion: v1\n",
    "kind: Pod\n",
    "metadata:\n",
    "  name: nginx-pod-1\n",
    "  labels:\n",
    "    app: v1\n",
    "    tier: PROD\n",
    "spec:\n",
    "  containers:\n",
    "  - name: nginx\n",
    "    image: nginx\n",
    "---\n",
    "apiVersion: v1\n",
    "kind: Pod\n",
    "metadata:\n",
    "  name: nginx-pod-2\n",
    "  labels:\n",
    "    app: v1\n",
    "    tier: ACC\n",
    "spec:\n",
    "  containers:\n",
    "  - name: nginx\n",
    "    image: nginx\n",
    "---\n",
    "apiVersion: v1\n",
    "kind: Pod\n",
    "metadata:\n",
    "  name: nginx-pod-3\n",
    "  labels:\n",
    "    app: v1\n",
    "    tier: TEST\n",
    "spec:\n",
    "  containers:\n",
    "  - name: nginx\n",
    "    image: nginx"
   ]
  },
  {
   "cell_type": "markdown",
   "id": "f9885678",
   "metadata": {},
   "source": [
    "##### 方法二:  Imperatively with kubectl"
   ]
  },
  {
   "cell_type": "code",
   "execution_count": null,
   "id": "30058239",
   "metadata": {},
   "outputs": [],
   "source": [
    "kubectl label pod nginx-pod-1 tier=PROD app=v1\n",
    "kubectl label pod nginx-pod-2 tier=ACC app=v1\n",
    "kubectl label pod nginx-pod-3 tier=TEST app=v1"
   ]
  },
  {
   "cell_type": "markdown",
   "id": "8352702c",
   "metadata": {},
   "source": [
    "### Update labels"
   ]
  },
  {
   "cell_type": "raw",
   "id": "b309d3cd",
   "metadata": {},
   "source": [
    "更新 labels 一樣可以使用同上的兩種方式。我們就不在重複。但在使用 imperative 的方法時，要多加入長選項 --overwrite ，不然會出錯，它會顯示 key 已經存在。"
   ]
  },
  {
   "cell_type": "code",
   "execution_count": null,
   "id": "fb2f5050",
   "metadata": {},
   "outputs": [],
   "source": [
    "kubectl label pod nginx-pod-1 tier=ACC app=v1 --overwrite"
   ]
  },
  {
   "cell_type": "markdown",
   "id": "65e02f75",
   "metadata": {},
   "source": [
    "### Delete labels"
   ]
  },
  {
   "cell_type": "raw",
   "id": "674caa65",
   "metadata": {},
   "source": [
    "在要刪除的 key 後面加一個符號 - 即可。"
   ]
  },
  {
   "cell_type": "code",
   "execution_count": null,
   "id": "7da52892",
   "metadata": {},
   "outputs": [],
   "source": [
    "kubectl label pod nginx-pod-1 tier-"
   ]
  },
  {
   "cell_type": "markdown",
   "id": "d2375260",
   "metadata": {},
   "source": [
    "### Querying using labels and selectors"
   ]
  },
  {
   "cell_type": "raw",
   "id": "7f110ff7",
   "metadata": {},
   "source": [
    "注意短選項 -l 與長選項 --selector 有相同的效果"
   ]
  },
  {
   "cell_type": "raw",
   "id": "9c486a71",
   "metadata": {},
   "source": [
    "只選取標籤有 tier=PROD 的 pods。"
   ]
  },
  {
   "cell_type": "code",
   "execution_count": null,
   "id": "443a93c4",
   "metadata": {},
   "outputs": [],
   "source": [
    "kubectl get pods --show-labels\n",
    "kubectl get pods --selector tier=PROD"
   ]
  },
  {
   "cell_type": "markdown",
   "id": "8b812a0d",
   "metadata": {},
   "source": [
    "---"
   ]
  },
  {
   "cell_type": "raw",
   "id": "720e2a66",
   "metadata": {},
   "source": [
    "選取標籤有 tier=PROD 或 tier=TEST 的 pods。"
   ]
  },
  {
   "cell_type": "code",
   "execution_count": null,
   "id": "332e1dcc",
   "metadata": {},
   "outputs": [],
   "source": [
    "kubectl get pods -l 'tier in (PROD, TEST)'"
   ]
  },
  {
   "cell_type": "markdown",
   "id": "ddd61d4b",
   "metadata": {},
   "source": [
    "---"
   ]
  },
  {
   "cell_type": "raw",
   "id": "71b0a0ec",
   "metadata": {},
   "source": [
    "選取標籤沒有 tier=PROD 與 tier=TEST 的 pods。"
   ]
  },
  {
   "cell_type": "code",
   "execution_count": null,
   "id": "62d7bb49",
   "metadata": {},
   "outputs": [],
   "source": [
    "kubectl get pods -l 'tier notin (PROD, TEST)'"
   ]
  },
  {
   "cell_type": "markdown",
   "id": "920795a3",
   "metadata": {},
   "source": [
    "### How kubernetes uses labels"
   ]
  },
  {
   "cell_type": "raw",
   "id": "b50b7972",
   "metadata": {},
   "source": [
    "- Controllers and Services match pods using Selectors(使用 label 來決定控制哪些資源)\n",
    "- Pod Scheduling, scheduling to specific Node (使用 label 來決定 pod 要去哪個節點)"
   ]
  },
  {
   "cell_type": "markdown",
   "id": "a53aae78",
   "metadata": {},
   "source": [
    "# Deployments"
   ]
  },
  {
   "cell_type": "markdown",
   "id": "de1740e1",
   "metadata": {},
   "source": [
    "參考官方資料: https://kubernetes.io/docs/concepts/workloads/controllers/deployment/"
   ]
  },
  {
   "cell_type": "raw",
   "id": "e76098af",
   "metadata": {},
   "source": [
    "You describe a desired state in a Deployment, and the Deployment Controller changes the actual state to the desired state at a controlled rate. You can define Deployments to create new ReplicaSets, or to remove existing Deployments and adopt all their resources with new Deployments."
   ]
  },
  {
   "cell_type": "markdown",
   "id": "03f9dbaa",
   "metadata": {},
   "source": [
    "### 範例01"
   ]
  },
  {
   "cell_type": "raw",
   "id": "31075bbc",
   "metadata": {},
   "source": [
    "觀察系統內建的 deployment coredns。直接使用 kubectl get all -A 會有點麻煩。"
   ]
  },
  {
   "cell_type": "code",
   "execution_count": null,
   "id": "7d2b03a9",
   "metadata": {},
   "outputs": [],
   "source": [
    "kubectl config set-context --current --namespace kube-system\n",
    "kubectl config get-contexts\n",
    "kubectl get deployments.apps"
   ]
  },
  {
   "cell_type": "markdown",
   "id": "7d3581dc",
   "metadata": {},
   "source": [
    "<img src='./img/13.png'>"
   ]
  },
  {
   "cell_type": "raw",
   "id": "ba1dfbc6",
   "metadata": {},
   "source": [
    "deployment coredns 要怎麼知道它要控制那些 pods。會用 selector 與 labels 來過濾。但不是直接控制，而是透過創建的底層資源\n",
    "replicaset 來控制。由欄位 NewReplicaSet 得知這個 deployment 創建的 replicaset。"
   ]
  },
  {
   "cell_type": "code",
   "execution_count": null,
   "id": "ec317eb4",
   "metadata": {},
   "outputs": [],
   "source": [
    "kubectl describe deployments.apps coredns"
   ]
  },
  {
   "cell_type": "markdown",
   "id": "767b0b34",
   "metadata": {},
   "source": [
    "<img src='./img/14.png'>"
   ]
  },
  {
   "cell_type": "markdown",
   "id": "7750a5d7",
   "metadata": {},
   "source": [
    "---"
   ]
  },
  {
   "cell_type": "raw",
   "id": "4c981605",
   "metadata": {},
   "source": [
    "由 controlled by  可以得知下面的 replicaset 是被誰所控制。而這個 replicaset 控制那些 pods 則是由 selector 來過濾。"
   ]
  },
  {
   "cell_type": "code",
   "execution_count": null,
   "id": "26599f1f",
   "metadata": {},
   "outputs": [],
   "source": [
    "kubectl get replicasets.apps coredns-64897985d\n",
    "kubectl describe replicasets.apps coredns-64897985d"
   ]
  },
  {
   "cell_type": "markdown",
   "id": "4c49832e",
   "metadata": {},
   "source": [
    "<img src='./img/15.png'>"
   ]
  },
  {
   "cell_type": "code",
   "execution_count": null,
   "id": "ac61622a",
   "metadata": {},
   "outputs": [],
   "source": [
    "kubectl get pods --show-labels "
   ]
  },
  {
   "cell_type": "markdown",
   "id": "9063f4e2",
   "metadata": {},
   "source": [
    "<img src='./img/22.png'>"
   ]
  },
  {
   "cell_type": "code",
   "execution_count": null,
   "id": "867d2459",
   "metadata": {},
   "outputs": [],
   "source": [
    "kubectl describe pods coredns-64897985d-lgvxx"
   ]
  },
  {
   "cell_type": "markdown",
   "id": "05715afa",
   "metadata": {},
   "source": [
    "<img src='./img/17.png'>"
   ]
  },
  {
   "cell_type": "markdown",
   "id": "938bc57a",
   "metadata": {},
   "source": [
    "# Creating a Deployment"
   ]
  },
  {
   "cell_type": "markdown",
   "id": "12415d61",
   "metadata": {},
   "source": [
    "### 方法一: Imperatively"
   ]
  },
  {
   "cell_type": "raw",
   "id": "a721b7d5",
   "metadata": {},
   "source": [
    "當創建 deployment 時，會同時創建相依的 replicaset 與 pods。刪除 deployment 時，相依的 replicaset 與 pods 也會同時被刪除。"
   ]
  },
  {
   "cell_type": "code",
   "execution_count": null,
   "id": "b45db18c",
   "metadata": {},
   "outputs": [],
   "source": [
    "kubectl create deployment web --image=nginx:1.14.2\n",
    "kubectl get deployments.apps\n",
    "kubectl get replicasets.apps\n",
    "kubectl get pod --show-labels"
   ]
  },
  {
   "cell_type": "raw",
   "id": "948af2ac",
   "metadata": {},
   "source": [
    "創建 deployment 時，replicas 預設是 1，我們可以把他設定成 5。"
   ]
  },
  {
   "cell_type": "code",
   "execution_count": null,
   "id": "5d0643e3",
   "metadata": {},
   "outputs": [],
   "source": [
    "kubectl scale deployment web --replicas=5\n",
    "kubectl describe deployments.apps web"
   ]
  },
  {
   "cell_type": "markdown",
   "id": "5e4dd198",
   "metadata": {},
   "source": [
    "<img src='./img/18.png'>"
   ]
  },
  {
   "cell_type": "code",
   "execution_count": null,
   "id": "82cf2c0d",
   "metadata": {},
   "outputs": [],
   "source": [
    "kubectl describe replicasets.apps web-656c4c457f"
   ]
  },
  {
   "cell_type": "markdown",
   "id": "adb6a9e0",
   "metadata": {},
   "source": [
    "<img src='./img/19.png'>"
   ]
  },
  {
   "cell_type": "code",
   "execution_count": null,
   "id": "2a82144e",
   "metadata": {},
   "outputs": [],
   "source": [
    "kubectl describe replicasets.apps web-656c4c457f"
   ]
  },
  {
   "cell_type": "markdown",
   "id": "8847d2c4",
   "metadata": {},
   "source": [
    "### 方法二: Declaratively"
   ]
  },
  {
   "cell_type": "raw",
   "id": "16911962",
   "metadata": {},
   "source": [
    "下面的 yaml 可以這樣產生:"
   ]
  },
  {
   "cell_type": "raw",
   "id": "a69c9485",
   "metadata": {},
   "source": [
    "kubectl create deployment web --image=nginx --dry-run=client -o yaml > nginx_deployment.yaml"
   ]
  },
  {
   "cell_type": "raw",
   "id": "2e72f67f",
   "metadata": {},
   "source": [
    "nginx_deployment.yml 檔:"
   ]
  },
  {
   "cell_type": "code",
   "execution_count": null,
   "id": "f68699d4",
   "metadata": {},
   "outputs": [],
   "source": [
    "apiVersion: apps/v1 # for versions before 1.9.0 use apps/v1beta2\n",
    "kind: Deployment\n",
    "metadata:\n",
    "  labels:\n",
    "    app: web\n",
    "  name: web\n",
    "spec:\n",
    "  replicas: 2 # tells deployment to run 2 pods matching the template\n",
    "  selector:\n",
    "    matchLabels:\n",
    "      app: web\n",
    "  template: # create pods using pod definition in this template\n",
    "    metadata:\n",
    "      labels:\n",
    "        app: web\n",
    "    spec:\n",
    "      containers:\n",
    "      - image: nginx:1.14.2\n",
    "        name: nginx\n",
    "        ports:\n",
    "        - containerPort: 80"
   ]
  },
  {
   "cell_type": "raw",
   "id": "300eaa75",
   "metadata": {},
   "source": [
    "使用 yaml 檔去啟動一個 development。"
   ]
  },
  {
   "cell_type": "code",
   "execution_count": null,
   "id": "ce9d7241",
   "metadata": {},
   "outputs": [],
   "source": [
    "kubectl apply -f nginx_deployment.yml"
   ]
  },
  {
   "cell_type": "markdown",
   "id": "a5336ac0",
   "metadata": {},
   "source": [
    "# Getting deployments"
   ]
  },
  {
   "cell_type": "raw",
   "id": "6c7d3070",
   "metadata": {},
   "source": [
    "看看剛剛創建的 deployments 有沒有成功。"
   ]
  },
  {
   "cell_type": "code",
   "execution_count": null,
   "id": "887e6047",
   "metadata": {},
   "outputs": [],
   "source": [
    "kubectl get deployments"
   ]
  },
  {
   "cell_type": "raw",
   "id": "f4cacc59",
   "metadata": {},
   "source": [
    "更詳細的資訊，一樣可以使用短選項 -o 指定輸出格式。 "
   ]
  },
  {
   "cell_type": "code",
   "execution_count": null,
   "id": "c4f90a25",
   "metadata": {},
   "outputs": [],
   "source": [
    "kubectl get deployments -o wide "
   ]
  },
  {
   "cell_type": "raw",
   "id": "390e3837",
   "metadata": {},
   "source": [
    "首先會有對應的 replicaset 被創建了。"
   ]
  },
  {
   "cell_type": "code",
   "execution_count": null,
   "id": "33c3a4ac",
   "metadata": {},
   "outputs": [],
   "source": [
    "kubectl get replicasets"
   ]
  },
  {
   "cell_type": "raw",
   "id": "3171e17b",
   "metadata": {},
   "source": [
    "再來看看我們的 pods，有兩個 pods 也被創建了。"
   ]
  },
  {
   "cell_type": "code",
   "execution_count": null,
   "id": "9cea7cf5",
   "metadata": {},
   "outputs": [],
   "source": [
    "kubectl get pods -o wide"
   ]
  },
  {
   "cell_type": "raw",
   "id": "a27ed6dc",
   "metadata": {},
   "source": [
    "指定標籤，我們想要只看到剛剛用 deployments 創建的 pods。"
   ]
  },
  {
   "cell_type": "code",
   "execution_count": null,
   "id": "07f135c2",
   "metadata": {},
   "outputs": [],
   "source": [
    "kubectl get pods -l app=web"
   ]
  },
  {
   "cell_type": "raw",
   "id": "612b30c0",
   "metadata": {},
   "source": [
    "使用 describe 得到更詳細的 deployment 資訊。"
   ]
  },
  {
   "cell_type": "code",
   "execution_count": null,
   "id": "0f73b411",
   "metadata": {},
   "outputs": [],
   "source": [
    "kubectl describe deployment web"
   ]
  },
  {
   "cell_type": "markdown",
   "id": "e49166e3",
   "metadata": {},
   "source": [
    "# Pod failures"
   ]
  },
  {
   "cell_type": "raw",
   "id": "48728dec",
   "metadata": {},
   "source": [
    "先看一下我們現有的 pods。"
   ]
  },
  {
   "cell_type": "code",
   "execution_count": null,
   "id": "e0673354",
   "metadata": {},
   "outputs": [],
   "source": [
    "kubectl get pod -l app=web"
   ]
  },
  {
   "cell_type": "raw",
   "id": "5fab189c",
   "metadata": {},
   "source": [
    "看看其中一個 deployment 產生的 pod，跟正常情況產生的 pods 的差別是會被 controlled。"
   ]
  },
  {
   "cell_type": "code",
   "execution_count": null,
   "id": "1579e6a8",
   "metadata": {},
   "outputs": [],
   "source": [
    "kubectl describe pod podName"
   ]
  },
  {
   "cell_type": "raw",
   "id": "dc7ff3e3",
   "metadata": {},
   "source": [
    "我們試著刪除一個被控制的 pod，觀察是否它還會不會被重新產出。"
   ]
  },
  {
   "cell_type": "code",
   "execution_count": null,
   "id": "1de180b2",
   "metadata": {},
   "outputs": [],
   "source": [
    "kubectl delete pod podName"
   ]
  },
  {
   "cell_type": "raw",
   "id": "f39e05f5",
   "metadata": {},
   "source": [
    "會發現 pods 的數量還是不變。"
   ]
  },
  {
   "cell_type": "code",
   "execution_count": null,
   "id": "1f09991b",
   "metadata": {},
   "outputs": [],
   "source": [
    "kubectl get pods -l app=web"
   ]
  },
  {
   "cell_type": "markdown",
   "id": "9737a5d9",
   "metadata": {},
   "source": [
    "### 範例01"
   ]
  },
  {
   "cell_type": "raw",
   "id": "d9568284",
   "metadata": {},
   "source": [
    "先用 imperative 方法創建一個 deployment，再把 replicaset 調整到 3。"
   ]
  },
  {
   "cell_type": "code",
   "execution_count": null,
   "id": "711837de",
   "metadata": {},
   "outputs": [],
   "source": [
    "kubectl create deployment web --image=nginx\n",
    "kubectl get deployments.apps\n",
    "kubectl scale deployment web --replicas=3"
   ]
  },
  {
   "cell_type": "raw",
   "id": "49f48c1e",
   "metadata": {},
   "source": [
    "如果我們把其中一個 pod 刪除，replicaset 會幫我們再重啟一個 pod。"
   ]
  },
  {
   "cell_type": "code",
   "execution_count": null,
   "id": "7b614681",
   "metadata": {},
   "outputs": [],
   "source": [
    "kubectl get pods -l app=web\n",
    "kubectl delete pod podName"
   ]
  },
  {
   "cell_type": "raw",
   "id": "4f073cd4",
   "metadata": {},
   "source": [
    "如果我們把其中一個 pod 的 lable 換成 app=test，它就不再受到 replicaset 控制，而 replicaset 會再產出一個 app=web 的 pod。"
   ]
  },
  {
   "cell_type": "code",
   "execution_count": null,
   "id": "7598699b",
   "metadata": {},
   "outputs": [],
   "source": [
    "kubectl get pods --show-labels\n",
    "kubectl label pod podName app=test --overwrite"
   ]
  },
  {
   "cell_type": "raw",
   "id": "9fe8c916",
   "metadata": {},
   "source": [
    "如果我們把剛剛脫離的 pod 的 label 改回來 app=web，那麼現在就有 4 個 app=web 的 pods，所以 replicaset 會刪除掉一個。"
   ]
  },
  {
   "cell_type": "code",
   "execution_count": null,
   "id": "bc2b3644",
   "metadata": {},
   "outputs": [],
   "source": [
    "kubectl get pods --show-labels\n",
    "kubectl label pod  podName app=web --overwrite"
   ]
  },
  {
   "cell_type": "markdown",
   "id": "5ccf210f",
   "metadata": {},
   "source": [
    "# Node failures"
   ]
  },
  {
   "cell_type": "raw",
   "id": "91fa8bd0",
   "metadata": {},
   "source": [
    "node faulures 有分成暫時性的失聯 Transient failure 與永久性的失聯 permanent failure。怎麼區分，在 kube-contorller-manager 有一個timeout 的設置。 pod-eviction-timeout 默認為 5 分鐘。 Node 如果失聯超過 5 分鐘，就會觸發在其上運行的 Pod 的終止和重建。"
   ]
  },
  {
   "cell_type": "markdown",
   "id": "8db76e89",
   "metadata": {},
   "source": [
    "### 範例01"
   ]
  },
  {
   "cell_type": "raw",
   "id": "e128188c",
   "metadata": {},
   "source": [
    "假如我們創建一個 deployment，且 replica 等於 3。2 個在 worker1，1 個在 worker2。此時我們把 worker2 關機，在 5 分鐘前都不會有事情發生。等過了 5 分鐘後，這時在 worker2 的 pod 的status 會呈現 terminating，但還不會被刪除，worker1 則會在產生一個新的 pod。此時在 worker1 有 3 個 running 的 pods，在 worker2 有一個 terminating 的 pod。等到 worker2 重新開機之後，worker2 就會收到指令把 terminating 的 pod 的刪除。"
   ]
  },
  {
   "cell_type": "markdown",
   "id": "02095063",
   "metadata": {},
   "source": [
    "# Deployment update strategy: RollingUpdate"
   ]
  },
  {
   "cell_type": "raw",
   "id": "b03c5de5",
   "metadata": {},
   "source": [
    "這裡指的是 deployment 裡面 pod template 的更新"
   ]
  },
  {
   "cell_type": "code",
   "execution_count": null,
   "id": "aa8adf75",
   "metadata": {},
   "outputs": [],
   "source": [
    "kubectl create deployment web --image=nginx:1.14 --replicas=3"
   ]
  },
  {
   "cell_type": "code",
   "execution_count": null,
   "id": "8cb683f2",
   "metadata": {},
   "outputs": [],
   "source": [
    "kubectl describe deployment web"
   ]
  },
  {
   "cell_type": "markdown",
   "id": "6441abae",
   "metadata": {},
   "source": [
    "<img src='./img/20.png'>"
   ]
  },
  {
   "cell_type": "raw",
   "id": "2fc1e659",
   "metadata": {},
   "source": [
    "如果我們現在使用 edit 關鍵字把 image 更改版本成1.14.2，機制是會再新建一個 replicaSet，原先個數 1，然後刪除舊的 replicaSet 的 pod 1 個。然後再把新的 replicaSet 的 pod 個數變成 2，刪除舊的 replicaSet 的 pod 1 個。依此類推。最後會有一個 replicaSet 沒有 Pod。"
   ]
  },
  {
   "cell_type": "markdown",
   "id": "77fd8792",
   "metadata": {},
   "source": [
    "# Deployment rollout and restart"
   ]
  },
  {
   "cell_type": "markdown",
   "id": "6c703bf3",
   "metadata": {},
   "source": [
    "### rollout 的操作"
   ]
  },
  {
   "cell_type": "raw",
   "id": "90f855ad",
   "metadata": {},
   "source": [
    "可以看一下 deployment 的歷史版本"
   ]
  },
  {
   "cell_type": "code",
   "execution_count": null,
   "id": "6519a8b9",
   "metadata": {},
   "outputs": [],
   "source": [
    "kubectl rollout history deployment web"
   ]
  },
  {
   "cell_type": "raw",
   "id": "34d484c7",
   "metadata": {},
   "source": [
    "看到版本 1 的詳細資訊"
   ]
  },
  {
   "cell_type": "code",
   "execution_count": null,
   "id": "feb0db9f",
   "metadata": {},
   "outputs": [],
   "source": [
    "kubectl rollout history deployment web --revision 1"
   ]
  },
  {
   "cell_type": "raw",
   "id": "f8ad8c59",
   "metadata": {},
   "source": [
    "回滾到版本 1，機制跟更新是一樣的。"
   ]
  },
  {
   "cell_type": "code",
   "execution_count": null,
   "id": "cbf4a562",
   "metadata": {},
   "outputs": [],
   "source": [
    "kubectl rollout undo deployment web --to-revision 1"
   ]
  },
  {
   "cell_type": "raw",
   "id": "bdf4537a",
   "metadata": {},
   "source": [
    "可以由以下指令去查找長選項 revisionHistoryLimit。由這個數字去控制預存的版本數。預設是 10。"
   ]
  },
  {
   "cell_type": "code",
   "execution_count": null,
   "id": "d3bdb8d9",
   "metadata": {},
   "outputs": [],
   "source": [
    "kubectl explain deployment.spec"
   ]
  },
  {
   "cell_type": "markdown",
   "id": "0c0be627",
   "metadata": {},
   "source": [
    "### restart 的操作"
   ]
  },
  {
   "cell_type": "raw",
   "id": "2dfc8226",
   "metadata": {},
   "source": [
    "重新啟動 deployment。機制跟更新是一樣的。會再創建一個新的 replicaSet。"
   ]
  },
  {
   "cell_type": "code",
   "execution_count": null,
   "id": "f6372ccd",
   "metadata": {},
   "outputs": [],
   "source": [
    "kubectl rollout restart deployment web"
   ]
  },
  {
   "cell_type": "markdown",
   "id": "4f9fd107",
   "metadata": {},
   "source": [
    "# Deployment update strategy: Recreate"
   ]
  },
  {
   "cell_type": "raw",
   "id": "c1de4327",
   "metadata": {},
   "source": [
    "另一種更新方式，要記得跟 RollingUpdate 的區別。會直接一次把 pod 都刪光，再重新建立。這樣會有服務中斷的過程。但是這樣的好處是不會有不同版本同時上線的情況。"
   ]
  },
  {
   "cell_type": "markdown",
   "id": "1682fcdc",
   "metadata": {},
   "source": [
    "### 範例"
   ]
  },
  {
   "cell_type": "raw",
   "id": "4c0715b6",
   "metadata": {},
   "source": [
    "kubectl create deploymen web --image=nginx:1.14 --dry-run=client -o yaml > demo.yml"
   ]
  },
  {
   "cell_type": "raw",
   "id": "11b188c8",
   "metadata": {},
   "source": [
    "可以用 kubectl explain deployment.spec.strategy 查找 yaml 的修改方式，要怎麼把 update strategy 改成 recreate。"
   ]
  },
  {
   "cell_type": "raw",
   "id": "4f4f3d60",
   "metadata": {},
   "source": [
    "demo.yaml 檔"
   ]
  },
  {
   "cell_type": "code",
   "execution_count": null,
   "id": "de858634",
   "metadata": {},
   "outputs": [],
   "source": [
    "apiVersion: apps/v1\n",
    "kind: Deployment\n",
    "metadata:\n",
    "  creationTimestamp: null\n",
    "  labels:\n",
    "    app: web\n",
    "  name: web\n",
    "spec:\n",
    "  replicas: 3\n",
    "  selector:\n",
    "    matchLabels:\n",
    "      app: web\n",
    "  strategy:\n",
    "    type: Recreate \n",
    "  template:\n",
    "    metadata:\n",
    "      creationTimestamp: null\n",
    "      labels:\n",
    "        app: web\n",
    "    spec:\n",
    "      containers:\n",
    "      - image: nginx:1.14.2\n",
    "        name: nginx\n",
    "        resources: {}\n",
    "status: {}"
   ]
  },
  {
   "cell_type": "markdown",
   "id": "5b136dcd",
   "metadata": {},
   "source": [
    "# Updating the deployment"
   ]
  },
  {
   "cell_type": "markdown",
   "id": "41fe6e36",
   "metadata": {},
   "source": [
    "### 方法一: 使用 ymal 更新"
   ]
  },
  {
   "cell_type": "raw",
   "id": "40695236",
   "metadata": {},
   "source": [
    "nginx_deployment_update.yml"
   ]
  },
  {
   "cell_type": "code",
   "execution_count": null,
   "id": "d903afc1",
   "metadata": {},
   "outputs": [],
   "source": [
    "apiVersion: apps/v1 # for versions before 1.9.0 use apps/v1beta2\n",
    "kind: Deployment\n",
    "metadata:\n",
    "  labels:\n",
    "    app: web\n",
    "  name: web\n",
    "spec:\n",
    "  replicas: 2 # tells deployment to run 2 pods matching the template\n",
    "  selector:\n",
    "    matchLabels:\n",
    "      app: web\n",
    "  template: # create pods using pod definition in this template\n",
    "    metadata:\n",
    "      labels:\n",
    "        app: web\n",
    "    spec:\n",
    "      containers:\n",
    "      - image: nginx:1.20.0\n",
    "        name: nginx\n",
    "        ports:\n",
    "        - containerPort: 80"
   ]
  },
  {
   "cell_type": "raw",
   "id": "f40c9a6c",
   "metadata": {},
   "source": [
    "這個更新過的 ymal 檔跟之前的一模一樣只是把 image 升級成 nginx:1.20.0，使用 apply 指令進行更新 deployments。因為我們的 resource 的名字是一樣的，所以會進行更新，如果之前沒有這個 resource，會進行創建。"
   ]
  },
  {
   "cell_type": "code",
   "execution_count": null,
   "id": "33adaf2f",
   "metadata": {},
   "outputs": [],
   "source": [
    "kubectl apply -f nginx_deployment_update.yaml"
   ]
  },
  {
   "cell_type": "raw",
   "id": "69822fa1",
   "metadata": {},
   "source": [
    "看看其中一個 pod 的 image 有沒有真的被改成 image:1.8。"
   ]
  },
  {
   "cell_type": "code",
   "execution_count": null,
   "id": "9aef2ac4",
   "metadata": {},
   "outputs": [],
   "source": [
    "kubectl describe pod podName"
   ]
  },
  {
   "cell_type": "markdown",
   "id": "f0b6f2fd",
   "metadata": {},
   "source": [
    "---"
   ]
  },
  {
   "cell_type": "raw",
   "id": "c4bc9405",
   "metadata": {},
   "source": [
    "我們剛剛改了 image，接下來我們試試 Scaling the application by increasing the replica count。我們再把剛剛的 yaml 檔的 replicas 改成四。"
   ]
  },
  {
   "cell_type": "raw",
   "id": "e86b4932",
   "metadata": {},
   "source": [
    "nginx_deployment_scale 檔:"
   ]
  },
  {
   "cell_type": "code",
   "execution_count": null,
   "id": "063428fb",
   "metadata": {},
   "outputs": [],
   "source": [
    "apiVersion: apps/v1 \n",
    "kind: Deployment\n",
    "metadata:\n",
    "  labels:\n",
    "    app: web\n",
    "  name: web\n",
    "spec:\n",
    "  replicas: 4\n",
    "  selector:\n",
    "    matchLabels:\n",
    "      app: web\n",
    "  template: \n",
    "    metadata:\n",
    "      labels:\n",
    "        app: web\n",
    "    spec:\n",
    "      containers:\n",
    "      - image: nginx:1.20.0\n",
    "        name: nginx\n",
    "        ports:\n",
    "        - containerPort: 80"
   ]
  },
  {
   "cell_type": "raw",
   "id": "be31bae0",
   "metadata": {},
   "source": [
    "注意我們的 resource 名字還是不變。"
   ]
  },
  {
   "cell_type": "code",
   "execution_count": null,
   "id": "55f88342",
   "metadata": {},
   "outputs": [],
   "source": [
    "kubectl apply -f nginx_deployment_scale.yaml"
   ]
  },
  {
   "cell_type": "raw",
   "id": "9a869764",
   "metadata": {},
   "source": [
    "我們的 nginx_deployment pods 真的被修改成四個 pods。"
   ]
  },
  {
   "cell_type": "code",
   "execution_count": null,
   "id": "6b95160f",
   "metadata": {},
   "outputs": [],
   "source": [
    "kubectl get pods -l app=web\n",
    "kubecyl get deployments "
   ]
  },
  {
   "cell_type": "markdown",
   "id": "416b763f",
   "metadata": {},
   "source": [
    "### 方法二: 使用 edit 命令"
   ]
  },
  {
   "cell_type": "raw",
   "id": "d2da1c48",
   "metadata": {},
   "source": [
    "使用以下的指令會進入 nginx-deployment 的 yaml 文件，就直接修改，比如我們把 replicas 改成 3。  "
   ]
  },
  {
   "cell_type": "code",
   "execution_count": null,
   "id": "e1c2a490",
   "metadata": {},
   "outputs": [],
   "source": [
    "kubectl edit deployment deploymentName"
   ]
  },
  {
   "cell_type": "raw",
   "id": "bdafde3b",
   "metadata": {},
   "source": [
    "看一下剛剛的修改有沒有成功。"
   ]
  },
  {
   "cell_type": "code",
   "execution_count": null,
   "id": "db74925c",
   "metadata": {},
   "outputs": [],
   "source": [
    "kubectl get deployment deploymentName"
   ]
  },
  {
   "cell_type": "markdown",
   "id": "85c3a867",
   "metadata": {},
   "source": [
    "### 方法三: 使用 scale 指令改 replicas 個數"
   ]
  },
  {
   "cell_type": "raw",
   "id": "d1591ce3",
   "metadata": {},
   "source": [
    "如果想改 replicas 的個數還有這招可以使用。"
   ]
  },
  {
   "cell_type": "code",
   "execution_count": null,
   "id": "dcfd2e00",
   "metadata": {},
   "outputs": [],
   "source": [
    "kubectl scale deployment deploymentName --replicas=4"
   ]
  },
  {
   "cell_type": "raw",
   "id": "1338734b",
   "metadata": {},
   "source": [
    "看一下剛剛的修改有沒有成功。"
   ]
  },
  {
   "cell_type": "code",
   "execution_count": null,
   "id": "b9636baa",
   "metadata": {},
   "outputs": [],
   "source": [
    "kubectl get deployment deploymentName"
   ]
  },
  {
   "cell_type": "markdown",
   "id": "fdf61ee7",
   "metadata": {},
   "source": [
    "### 方法四: 使用 set 命令改 image 版本"
   ]
  },
  {
   "cell_type": "raw",
   "id": "5d70a81b",
   "metadata": {},
   "source": [
    "使用 set 命令來修改 image 的版本。"
   ]
  },
  {
   "cell_type": "code",
   "execution_count": null,
   "id": "e6dc0008",
   "metadata": {},
   "outputs": [],
   "source": [
    "kubectl set image deployment/deploymentName nginx=nginx:1.9.1"
   ]
  },
  {
   "cell_type": "raw",
   "id": "dbd72c46",
   "metadata": {},
   "source": [
    "看一下剛剛的修改有沒有成功。"
   ]
  },
  {
   "cell_type": "code",
   "execution_count": null,
   "id": "65a05b9e",
   "metadata": {},
   "outputs": [],
   "source": [
    "kubectl get deployment deploymentName -o wide"
   ]
  },
  {
   "cell_type": "markdown",
   "id": "fcc89aeb",
   "metadata": {},
   "source": [
    "# Deleting a Deployment"
   ]
  },
  {
   "cell_type": "raw",
   "id": "0ed5b7cd",
   "metadata": {},
   "source": [
    "把 deployment 刪除後，相對應的 replicaset 與 pods 也會被跟著刪除了。\n",
    "注意刪除 yaml 檔不會刪除對應的 deployment。"
   ]
  },
  {
   "cell_type": "code",
   "execution_count": null,
   "id": "1e71b380",
   "metadata": {},
   "outputs": [],
   "source": [
    "kubectl delete deployment nginx-deployment"
   ]
  },
  {
   "cell_type": "code",
   "execution_count": null,
   "id": "6785f0f3",
   "metadata": {},
   "outputs": [],
   "source": []
  },
  {
   "cell_type": "markdown",
   "id": "61b30438",
   "metadata": {},
   "source": [
    "# DaemonSet"
   ]
  },
  {
   "cell_type": "markdown",
   "id": "b9157d89",
   "metadata": {},
   "source": [
    "參考官方文件: https://kubernetes.io/docs/concepts/workloads/controllers/daemonset/"
   ]
  },
  {
   "cell_type": "raw",
   "id": "24e5fd23",
   "metadata": {},
   "source": [
    "DaemonSet 是一種 Pod 控制器，簡單來說，我們可以定義 所有 或 部分 的 Node 上自動運行 DaemonSet 所定義的 Pod 當新的 Node 被加入 Cluster， DaemonSet 所定義的 Pod 會自動 schedule 到該 Node， 而當該 Node 從 Cluster 被移除時， 該 Pod 也會被移除。\n",
    "\n",
    "常見的三種應用：\n",
    "\n",
    "用來運行 Cluster 規模的儲存應用, 像是 Ceph\n",
    "在每個 Node 上運行 Logs collection 應用, 像是 Fluentd-elasticsearch\n",
    "在每個 Node 上運行監控應用, 像是 Prometheus"
   ]
  },
  {
   "cell_type": "raw",
   "id": "3be521cb",
   "metadata": {},
   "source": [
    "daemonset.yml"
   ]
  },
  {
   "cell_type": "code",
   "execution_count": null,
   "id": "6292e747",
   "metadata": {},
   "outputs": [],
   "source": [
    "apiVersion: apps/v1\n",
    "kind: DaemonSet\n",
    "metadata:\n",
    "  name: hello-ds\n",
    "spec:\n",
    "  selector:\n",
    "    matchLabels:\n",
    "      app: hello-world\n",
    "  template:\n",
    "    metadata:\n",
    "      labels:\n",
    "        app: hello-world\n",
    "    spec:\n",
    "      containers:\n",
    "      - name: hello-world\n",
    "        image: nginx:1.14"
   ]
  },
  {
   "cell_type": "raw",
   "id": "ce0b6f7e",
   "metadata": {},
   "source": [
    "注意 daemonSet 直接控制 pod，沒有通過 replicaSet。"
   ]
  },
  {
   "cell_type": "code",
   "execution_count": null,
   "id": "ce954654",
   "metadata": {},
   "outputs": [],
   "source": [
    "kubectl apply -f daemonset.yml"
   ]
  },
  {
   "cell_type": "code",
   "execution_count": null,
   "id": "bfb9612d",
   "metadata": {},
   "outputs": [],
   "source": [
    "kubectl get daemonsets"
   ]
  },
  {
   "cell_type": "code",
   "execution_count": null,
   "id": "fc6803e9",
   "metadata": {},
   "outputs": [],
   "source": [
    "kubectl get daemonsets -o wide"
   ]
  },
  {
   "cell_type": "code",
   "execution_count": null,
   "id": "a35ed0d5",
   "metadata": {},
   "outputs": [],
   "source": [
    "kubectl get pods -o wide"
   ]
  },
  {
   "cell_type": "markdown",
   "id": "3386d07f",
   "metadata": {},
   "source": [
    "### 範例"
   ]
  },
  {
   "cell_type": "raw",
   "id": "92871cb5",
   "metadata": {},
   "source": [
    "官網範例"
   ]
  },
  {
   "cell_type": "code",
   "execution_count": null,
   "id": "225fb8b3",
   "metadata": {},
   "outputs": [],
   "source": [
    "apiVersion: apps/v1\n",
    "kind: DaemonSet\n",
    "metadata:\n",
    "  name: fluentd-elasticsearch\n",
    "  namespace: kube-system\n",
    "  labels:\n",
    "    k8s-app: fluentd-logging\n",
    "spec:\n",
    "  selector:\n",
    "    matchLabels:\n",
    "      name: fluentd-elasticsearch\n",
    "  template:\n",
    "    metadata:\n",
    "      labels:\n",
    "        name: fluentd-elasticsearch\n",
    "    spec:\n",
    "      tolerations:\n",
    "      # these tolerations are to have the daemonset runnable on control plane nodes\n",
    "      # remove them if your control plane nodes should not run pods\n",
    "      - key: node-role.kubernetes.io/control-plane\n",
    "        operator: Exists\n",
    "        effect: NoSchedule\n",
    "      - key: node-role.kubernetes.io/master\n",
    "        operator: Exists\n",
    "        effect: NoSchedule\n",
    "      containers:\n",
    "      - name: fluentd-elasticsearch\n",
    "        image: quay.io/fluentd_elasticsearch/fluentd:v2.5.2\n",
    "        resources:\n",
    "          limits:\n",
    "            memory: 200Mi\n",
    "          requests:\n",
    "            cpu: 100m\n",
    "            memory: 200Mi\n",
    "        volumeMounts:\n",
    "        - name: varlog\n",
    "          mountPath: /var/log\n",
    "      terminationGracePeriodSeconds: 30\n",
    "      volumes:\n",
    "      - name: varlog\n",
    "        hostPath:\n",
    "          path: /var/log"
   ]
  },
  {
   "cell_type": "raw",
   "id": "8549766c",
   "metadata": {},
   "source": [
    "上面的配置架構基本上跟 Deployment 差不多\n",
    "\n",
    "resources 為定義 Pod 的資源限制，request 為 將該 Pod 放置到該 Node，該 Node 需耗費的資源，limit 為 該 Pod 可使用的資源限制，若有多個 container，相加之後就等於該 Pod 的資源限制。 詳情可參考 Kubernetes Resources。\n",
    "\n",
    "volumeMounts 會將定義的 volume 與 mountPath 定義的位置互相同步 volumes 可使用多種來源，configMap，secret 都是可以的，這邊使用 hostPath，為該 Pod 的 Host 位置，也就試運行該 Pod 的 Node 位置。\n",
    "\n",
    "要特別注意的是 toleration，DaemonSet 預設是不會把 Pod 部署到 master node 上的，但加了 toleration 的設定後，就可以解除這個限制。"
   ]
  },
  {
   "cell_type": "markdown",
   "id": "ce77965f",
   "metadata": {},
   "source": [
    "### Update Strategy"
   ]
  },
  {
   "cell_type": "raw",
   "id": "e1fcd50e",
   "metadata": {},
   "source": [
    "You can update DaemonSets by changing its Pod specification, resource requests and limits, labels, and annotations.\n",
    "\n",
    "To decide how to handle updates, DaemonSet use an update strategy defined in spec: updateStrategy. There are two strategies, OnDelete and RollingUpdate:"
   ]
  },
  {
   "cell_type": "markdown",
   "id": "a55ea1ea",
   "metadata": {},
   "source": [
    "### 方法一: OnDelete"
   ]
  },
  {
   "cell_type": "raw",
   "id": "b9b88a52",
   "metadata": {},
   "source": [
    "OnDelete does not automatically delete and recreate DaemonSet Pods when the object's configuration is changed. Instead, Pods must be manually deleted to cause the controller to create new Pods that reflect your changes."
   ]
  },
  {
   "cell_type": "markdown",
   "id": "22552860",
   "metadata": {},
   "source": [
    "### 方法二: RollingUpdate(預設)"
   ]
  },
  {
   "cell_type": "raw",
   "id": "a3d91aed",
   "metadata": {},
   "source": [
    "RollingUpdate automatically deletes and recreates DaemonSet Pods. With this strategy, valid changes automatically trigger a rollout. This is the default update strategy for DaemonSets."
   ]
  },
  {
   "cell_type": "markdown",
   "id": "7589e32c",
   "metadata": {},
   "source": [
    "# Job"
   ]
  },
  {
   "cell_type": "raw",
   "id": "d7113757",
   "metadata": {},
   "source": [
    "Job 負責批處理任務，即僅執行一次的任務，它保證批處理任務的一個或多個 Pod 成功結束。"
   ]
  },
  {
   "cell_type": "markdown",
   "id": "9448cfea",
   "metadata": {},
   "source": [
    "### Job Spec 格式"
   ]
  },
  {
   "cell_type": "raw",
   "id": "77a34f7a",
   "metadata": {},
   "source": [
    "- spec.template 格式同 Pod\n",
    "- RestartPolicy 僅支持 Never 或 OnFailure\n",
    "- 單個 Pod 時，默認 Pod 成功運行後 Job 即結束\n",
    "- .spec.completions 標志 Job 結束需要成功運行的 Pod 個數，默認為 1\n",
    "- .spec.parallelism 標志並行運行的 Pod 的個數，默認為 1\n",
    "- spec.activeDeadlineSeconds 標志失敗 Pod 的重試最大時間，超過這個時間不會繼續重試"
   ]
  },
  {
   "cell_type": "markdown",
   "id": "92431012",
   "metadata": {},
   "source": [
    "### 範例"
   ]
  },
  {
   "cell_type": "markdown",
   "id": "ca0170c9",
   "metadata": {},
   "source": [
    "##### 方法一: 使用指令"
   ]
  },
  {
   "cell_type": "code",
   "execution_count": null,
   "id": "48dcced7",
   "metadata": {},
   "outputs": [],
   "source": [
    "kubectl create job my-job --image=busybox -- sh -c \"sleep 50\""
   ]
  },
  {
   "cell_type": "markdown",
   "id": "ee022cc8",
   "metadata": {},
   "source": [
    "##### 方法二: 使用 yaml 檔"
   ]
  },
  {
   "cell_type": "raw",
   "id": "71f17a89",
   "metadata": {},
   "source": [
    "job.yaml 檔"
   ]
  },
  {
   "cell_type": "code",
   "execution_count": null,
   "id": "e31ed828",
   "metadata": {},
   "outputs": [],
   "source": [
    "apiVersion: batch/v1\n",
    "kind: Job\n",
    "metadata:\n",
    "  name: my-job\n",
    "spec:\n",
    "  template:\n",
    "    spec:\n",
    "      containers:\n",
    "      - name: my-job\n",
    "        image: busybox\n",
    "        command: [\"sh\",  \"-c\", \"sleep 50\"]\n",
    "      restartPolicy: Never"
   ]
  },
  {
   "cell_type": "code",
   "execution_count": null,
   "id": "f4940681",
   "metadata": {},
   "outputs": [],
   "source": [
    "kubectl create -f job.yaml"
   ]
  },
  {
   "cell_type": "raw",
   "id": "7141bd29",
   "metadata": {},
   "source": [
    "等運行結束，pod 的 STATUS 會顯示 completed。"
   ]
  },
  {
   "cell_type": "code",
   "execution_count": null,
   "id": "93cc9319",
   "metadata": {},
   "outputs": [],
   "source": [
    "kubectl get pod -o wide"
   ]
  },
  {
   "cell_type": "raw",
   "id": "2aadd0cc",
   "metadata": {},
   "source": [
    "看一下你的 job 是否已經完成"
   ]
  },
  {
   "cell_type": "code",
   "execution_count": null,
   "id": "9bd6608a",
   "metadata": {},
   "outputs": [],
   "source": [
    "kubectl get job"
   ]
  },
  {
   "cell_type": "markdown",
   "id": "0abd636e",
   "metadata": {},
   "source": [
    "# CronJob"
   ]
  },
  {
   "cell_type": "raw",
   "id": "ca60b25b",
   "metadata": {},
   "source": [
    "在某些時候我們會需要有個週期性運行的服務，像是每天早上出昨天網站流量的報表，或是每隔一段時間去訪問某個 API 取得目前該應用服務的最新資訊。像這樣每小時、每日、每週、每月每隔一段固定時間要做的工作，我們會丟到 Linux 的 crontab，而 Kubernetes 也提供了Cronjob 元件幫我們實現排程服務。"
   ]
  },
  {
   "cell_type": "markdown",
   "id": "088a0541",
   "metadata": {},
   "source": [
    "### 什麼是 Cronjob"
   ]
  },
  {
   "cell_type": "raw",
   "id": "b17bebd4",
   "metadata": {},
   "source": [
    "如果對 Linux 上的 crontab 熟悉的讀者，應該不陌生以下這張圖"
   ]
  },
  {
   "cell_type": "markdown",
   "id": "32a1ebba",
   "metadata": {},
   "source": [
    "<img src='./img/23.png'>"
   ]
  },
  {
   "cell_type": "markdown",
   "id": "0bb251bd",
   "metadata": {},
   "source": [
    "### Crontab on MacOS"
   ]
  },
  {
   "cell_type": "raw",
   "id": "3d17ce98",
   "metadata": {},
   "source": [
    "我們可以在終端機輸入以下指令去編輯排程工作"
   ]
  },
  {
   "cell_type": "code",
   "execution_count": null,
   "id": "a5040143",
   "metadata": {},
   "outputs": [],
   "source": [
    "$ crontab -e"
   ]
  },
  {
   "cell_type": "raw",
   "id": "18cc7331",
   "metadata": {},
   "source": [
    "輸入以下文字"
   ]
  },
  {
   "cell_type": "code",
   "execution_count": null,
   "id": "7f954ce8",
   "metadata": {},
   "outputs": [],
   "source": [
    "*/1 * * * * echo \"Hi, current time is $(date)\" >> ~/cronjob.log"
   ]
  },
  {
   "cell_type": "raw",
   "id": "471e152f",
   "metadata": {},
   "source": [
    "代表每相隔一分鐘，會將 echo print 出來的資料倒到 cronjob.log 該檔案中。設定完成後，也可以用 crontab -l 查看目前有哪些 cronjob"
   ]
  },
  {
   "cell_type": "markdown",
   "id": "85cb7a82",
   "metadata": {},
   "source": [
    "<img src='./img/24.png'>"
   ]
  },
  {
   "cell_type": "raw",
   "id": "ccf60587",
   "metadata": {},
   "source": [
    "接著，我們也可以到 cronjob.log 查看是否真的有 log 印出來"
   ]
  },
  {
   "cell_type": "markdown",
   "id": "c15f485e",
   "metadata": {},
   "source": [
    "<img src='./img/25.png'>"
   ]
  },
  {
   "cell_type": "markdown",
   "id": "bffcedfd",
   "metadata": {},
   "source": [
    "### 在 minikube 上實現排程服務"
   ]
  },
  {
   "cell_type": "raw",
   "id": "d5573456",
   "metadata": {},
   "source": [
    "而在 Kubernetes 上也能實現相同的排程服務，以 my-cronjob.yaml 為例"
   ]
  },
  {
   "cell_type": "code",
   "execution_count": null,
   "id": "1192a640",
   "metadata": {},
   "outputs": [],
   "source": [
    "apiVersion: batch/v1beta1\n",
    "kind: CronJob\n",
    "metadata:\n",
    "  name: hello\n",
    "spec:\n",
    "  schedule: \"*/1 * * * *\"\n",
    "  jobTemplate:\n",
    "    spec:\n",
    "      template:\n",
    "        spec:\n",
    "          containers:\n",
    "          - name: hello\n",
    "            image: busybox\n",
    "            args:\n",
    "            - /bin/sh\n",
    "            - -c\n",
    "            - echo \"Hi, current time is $(date)\"\n",
    "          restartPolicy: OnFailure"
   ]
  },
  {
   "cell_type": "raw",
   "id": "c097b503",
   "metadata": {},
   "source": [
    "我們想透過該設定檔創建一個名稱為 hello 的 cronjob，在每一分鐘的時候都能 Kubernetes 上運行 echo \"Hi, current time is $(date)\" 的指令。"
   ]
  },
  {
   "cell_type": "code",
   "execution_count": null,
   "id": "cee0e1c7",
   "metadata": {},
   "outputs": [],
   "source": [
    "kubectl create -f ./my-cronjob.yaml"
   ]
  },
  {
   "cell_type": "raw",
   "id": "539de1ba",
   "metadata": {},
   "source": [
    "用 kubectl get 查看"
   ]
  },
  {
   "cell_type": "code",
   "execution_count": null,
   "id": "ee7b3edd",
   "metadata": {},
   "outputs": [],
   "source": [
    "kubectl get cronjobs"
   ]
  },
  {
   "cell_type": "raw",
   "id": "22435c51",
   "metadata": {},
   "source": [
    "發現該 cronjob 已執行，此外也可以透過另一個指令即時查看目前 job 運行的狀況"
   ]
  },
  {
   "cell_type": "code",
   "execution_count": null,
   "id": "e98b9c00",
   "metadata": {},
   "outputs": [],
   "source": [
    "kubectl get jobs --watch"
   ]
  },
  {
   "cell_type": "markdown",
   "id": "fb9284f9",
   "metadata": {},
   "source": [
    "### 查看 Logs"
   ]
  },
  {
   "cell_type": "raw",
   "id": "034dfdb4",
   "metadata": {},
   "source": [
    "如果想查看 crontab 是否有正常執行，也可以透過 kubectl logs 指令。首先我們可以先透過 kubectl get 找到相對應的 Pod ，指令如下:"
   ]
  },
  {
   "cell_type": "code",
   "execution_count": null,
   "id": "124101e1",
   "metadata": {},
   "outputs": [],
   "source": [
    "kubectl get pods -a --show-all=true -o wide --show-labels=true"
   ]
  },
  {
   "cell_type": "markdown",
   "id": "d2a049aa",
   "metadata": {},
   "source": [
    "<img src='./img/26.png'>"
   ]
  },
  {
   "cell_type": "raw",
   "id": "1767d5a9",
   "metadata": {},
   "source": [
    "接著印出屬於 hello Cronjob 底下的 Pod 的 log，以 hello-1516166760-b86p6 為例"
   ]
  },
  {
   "cell_type": "markdown",
   "id": "b2014978",
   "metadata": {},
   "source": [
    "<img src='./img/27.png'>"
   ]
  },
  {
   "cell_type": "raw",
   "id": "8e50aa50",
   "metadata": {},
   "source": [
    "當然我們也可以查看其他 Pod 的 log，看是否執行時間相隔一分鐘多"
   ]
  },
  {
   "cell_type": "markdown",
   "id": "850aa2a6",
   "metadata": {},
   "source": [
    "<img src='./img/28.png'>"
   ]
  }
 ],
 "metadata": {
  "kernelspec": {
   "display_name": "Python 3",
   "language": "python",
   "name": "python3"
  },
  "language_info": {
   "codemirror_mode": {
    "name": "ipython",
    "version": 3
   },
   "file_extension": ".py",
   "mimetype": "text/x-python",
   "name": "python",
   "nbconvert_exporter": "python",
   "pygments_lexer": "ipython3",
   "version": "3.8.10"
  }
 },
 "nbformat": 4,
 "nbformat_minor": 5
}
