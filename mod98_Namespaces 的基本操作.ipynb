{
 "cells": [
  {
   "cell_type": "markdown",
   "id": "dc936739",
   "metadata": {},
   "source": [
    "# Before starting"
   ]
  },
  {
   "cell_type": "raw",
   "id": "2e856e6b",
   "metadata": {},
   "source": [
    "開始前看看哪些資源可以用 namespace 隔開，那些不行。"
   ]
  },
  {
   "cell_type": "code",
   "execution_count": null,
   "id": "43b621b7",
   "metadata": {},
   "outputs": [],
   "source": [
    "kubectl api-resources --namespaced=true"
   ]
  },
  {
   "cell_type": "code",
   "execution_count": null,
   "id": "bbf1ffc8",
   "metadata": {},
   "outputs": [],
   "source": [
    "kubectl api-resources --namespaced=false"
   ]
  },
  {
   "cell_type": "markdown",
   "id": "21a1aa5f",
   "metadata": {},
   "source": [
    "# Getting all namespaces"
   ]
  },
  {
   "cell_type": "raw",
   "id": "ae702274",
   "metadata": {},
   "source": [
    "注意如果不指定 namespace，建立的 pods 都會放在 default 的 namespace 裡面。"
   ]
  },
  {
   "cell_type": "code",
   "execution_count": null,
   "id": "126567b8",
   "metadata": {},
   "outputs": [],
   "source": [
    "kubectl get namespaces"
   ]
  },
  {
   "cell_type": "markdown",
   "id": "6e40f923",
   "metadata": {},
   "source": [
    "# Creating namespaces"
   ]
  },
  {
   "cell_type": "markdown",
   "id": "fef3b2f8",
   "metadata": {},
   "source": [
    "### 方法一: 直接 create"
   ]
  },
  {
   "cell_type": "raw",
   "id": "d778ddfb",
   "metadata": {},
   "source": [
    "直接來。"
   ]
  },
  {
   "cell_type": "code",
   "execution_count": null,
   "id": "689af9ed",
   "metadata": {},
   "outputs": [],
   "source": [
    "kubectl create namespace test"
   ]
  },
  {
   "cell_type": "raw",
   "id": "c2aafd1a",
   "metadata": {},
   "source": [
    "看看有沒有成功。"
   ]
  },
  {
   "cell_type": "code",
   "execution_count": null,
   "id": "c2046426",
   "metadata": {},
   "outputs": [],
   "source": [
    "kubectl get namespaces"
   ]
  },
  {
   "cell_type": "markdown",
   "id": "3b5f642a",
   "metadata": {},
   "source": [
    "### 方法二: 使用 yaml 檔"
   ]
  },
  {
   "cell_type": "raw",
   "id": "9c905512",
   "metadata": {},
   "source": [
    "namespace-dev 檔:"
   ]
  },
  {
   "cell_type": "code",
   "execution_count": null,
   "id": "a60367be",
   "metadata": {},
   "outputs": [],
   "source": [
    "apiVersion: v1\n",
    "kind: Namespace\n",
    "metadata:\n",
    "  name: dev"
   ]
  },
  {
   "cell_type": "raw",
   "id": "8f40de4f",
   "metadata": {},
   "source": [
    "使用以下指令創建一個新的 namespace"
   ]
  },
  {
   "cell_type": "code",
   "execution_count": null,
   "id": "27fc1023",
   "metadata": {},
   "outputs": [],
   "source": [
    "kubectl apply -f namespace-dev"
   ]
  },
  {
   "cell_type": "raw",
   "id": "5ec53c25",
   "metadata": {},
   "source": [
    "看看有沒有成功。"
   ]
  },
  {
   "cell_type": "code",
   "execution_count": null,
   "id": "5a6272b6",
   "metadata": {},
   "outputs": [],
   "source": [
    "kubectl get namespaces"
   ]
  },
  {
   "cell_type": "markdown",
   "id": "17758aef",
   "metadata": {},
   "source": [
    "# Creating pods with namespaces"
   ]
  },
  {
   "cell_type": "raw",
   "id": "5e3e6f02",
   "metadata": {},
   "source": [
    "如果想要要指定 namespace ，可以在 yaml 檔中的 metadata 中設定。我們其中一個有設定 namespace ，一個沒有設定。"
   ]
  },
  {
   "cell_type": "raw",
   "id": "51025094",
   "metadata": {},
   "source": [
    "nginx_namespace.yml 檔:"
   ]
  },
  {
   "cell_type": "code",
   "execution_count": null,
   "id": "ea3e59d6",
   "metadata": {},
   "outputs": [],
   "source": [
    "apiVersion: v1\n",
    "kind: Pod   \n",
    "metadata:\n",
    "  name: nginx\n",
    "  namespace: demo\n",
    "spec:\n",
    "  containers:\n",
    "    - name: nginx\n",
    "      image: nginx\n",
    "      ports:\n",
    "        - containerPort: 80  "
   ]
  },
  {
   "cell_type": "raw",
   "id": "e3c3da66",
   "metadata": {},
   "source": [
    "nginx.yml 檔:"
   ]
  },
  {
   "cell_type": "code",
   "execution_count": null,
   "id": "b65ef793",
   "metadata": {},
   "outputs": [],
   "source": [
    "apiVersion: v1\n",
    "kind: Pod   \n",
    "metadata:\n",
    "  name: nginx\n",
    "spec:\n",
    "  containers:\n",
    "    - name: nginx\n",
    "      image: nginx\n",
    "      ports:\n",
    "        - containerPort: 80  "
   ]
  },
  {
   "cell_type": "raw",
   "id": "004bafae",
   "metadata": {},
   "source": [
    "要啟動 nginx_namespace.yml 檔之前要先創立名叫 demo 的 namespace，不然報錯。"
   ]
  },
  {
   "cell_type": "code",
   "execution_count": null,
   "id": "6ff9380e",
   "metadata": {},
   "outputs": [],
   "source": [
    "kubectl create namespace demo\n",
    "kubectl create -f nginx_namespace.yml"
   ]
  },
  {
   "cell_type": "markdown",
   "id": "0670c968",
   "metadata": {},
   "source": [
    "---"
   ]
  },
  {
   "cell_type": "raw",
   "id": "5beafce6",
   "metadata": {},
   "source": [
    "如果不加長選項 --namespace 只會看到 default 中的 pods。"
   ]
  },
  {
   "cell_type": "code",
   "execution_count": null,
   "id": "cb2ee0dd",
   "metadata": {},
   "outputs": [],
   "source": [
    "kubectl get pods --namespace=demo"
   ]
  },
  {
   "cell_type": "raw",
   "id": "be76d3fd",
   "metadata": {},
   "source": [
    "我們在創建一個 default 的 pod"
   ]
  },
  {
   "cell_type": "code",
   "execution_count": null,
   "id": "03432e5d",
   "metadata": {},
   "outputs": [],
   "source": [
    "kubectl create -f nginx.yml\n",
    "kubectl get pods"
   ]
  },
  {
   "cell_type": "raw",
   "id": "28c9c015",
   "metadata": {},
   "source": [
    "我們由此證明了在不同的 namespce 可以有相同名字的 pods。"
   ]
  },
  {
   "cell_type": "markdown",
   "id": "1c39fa86",
   "metadata": {},
   "source": [
    "# Getting into pods with namespaces"
   ]
  },
  {
   "cell_type": "raw",
   "id": "5c69c3d4",
   "metadata": {},
   "source": [
    "跟之前一模一樣，只是要多加長選項 --namespace。"
   ]
  },
  {
   "cell_type": "code",
   "execution_count": null,
   "id": "4286ae8d",
   "metadata": {},
   "outputs": [],
   "source": [
    "kubectl exec -it nginx --namespace=demo -- sh"
   ]
  },
  {
   "cell_type": "markdown",
   "id": "83646b21",
   "metadata": {},
   "source": [
    "# Deleting namespaces"
   ]
  },
  {
   "cell_type": "raw",
   "id": "8fdf203c",
   "metadata": {},
   "source": [
    "使用 delete 指令。"
   ]
  },
  {
   "cell_type": "code",
   "execution_count": null,
   "id": "df5910d2",
   "metadata": {},
   "outputs": [],
   "source": [
    "kubectl delete namespace demo"
   ]
  },
  {
   "cell_type": "markdown",
   "id": "5fb6050d",
   "metadata": {},
   "source": [
    "# Change default namespace"
   ]
  },
  {
   "cell_type": "raw",
   "id": "f965e5a2",
   "metadata": {},
   "source": [
    "要轉換預設 namespace 前要先確定 namespace 已經存在。"
   ]
  },
  {
   "cell_type": "code",
   "execution_count": null,
   "id": "caee92fa",
   "metadata": {},
   "outputs": [],
   "source": [
    "kubectl create namespace demo"
   ]
  },
  {
   "cell_type": "code",
   "execution_count": null,
   "id": "318147ac",
   "metadata": {},
   "outputs": [],
   "source": [
    "獲取當前我們所有的 contexts 環境與所在的 context。"
   ]
  },
  {
   "cell_type": "code",
   "execution_count": null,
   "id": "cc7574b4",
   "metadata": {},
   "outputs": [],
   "source": [
    "kubectl config get-contexts"
   ]
  },
  {
   "cell_type": "raw",
   "id": "674d64da",
   "metadata": {},
   "source": [
    "這樣會把當前的 context 的 namespace 從 defaut 轉成 demo"
   ]
  },
  {
   "cell_type": "code",
   "execution_count": null,
   "id": "5f9b14f2",
   "metadata": {},
   "outputs": [],
   "source": [
    "kubectl config set-context --current --namespace=demo"
   ]
  },
  {
   "cell_type": "code",
   "execution_count": null,
   "id": "bdc4b438",
   "metadata": {},
   "outputs": [],
   "source": [
    "kubectl config get-contexts"
   ]
  },
  {
   "cell_type": "raw",
   "id": "feb61307",
   "metadata": {},
   "source": [
    "輸入以下的操作，現在只會顯示 namespace 是 demo 的 pods。"
   ]
  },
  {
   "cell_type": "code",
   "execution_count": null,
   "id": "f096acf0",
   "metadata": {},
   "outputs": [],
   "source": [
    "kubectl get pods"
   ]
  },
  {
   "cell_type": "markdown",
   "id": "e2b61c4d",
   "metadata": {},
   "source": [
    "# Creating our own context"
   ]
  },
  {
   "cell_type": "raw",
   "id": "42358609",
   "metadata": {},
   "source": [
    "我們先啟動一個 nginx 的 pod 在 namespace demo。"
   ]
  },
  {
   "cell_type": "code",
   "execution_count": null,
   "id": "4b0afc7f",
   "metadata": {},
   "outputs": [],
   "source": [
    "kubectl run nginx --image nginx --namespace=demo"
   ]
  },
  {
   "cell_type": "raw",
   "id": "f2226215",
   "metadata": {},
   "source": [
    "我們在預設的 default namespace 是看不到這個 pod 的。"
   ]
  },
  {
   "cell_type": "code",
   "execution_count": null,
   "id": "7522dac5",
   "metadata": {},
   "outputs": [],
   "source": [
    "kubectl get pods"
   ]
  },
  {
   "cell_type": "raw",
   "id": "f2aa08e4",
   "metadata": {},
   "source": [
    "獲取當前我們所有的 contexts 環境與所在的 context。"
   ]
  },
  {
   "cell_type": "code",
   "execution_count": null,
   "id": "07b43b19",
   "metadata": {},
   "outputs": [],
   "source": [
    "kubectl config get-contexts"
   ]
  },
  {
   "cell_type": "raw",
   "id": "d297929b",
   "metadata": {},
   "source": [
    "創建新的 context。再檢查一下有沒有成功。"
   ]
  },
  {
   "cell_type": "code",
   "execution_count": null,
   "id": "c4f4449a",
   "metadata": {},
   "outputs": [],
   "source": [
    "kubectl config set-context context-demo  --user=minikube --cluster=minikube --namespace=demo\n",
    "kubectl config get-contexts"
   ]
  },
  {
   "cell_type": "raw",
   "id": "b79ef4fc",
   "metadata": {},
   "source": [
    "使用我們新創建的 context。一樣檢查一下我們有沒有轉移成功，要看星星的位子。"
   ]
  },
  {
   "cell_type": "code",
   "execution_count": null,
   "id": "686ae23c",
   "metadata": {},
   "outputs": [],
   "source": [
    "kubectl config use-context context-demo\n",
    "kubectl config get-contexts"
   ]
  },
  {
   "cell_type": "raw",
   "id": "e6bec20f",
   "metadata": {},
   "source": [
    "現在因為我們從 namespce default 轉移到 namespace demo，所以我們輸入以下指定就會看到我們剛剛創建的 pod。"
   ]
  },
  {
   "cell_type": "code",
   "execution_count": null,
   "id": "d1325003",
   "metadata": {},
   "outputs": [],
   "source": [
    "kubectl get pods"
   ]
  },
  {
   "cell_type": "raw",
   "id": "838b2fa0",
   "metadata": {},
   "source": [
    "contexts 的 config 文件我們可以通過以下指令查看。"
   ]
  },
  {
   "cell_type": "code",
   "execution_count": null,
   "id": "7fc1f483",
   "metadata": {},
   "outputs": [],
   "source": [
    "more ~/.kube/config "
   ]
  },
  {
   "cell_type": "raw",
   "id": "3e608ae9",
   "metadata": {},
   "source": [
    "要看到所有 namespaces 的 pods，可以加入長選項 --all-namespacesc 或短選項 -A。\n",
    "且這樣也可以看出每一個 pod 是位在哪個 namespace。"
   ]
  },
  {
   "cell_type": "code",
   "execution_count": null,
   "id": "56b5f537",
   "metadata": {},
   "outputs": [],
   "source": [
    "kubectl get pods --all-namespaces"
   ]
  },
  {
   "cell_type": "markdown",
   "id": "327a6aab",
   "metadata": {},
   "source": [
    "# Deleting context"
   ]
  },
  {
   "cell_type": "raw",
   "id": "3cedce8d",
   "metadata": {},
   "source": [
    "可用下面兩種指令刪除我們剛剛建立的 context。"
   ]
  },
  {
   "cell_type": "code",
   "execution_count": null,
   "id": "76226e4f",
   "metadata": {},
   "outputs": [],
   "source": [
    "kubectl config delete-cluster my-cluster-name"
   ]
  },
  {
   "cell_type": "code",
   "execution_count": null,
   "id": "189622ad",
   "metadata": {},
   "outputs": [],
   "source": [
    "kubectl config unset contexts.my-cluster-name"
   ]
  }
 ],
 "metadata": {
  "kernelspec": {
   "display_name": "Python 3",
   "language": "python",
   "name": "python3"
  },
  "language_info": {
   "codemirror_mode": {
    "name": "ipython",
    "version": 3
   },
   "file_extension": ".py",
   "mimetype": "text/x-python",
   "name": "python",
   "nbconvert_exporter": "python",
   "pygments_lexer": "ipython3",
   "version": "3.8.10"
  }
 },
 "nbformat": 4,
 "nbformat_minor": 5
}
