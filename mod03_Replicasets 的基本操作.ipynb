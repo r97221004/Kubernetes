{
 "cells": [
  {
   "cell_type": "markdown",
   "id": "7d4142cd",
   "metadata": {},
   "source": [
    "# Creating replicasets"
   ]
  },
  {
   "cell_type": "raw",
   "id": "9b8ffdd9",
   "metadata": {},
   "source": [
    "replicaset-definition.yml 檔:"
   ]
  },
  {
   "cell_type": "code",
   "execution_count": null,
   "id": "149c5f6a",
   "metadata": {},
   "outputs": [],
   "source": [
    "apiVersion: apps/v1\n",
    "kind: ReplicaSet\n",
    "metadata:\n",
    "  name: myapp-replicaset\n",
    "  labels:\n",
    "    app: myapp\n",
    "    type: front-end\n",
    "spec:\n",
    "  template:\n",
    "    metadata:\n",
    "      name: myapp-pod\n",
    "      labels:\n",
    "        app: myapp\n",
    "        type: front-end\n",
    "    spec:\n",
    "      containers:\n",
    "        - name: nginx-container\n",
    "          image: nginx\n",
    "  replicas: 3\n",
    "  selector:\n",
    "    matchLabels:\n",
    "      type: front-end"
   ]
  },
  {
   "cell_type": "raw",
   "id": "b0dfb92c",
   "metadata": {},
   "source": [
    "使用 yaml 文件去建立一個 replicaset。"
   ]
  },
  {
   "cell_type": "code",
   "execution_count": null,
   "id": "8b9c29ef",
   "metadata": {},
   "outputs": [],
   "source": [
    "kubectl create -f replicaset-definition.yml"
   ]
  },
  {
   "cell_type": "raw",
   "id": "dd72c0db",
   "metadata": {},
   "source": [
    "看一下有沒有創建成功。"
   ]
  },
  {
   "cell_type": "code",
   "execution_count": null,
   "id": "ed714430",
   "metadata": {},
   "outputs": [],
   "source": [
    "kubectl get replicasets"
   ]
  },
  {
   "cell_type": "raw",
   "id": "6d135c8d",
   "metadata": {},
   "source": [
    "看一下因此而創建的 pods。"
   ]
  },
  {
   "cell_type": "code",
   "execution_count": null,
   "id": "380c8876",
   "metadata": {},
   "outputs": [],
   "source": [
    "kubectl get pods"
   ]
  },
  {
   "cell_type": "raw",
   "id": "9f5aa012",
   "metadata": {},
   "source": [
    "注意假如有 pods 失敗了，replicaset 會幫我們再產生一個。一定要維持 label 是 type: front-end 的 pods 是數量三個。"
   ]
  },
  {
   "cell_type": "code",
   "execution_count": null,
   "id": "9f12ac2c",
   "metadata": {},
   "outputs": [],
   "source": [
    "kubectl delete pod podName\n",
    "kubectl get pods"
   ]
  },
  {
   "cell_type": "markdown",
   "id": "a643f26f",
   "metadata": {},
   "source": [
    "# Updating the replicaset"
   ]
  },
  {
   "cell_type": "markdown",
   "id": "c67a916e",
   "metadata": {},
   "source": [
    "### 方法一: 直接修改 yaml 檔"
   ]
  },
  {
   "cell_type": "raw",
   "id": "c4f90c58",
   "metadata": {},
   "source": [
    "replicaset-definition.yml 檔:"
   ]
  },
  {
   "cell_type": "code",
   "execution_count": null,
   "id": "285a3f1b",
   "metadata": {},
   "outputs": [],
   "source": [
    "apiVersion: apps/v1\n",
    "kind: ReplicaSet\n",
    "metadata:\n",
    "  name: myapp-replicaset\n",
    "  labels:\n",
    "    app: myapp\n",
    "    type: front-end\n",
    "spec:\n",
    "  template:\n",
    "    metadata:\n",
    "      name: myapp-pod\n",
    "      labels:\n",
    "        app: myapp\n",
    "        type: front-end\n",
    "    spec:\n",
    "      containers:\n",
    "        - name: nginx-container\n",
    "          image: nginx\n",
    "  replicas: 6\n",
    "  selector:\n",
    "    matchLabels:\n",
    "      type: front-end"
   ]
  },
  {
   "cell_type": "raw",
   "id": "ec5e57da",
   "metadata": {},
   "source": [
    "我們把 yaml 檔的 replicas 改成數量六，然後再執行 replace 命令。"
   ]
  },
  {
   "cell_type": "code",
   "execution_count": null,
   "id": "599eb509",
   "metadata": {},
   "outputs": [],
   "source": [
    "kubectl replace -f replicaset-definition.yml"
   ]
  },
  {
   "cell_type": "raw",
   "id": "caab1cda",
   "metadata": {},
   "source": [
    "看一下 pods 有沒有變成六個。"
   ]
  },
  {
   "cell_type": "code",
   "execution_count": null,
   "id": "d8ae4df7",
   "metadata": {},
   "outputs": [],
   "source": [
    "kubectl get pods"
   ]
  },
  {
   "cell_type": "markdown",
   "id": "dc8332e2",
   "metadata": {},
   "source": [
    "### 方法二: 使用 edit 命令"
   ]
  },
  {
   "cell_type": "markdown",
   "id": "b545ca01",
   "metadata": {},
   "source": [
    "### 方法三: 使用 scale 命令"
   ]
  },
  {
   "cell_type": "raw",
   "id": "fad5ab98",
   "metadata": {},
   "source": [
    "使用下面的寫法也可以更改 replicas 的個數，但是我們沒有去動到 replicaset-definition.yml 檔。"
   ]
  },
  {
   "cell_type": "code",
   "execution_count": null,
   "id": "4d58ed19",
   "metadata": {},
   "outputs": [],
   "source": [
    "kubectl scale --replicas=3 -f replicaset-definition.yml"
   ]
  },
  {
   "cell_type": "raw",
   "id": "0753c045",
   "metadata": {},
   "source": [
    "還有下面的寫法也能成功。"
   ]
  },
  {
   "cell_type": "code",
   "execution_count": null,
   "id": "6a520a2c",
   "metadata": {},
   "outputs": [],
   "source": [
    "kubectl scale --replicas=5 rs/myapp-replicaset"
   ]
  },
  {
   "cell_type": "raw",
   "id": "5cd3db6b",
   "metadata": {},
   "source": [
    "我們修改完之後可以看一下有沒有成功。"
   ]
  },
  {
   "cell_type": "code",
   "execution_count": null,
   "id": "db9c269d",
   "metadata": {},
   "outputs": [],
   "source": [
    "kubectl get pods\n",
    "kubectl describe replicaset myapp-replicaset"
   ]
  },
  {
   "cell_type": "markdown",
   "id": "1af7c5d1",
   "metadata": {},
   "source": [
    "# Deleting replicasets"
   ]
  },
  {
   "cell_type": "raw",
   "id": "ce840e1e",
   "metadata": {},
   "source": [
    "刪掉剛剛創建的 replicaset。"
   ]
  },
  {
   "cell_type": "code",
   "execution_count": null,
   "id": "015be1f1",
   "metadata": {},
   "outputs": [],
   "source": [
    "kubectl delete replicaset myapp-replicaset"
   ]
  },
  {
   "cell_type": "raw",
   "id": "a236ed71",
   "metadata": {},
   "source": [
    "看看有沒有成功刪除。"
   ]
  },
  {
   "cell_type": "code",
   "execution_count": null,
   "id": "28423227",
   "metadata": {},
   "outputs": [],
   "source": [
    "kubectl get replicasets"
   ]
  }
 ],
 "metadata": {
  "kernelspec": {
   "display_name": "Python 3",
   "language": "python",
   "name": "python3"
  },
  "language_info": {
   "codemirror_mode": {
    "name": "ipython",
    "version": 3
   },
   "file_extension": ".py",
   "mimetype": "text/x-python",
   "name": "python",
   "nbconvert_exporter": "python",
   "pygments_lexer": "ipython3",
   "version": "3.8.10"
  }
 },
 "nbformat": 4,
 "nbformat_minor": 5
}
