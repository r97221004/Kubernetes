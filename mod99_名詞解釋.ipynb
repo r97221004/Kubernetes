{
 "cells": [
  {
   "cell_type": "markdown",
   "id": "3f21dba6",
   "metadata": {},
   "source": [
    "# 一文看懂 Container Runtime"
   ]
  },
  {
   "cell_type": "markdown",
   "id": "f231b6a5",
   "metadata": {},
   "source": [
    "參考文章: https://zhuanlan.zhihu.com/p/338036211"
   ]
  },
  {
   "cell_type": "markdown",
   "id": "a8dcf53f",
   "metadata": {},
   "source": [
    "# 什麼是 FQDN"
   ]
  },
  {
   "cell_type": "markdown",
   "id": "756809ab",
   "metadata": {},
   "source": [
    "參考文章: https://linux.vbird.org/linux_server/centos6/0350dns.php#fqdn"
   ]
  },
  {
   "cell_type": "markdown",
   "id": "1aa5d3a4",
   "metadata": {},
   "source": [
    "# 設定 /etc/resolv.conf 檔案"
   ]
  },
  {
   "cell_type": "markdown",
   "id": "d7dced28",
   "metadata": {},
   "source": [
    "參考文章: http://dns-learning.twnic.net.tw/bind/intro4.html"
   ]
  },
  {
   "cell_type": "markdown",
   "id": "40a09646",
   "metadata": {},
   "source": [
    "參考文章: https://blog.csdn.net/K346K346/article/details/83790044"
   ]
  },
  {
   "cell_type": "markdown",
   "id": "0c01b566",
   "metadata": {},
   "source": [
    "# 通過DNS的負載平衡方案Round-robin DNS"
   ]
  },
  {
   "cell_type": "markdown",
   "id": "949b10e4",
   "metadata": {},
   "source": [
    "參考文章: https://topic.alibabacloud.com/tc/a/using-the-dns-server-load-balancer-solution-round-robin-dns-zz_8_8_32132056.html"
   ]
  },
  {
   "cell_type": "markdown",
   "id": "0ca5b66f",
   "metadata": {},
   "source": [
    "# CNAME ：設定某主機名稱的別名 (alias)"
   ]
  },
  {
   "cell_type": "markdown",
   "id": "0c3db5e4",
   "metadata": {},
   "source": [
    "參考文章: https://linux.vbird.org/linux_server/centos6/0350dns.php#DNS_master"
   ]
  },
  {
   "cell_type": "code",
   "execution_count": null,
   "id": "90c729d8",
   "metadata": {},
   "outputs": [],
   "source": []
  }
 ],
 "metadata": {
  "kernelspec": {
   "display_name": "Python 3",
   "language": "python",
   "name": "python3"
  },
  "language_info": {
   "codemirror_mode": {
    "name": "ipython",
    "version": 3
   },
   "file_extension": ".py",
   "mimetype": "text/x-python",
   "name": "python",
   "nbconvert_exporter": "python",
   "pygments_lexer": "ipython3",
   "version": "3.8.10"
  }
 },
 "nbformat": 4,
 "nbformat_minor": 5
}
