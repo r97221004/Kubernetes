{
 "cells": [
  {
   "cell_type": "markdown",
   "id": "3f21dba6",
   "metadata": {},
   "source": [
    "# 一文看懂 Container Runtime"
   ]
  },
  {
   "cell_type": "markdown",
   "id": "f231b6a5",
   "metadata": {},
   "source": [
    "參考文章: https://zhuanlan.zhihu.com/p/338036211"
   ]
  }
 ],
 "metadata": {
  "kernelspec": {
   "display_name": "Python 3",
   "language": "python",
   "name": "python3"
  },
  "language_info": {
   "codemirror_mode": {
    "name": "ipython",
    "version": 3
   },
   "file_extension": ".py",
   "mimetype": "text/x-python",
   "name": "python",
   "nbconvert_exporter": "python",
   "pygments_lexer": "ipython3",
   "version": "3.8.10"
  }
 },
 "nbformat": 4,
 "nbformat_minor": 5
}
