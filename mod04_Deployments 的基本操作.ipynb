{
 "cells": [
  {
   "cell_type": "markdown",
   "id": "938bc57a",
   "metadata": {},
   "source": [
    "# Creating a Deployment"
   ]
  },
  {
   "cell_type": "raw",
   "id": "2e72f67f",
   "metadata": {},
   "source": [
    "nginx_deployment.yml 檔:"
   ]
  },
  {
   "cell_type": "code",
   "execution_count": null,
   "id": "07c1463f",
   "metadata": {},
   "outputs": [],
   "source": [
    "apiVersion: apps/v1 # for versions before 1.9.0 use apps/v1beta2\n",
    "kind: Deployment\n",
    "metadata:\n",
    "  name: nginx-deployment\n",
    "spec:\n",
    "  selector:\n",
    "    matchLabels:\n",
    "      app: nginx\n",
    "  replicas: 2 # tells deployment to run 2 pods matching the template\n",
    "  template: # create pods using pod definition in this template\n",
    "    metadata:\n",
    "      # unlike pod-nginx.yaml, the name is not included in the meta data as a unique name is\n",
    "      # generated from the deployment name\n",
    "      labels:\n",
    "        app: nginx\n",
    "    spec:\n",
    "      containers:\n",
    "      - name: nginx\n",
    "        image: nginx:1.7.9\n",
    "        ports:\n",
    "        - containerPort: 80"
   ]
  },
  {
   "cell_type": "raw",
   "id": "300eaa75",
   "metadata": {},
   "source": [
    "使用 yaml 檔去啟動一個 development。"
   ]
  },
  {
   "cell_type": "code",
   "execution_count": null,
   "id": "ce9d7241",
   "metadata": {},
   "outputs": [],
   "source": [
    "kubectl create -f nginx_deployment.yml"
   ]
  },
  {
   "cell_type": "markdown",
   "id": "a5336ac0",
   "metadata": {},
   "source": [
    "# Getting deployments"
   ]
  },
  {
   "cell_type": "raw",
   "id": "6c7d3070",
   "metadata": {},
   "source": [
    "看看剛剛創建的 deployments 有沒有成功。"
   ]
  },
  {
   "cell_type": "code",
   "execution_count": null,
   "id": "887e6047",
   "metadata": {},
   "outputs": [],
   "source": [
    "kubectl get deployments"
   ]
  },
  {
   "cell_type": "raw",
   "id": "f4cacc59",
   "metadata": {},
   "source": [
    "更詳細的資訊，一樣可以使用短選項 -o 指定輸出格式。 "
   ]
  },
  {
   "cell_type": "code",
   "execution_count": null,
   "id": "c4f90a25",
   "metadata": {},
   "outputs": [],
   "source": [
    "kubectl get deployments -o wide "
   ]
  },
  {
   "cell_type": "raw",
   "id": "390e3837",
   "metadata": {},
   "source": [
    "首先會有對應的 replicaset 被創建了。"
   ]
  },
  {
   "cell_type": "code",
   "execution_count": null,
   "id": "33c3a4ac",
   "metadata": {},
   "outputs": [],
   "source": [
    "kubectl get replicasets"
   ]
  },
  {
   "cell_type": "raw",
   "id": "3171e17b",
   "metadata": {},
   "source": [
    "再來看看我們的 pods，有兩個 pods 也被創建了。"
   ]
  },
  {
   "cell_type": "code",
   "execution_count": null,
   "id": "9cea7cf5",
   "metadata": {},
   "outputs": [],
   "source": [
    "kubectl get pods -o wide"
   ]
  },
  {
   "cell_type": "raw",
   "id": "a27ed6dc",
   "metadata": {},
   "source": [
    "指定標籤，我們想要只看到剛剛用 deployments 創建的 pods。"
   ]
  },
  {
   "cell_type": "code",
   "execution_count": null,
   "id": "07f135c2",
   "metadata": {},
   "outputs": [],
   "source": [
    "kubectl get pods -l app=nginx"
   ]
  },
  {
   "cell_type": "raw",
   "id": "612b30c0",
   "metadata": {},
   "source": [
    "使用 describe 得到更詳細的 deployment 資訊。"
   ]
  },
  {
   "cell_type": "code",
   "execution_count": null,
   "id": "0f73b411",
   "metadata": {},
   "outputs": [],
   "source": [
    "kubectl describe deployment nginx-deployment"
   ]
  },
  {
   "cell_type": "markdown",
   "id": "e49166e3",
   "metadata": {},
   "source": [
    "# keeping desired pod state"
   ]
  },
  {
   "cell_type": "raw",
   "id": "48728dec",
   "metadata": {},
   "source": [
    "先看一下我們現有的 pods。"
   ]
  },
  {
   "cell_type": "code",
   "execution_count": null,
   "id": "e0673354",
   "metadata": {},
   "outputs": [],
   "source": [
    "kubectl get pod -l app=nginx"
   ]
  },
  {
   "cell_type": "raw",
   "id": "5fab189c",
   "metadata": {},
   "source": [
    "看看其中一個 deployment 產生的 pod，跟正常情況產生的 pods 的差別是會被 controlled。"
   ]
  },
  {
   "cell_type": "code",
   "execution_count": null,
   "id": "1579e6a8",
   "metadata": {},
   "outputs": [],
   "source": [
    "kubectl describe pod podName"
   ]
  },
  {
   "cell_type": "raw",
   "id": "dc7ff3e3",
   "metadata": {},
   "source": [
    "我們試著刪除一個被控制的 pod，觀察是否它還會不會被重新產出。"
   ]
  },
  {
   "cell_type": "code",
   "execution_count": null,
   "id": "1de180b2",
   "metadata": {},
   "outputs": [],
   "source": [
    "kubectl delete pod podName"
   ]
  },
  {
   "cell_type": "raw",
   "id": "f39e05f5",
   "metadata": {},
   "source": [
    "會發現 pods 的數量還是不變。"
   ]
  },
  {
   "cell_type": "code",
   "execution_count": null,
   "id": "1f09991b",
   "metadata": {},
   "outputs": [],
   "source": [
    "kubectl get pods -l app=nginx"
   ]
  },
  {
   "cell_type": "markdown",
   "id": "5b136dcd",
   "metadata": {},
   "source": [
    "# Updating the deployment"
   ]
  },
  {
   "cell_type": "markdown",
   "id": "41fe6e36",
   "metadata": {},
   "source": [
    "### 方法一: 使用 ymal 更新"
   ]
  },
  {
   "cell_type": "raw",
   "id": "40695236",
   "metadata": {},
   "source": [
    "nginx_deployment_update.yml"
   ]
  },
  {
   "cell_type": "code",
   "execution_count": null,
   "id": "d903afc1",
   "metadata": {},
   "outputs": [],
   "source": [
    "apiVersion: apps/v1 # for versions before 1.9.0 use apps/v1beta2\n",
    "kind: Deployment\n",
    "metadata:\n",
    "  name: nginx-deployment\n",
    "spec:\n",
    "  selector:\n",
    "    matchLabels:\n",
    "      app: nginx\n",
    "  replicas: 2\n",
    "  template:\n",
    "    metadata:\n",
    "      labels:\n",
    "        app: nginx\n",
    "    spec:\n",
    "      containers:\n",
    "      - name: nginx\n",
    "        image: nginx:1.8 # Update the version of nginx from 1.7.9 to 1.8\n",
    "        ports:\n",
    "        - containerPort: 80"
   ]
  },
  {
   "cell_type": "raw",
   "id": "f40c9a6c",
   "metadata": {},
   "source": [
    "這個更新過的 ymal 檔跟之前的一模一樣只是把 image 升級成 nginx:1.8，使用 apply 指令進行更新 deployments。因為我們的 resource 的名字是一樣的，所以會進行更新，如果之前沒有這個 resource，會進行創建。"
   ]
  },
  {
   "cell_type": "code",
   "execution_count": null,
   "id": "33adaf2f",
   "metadata": {},
   "outputs": [],
   "source": [
    "kubectl apply -f nginx_deployment_update.yml"
   ]
  },
  {
   "cell_type": "raw",
   "id": "69822fa1",
   "metadata": {},
   "source": [
    "看看其中一個 pod 的 image 有沒有真的被改成 image:1.8。"
   ]
  },
  {
   "cell_type": "code",
   "execution_count": null,
   "id": "9aef2ac4",
   "metadata": {},
   "outputs": [],
   "source": [
    "kubectl describe pod podName"
   ]
  },
  {
   "cell_type": "markdown",
   "id": "f0b6f2fd",
   "metadata": {},
   "source": [
    "---"
   ]
  },
  {
   "cell_type": "raw",
   "id": "c4bc9405",
   "metadata": {},
   "source": [
    "我們剛剛改了 image，接下來我們試試 Scaling the application by increasing the replica count。我們再把剛剛的 yaml 檔的 replicas 改成四。"
   ]
  },
  {
   "cell_type": "raw",
   "id": "e86b4932",
   "metadata": {},
   "source": [
    "nginx_deployment_scale 檔:"
   ]
  },
  {
   "cell_type": "code",
   "execution_count": null,
   "id": "063428fb",
   "metadata": {},
   "outputs": [],
   "source": [
    "apiVersion: apps/v1 # for versions before 1.9.0 use apps/v1beta2\n",
    "kind: Deployment\n",
    "metadata:\n",
    "  name: nginx-deployment\n",
    "spec:\n",
    "  selector:\n",
    "    matchLabels:\n",
    "      app: nginx\n",
    "  replicas: 4 # Update the replicas from 2 to 4\n",
    "  template:\n",
    "    metadata:\n",
    "      labels:\n",
    "        app: nginx\n",
    "    spec:\n",
    "      containers:\n",
    "      - name: nginx\n",
    "        image: nginx:1.8\n",
    "        ports:\n",
    "        - containerPort: 80"
   ]
  },
  {
   "cell_type": "raw",
   "id": "be31bae0",
   "metadata": {},
   "source": [
    "注意我們的 resource 名字還是不變。"
   ]
  },
  {
   "cell_type": "code",
   "execution_count": null,
   "id": "55f88342",
   "metadata": {},
   "outputs": [],
   "source": [
    "kubectl apply -f nginx_deployment_scale.yml"
   ]
  },
  {
   "cell_type": "raw",
   "id": "9a869764",
   "metadata": {},
   "source": [
    "我們的 nginx_deployment pods 真的被修改成四個 pods。"
   ]
  },
  {
   "cell_type": "code",
   "execution_count": null,
   "id": "6b95160f",
   "metadata": {},
   "outputs": [],
   "source": [
    "kubectl get pods -l app=nginx\n",
    "kubecyl get deployments "
   ]
  },
  {
   "cell_type": "markdown",
   "id": "416b763f",
   "metadata": {},
   "source": [
    "### 方法二: 使用 edit 命令"
   ]
  },
  {
   "cell_type": "raw",
   "id": "d2da1c48",
   "metadata": {},
   "source": [
    "使用以下的指令會進入 nginx-deployment 的 yaml 文件，就直接修改，比如我們把 replicas 改成三。  "
   ]
  },
  {
   "cell_type": "code",
   "execution_count": null,
   "id": "e1c2a490",
   "metadata": {},
   "outputs": [],
   "source": [
    "kubectl edit deployment nginx-deployment"
   ]
  },
  {
   "cell_type": "raw",
   "id": "bdafde3b",
   "metadata": {},
   "source": [
    "看一下剛剛的修改有沒有成功。"
   ]
  },
  {
   "cell_type": "code",
   "execution_count": null,
   "id": "db74925c",
   "metadata": {},
   "outputs": [],
   "source": [
    "kubectl get deployment nginx-deployment"
   ]
  },
  {
   "cell_type": "markdown",
   "id": "85c3a867",
   "metadata": {},
   "source": [
    "### 方法三: 使用 scale 指令改 replicas 個數"
   ]
  },
  {
   "cell_type": "raw",
   "id": "d1591ce3",
   "metadata": {},
   "source": [
    "如果想改 replicas 的個數還有這招可以使用。"
   ]
  },
  {
   "cell_type": "code",
   "execution_count": null,
   "id": "dcfd2e00",
   "metadata": {},
   "outputs": [],
   "source": [
    "kubectl scale --current-replicas=3 --replicas=4 deployment/nginx-deployment"
   ]
  },
  {
   "cell_type": "raw",
   "id": "1338734b",
   "metadata": {},
   "source": [
    "看一下剛剛的修改有沒有成功。"
   ]
  },
  {
   "cell_type": "code",
   "execution_count": null,
   "id": "b9636baa",
   "metadata": {},
   "outputs": [],
   "source": [
    "kubectl get deployment nginx-deployment"
   ]
  },
  {
   "cell_type": "markdown",
   "id": "fdf61ee7",
   "metadata": {},
   "source": [
    "### 方法四: 使用 set 命令改 image 版本"
   ]
  },
  {
   "cell_type": "raw",
   "id": "5d70a81b",
   "metadata": {},
   "source": [
    "使用 set 命令來修改 image 的版本。"
   ]
  },
  {
   "cell_type": "code",
   "execution_count": null,
   "id": "e6dc0008",
   "metadata": {},
   "outputs": [],
   "source": [
    "kubectl set image deployment/nginx-deployment nginx=nginx:1.9.1"
   ]
  },
  {
   "cell_type": "raw",
   "id": "dbd72c46",
   "metadata": {},
   "source": [
    "看一下剛剛的修改有沒有成功。"
   ]
  },
  {
   "cell_type": "code",
   "execution_count": null,
   "id": "65a05b9e",
   "metadata": {},
   "outputs": [],
   "source": [
    "kubectl get deployment nginx-deployment -o wide"
   ]
  },
  {
   "cell_type": "markdown",
   "id": "fcc89aeb",
   "metadata": {},
   "source": [
    "# Deleting a Deployment"
   ]
  },
  {
   "cell_type": "raw",
   "id": "0ed5b7cd",
   "metadata": {},
   "source": [
    "把 deployment 刪除後，相對應的 pods 也就不刪除了。"
   ]
  },
  {
   "cell_type": "code",
   "execution_count": null,
   "id": "1e71b380",
   "metadata": {},
   "outputs": [],
   "source": [
    "kubectl delete deployment nginx-deployment"
   ]
  }
 ],
 "metadata": {
  "kernelspec": {
   "display_name": "Python 3",
   "language": "python",
   "name": "python3"
  },
  "language_info": {
   "codemirror_mode": {
    "name": "ipython",
    "version": 3
   },
   "file_extension": ".py",
   "mimetype": "text/x-python",
   "name": "python",
   "nbconvert_exporter": "python",
   "pygments_lexer": "ipython3",
   "version": "3.8.10"
  }
 },
 "nbformat": 4,
 "nbformat_minor": 5
}
