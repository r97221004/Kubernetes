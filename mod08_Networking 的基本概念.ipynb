{
 "cells": [
  {
   "cell_type": "markdown",
   "id": "07f522b1",
   "metadata": {},
   "source": [
    "參考文章: https://matthewpalmer.net/kubernetes-app-developer/articles/kubernetes-networking-guide-beginners.html"
   ]
  },
  {
   "cell_type": "markdown",
   "id": "6a1b9800",
   "metadata": {},
   "source": [
    "參考文章: https://kubernetes.io/docs/concepts/cluster-administration/networking/"
   ]
  },
  {
   "cell_type": "markdown",
   "id": "f4369ac6",
   "metadata": {},
   "source": [
    "參考文章: https://kubernetes.io/docs/concepts/services-networking/dns-pod-service/"
   ]
  },
  {
   "cell_type": "markdown",
   "id": "148c7d60",
   "metadata": {},
   "source": [
    "參考文章: https://kubernetes.io/docs/concepts/services-networking/service/"
   ]
  },
  {
   "cell_type": "markdown",
   "id": "9b8f9cf8",
   "metadata": {},
   "source": [
    "# Cluster Networking"
   ]
  },
  {
   "cell_type": "raw",
   "id": "71926197",
   "metadata": {},
   "source": [
    "Networking is a central part of Kubernetes, but it can be challenging to understand exactly how it is expected to work. There are 4 distinct networking problems to address:\n",
    "\n",
    "1. Highly-coupled container-to-container communications: this is solved by Pods and localhost communications.\n",
    "2. Pod-to-Pod communications: this is the primary focus of this document.\n",
    "3. Pod-to-Service communications: this is covered by Services.\n",
    "4. External-to-Service communications: this is also covered by Services\n",
    "\n",
    "Kubernetes is all about sharing machines between applications. Typically, sharing machines requires ensuring that two applications do not try to use the same ports. Coordinating ports across multiple developers is very difficult to do at scale and exposes users to cluster-level issues outside of their control.\n",
    "\n",
    "Dynamic port allocation brings a lot of complications to the system - every application has to take ports as flags, the API servers have to know how to insert dynamic port numbers into configuration blocks, services have to know how to find each other, etc. Rather than deal with this, Kubernetes takes a different approach.\n"
   ]
  },
  {
   "cell_type": "markdown",
   "id": "8df4aae9",
   "metadata": {},
   "source": [
    "# Kubernetes Networking Guide for Beginners"
   ]
  },
  {
   "cell_type": "raw",
   "id": "0d0452d2",
   "metadata": {},
   "source": [
    "One of the hardest things to learn about Kubernetes as a software developer is how the networking works. I had never done anything with networks prior to learning Kubernetes – I just wanted to deploy my code! I started reading and immediately hit walls of jargon and inscrutable diagrams. Here's my guide to Kubernetes networking for people who aren't networking experts. There are five essential things to understand about networking in Kubernetes.\n",
    "\n",
    "\n",
    "1. Communication between containers in the same pod\n",
    "2. Communication between pods on the same node\n",
    "3. Communication between pods on different nodes\n",
    "4. Communication between pods and services\n",
    "5. How does DNS work? How do we discover IP addresses?"
   ]
  },
  {
   "cell_type": "markdown",
   "id": "1e95244d",
   "metadata": {},
   "source": [
    "<img src='./img/35.png'>"
   ]
  },
  {
   "cell_type": "markdown",
   "id": "562c29d0",
   "metadata": {},
   "source": [
    "# Communication between containers in the same pod"
   ]
  },
  {
   "cell_type": "raw",
   "id": "491e82b9",
   "metadata": {},
   "source": [
    "First, if you've got two containers running in the same pod, how do they talk to each other? This happens via localhost and port numbers. Just like when you’re running multiple servers on your own laptop. This is possible because containers in the same pod are in the same network namespace – they share networking resources."
   ]
  },
  {
   "cell_type": "markdown",
   "id": "9cb86236",
   "metadata": {},
   "source": [
    "### What is a network namespace?"
   ]
  },
  {
   "cell_type": "raw",
   "id": "31ce091e",
   "metadata": {},
   "source": [
    "It’s a collection of network interfaces (connections between two pieces of equipment on a network) and routing tables (instructions for where to send network packets).\n",
    "\n",
    "Namespaces are helpful because you can have many network namespaces on the same virtual machine without collisions or interference.\n",
    "\n",
    "(You wouldn’t want all your pods to run containers that listen on port 3000 in the same namespace – they’d all collide!)\n",
    "\n",
    "There’s a secret container that runs on every pod in Kubernetes. This container’s #1 job is to keep the namespace open in case all the other containers on the pod die. It’s called the pause container.\n",
    "\n",
    "So, each pod gets its own network namespace. Containers in the same pod are in the same network namespace. This is why you can talk between containers via localhost and why you need to watch out for port conflicts when you’ve got multiple containers in the same pod."
   ]
  },
  {
   "cell_type": "markdown",
   "id": "395d583b",
   "metadata": {},
   "source": [
    "<img src='./img/same-pod.gif'>"
   ]
  },
  {
   "cell_type": "markdown",
   "id": "dad74f9d",
   "metadata": {},
   "source": [
    "# Communication between pods on the same node"
   ]
  },
  {
   "cell_type": "raw",
   "id": "7a221521",
   "metadata": {},
   "source": [
    "Each pod on a node has its own network namespace. Each pod has its own IP address.\n",
    "\n",
    "And each pod thinks it has a totally normal ethernet device called eth0 to make network requests through. But Kubernetes is faking it – it’s just a virtual ethernet connection.\n",
    "\n",
    "Each pod’s eth0 device is actually connected to a virtual ethernet device in the node.\n",
    "\n",
    "A virtual ethernet device is a tunnel that connects the pod’s network with the node. This connection has two sides – on the pod’s side, it’s named eth0, and on the node’s side, it’s named vethX.\n",
    "\n",
    "Why the X? There’s a vethX connection for every pod on the node. (So they’d be veth1, veth2, veth3, etc.)\n",
    "\n",
    "When a pod makes a request to the IP address of another node, it makes that request through its own eth0 interface. This tunnels to the node’s respective virtual vethX interface.\n",
    "\n",
    "But then how does the request get to the other pod?\n",
    "\n",
    "The node uses a network bridge."
   ]
  },
  {
   "cell_type": "markdown",
   "id": "2fd5e206",
   "metadata": {},
   "source": [
    "### What is a Network Bridge?"
   ]
  },
  {
   "cell_type": "raw",
   "id": "dd0f6243",
   "metadata": {},
   "source": [
    "A network bridge connects two networks together. When a request hits the bridge, the bridge asks all the connected devices (i.e. pods) if they have the right IP address to handle the original request.\n",
    "\n",
    "(Remember that each pod has its own IP address and it knows its own IP address.)\n",
    "\n",
    "If one of the devices does, the bridge will store this information and also forward data to the original back so that its network request is completed.\n",
    "\n",
    "In Kubernetes, this bridge is called cbr0. Every pod on a node is part of the bridge, and the bridge connects all pods on the same node together."
   ]
  },
  {
   "cell_type": "markdown",
   "id": "d71a0953",
   "metadata": {},
   "source": [
    "<img src='./img/pods-on-node.gif'>"
   ]
  },
  {
   "cell_type": "markdown",
   "id": "0357ea07",
   "metadata": {},
   "source": [
    "### 範例"
   ]
  },
  {
   "cell_type": "code",
   "execution_count": null,
   "id": "207a0716",
   "metadata": {},
   "outputs": [],
   "source": [
    "apiVersion: v1\n",
    "kind: Pod\n",
    "metadata:\n",
    "  name: mypod1\n",
    "spec:\n",
    "  nodeName: 'k8s-worker1'\n",
    "  containers:\n",
    "  - name: pod1\n",
    "    image: xiaopeng163/net-box\n",
    "    command: [\"sh\", \"-c\", \"while true; do echo $(date) >> /tmp/index.html; sleep 60; done\"]\n",
    "---\n",
    "apiVersion: v1\n",
    "kind: Pod\n",
    "metadata:\n",
    "  name: mypod2\n",
    "spec:\n",
    "  nodeName: 'k8s-worker1'\n",
    "  containers:\n",
    "  - name: pod2\n",
    "    image: xiaopeng163/net-box\n",
    "    command: [\"sh\", \"-c\", \"while true; do echo $(date) >> /tmp/index.html; sleep 60; done\"]"
   ]
  },
  {
   "cell_type": "markdown",
   "id": "4070c198",
   "metadata": {},
   "source": [
    "# Communication between pods on different nodes"
   ]
  },
  {
   "cell_type": "raw",
   "id": "ae85cc67",
   "metadata": {},
   "source": [
    "But what if pods are on different nodes?\n",
    "\n",
    "Well, when the network bridge asks all the connected devices (i.e. pods) if they have the right IP address, none of them will say yes.\n",
    "\n",
    "(Note that this part can vary based on the cloud provider and networking plugins.)\n",
    "\n",
    "After that, the bridge falls back to the default gateway. This goes up to the cluster level and looks for the IP address.\n",
    "\n",
    "At the cluster level, there’s a table that maps IP address ranges to various nodes. Pods on those nodes will have been assigned IP addresses from those ranges.\n",
    "\n",
    "For example, Kubernetes might give pods on node 1 addresses like 100.96.1.1, 100.96.1.2, etc. And Kubernetes gives pods on node 2 addresses like 100.96.2.1, 100.96.2.2, and so on.\n",
    "\n",
    "Then this table will store the fact that IP addresses that look like 100.96.1.xxx should go to node 1, and addresses like 100.96.2.xxx need to go to node 2.\n",
    "\n",
    "After we’ve figured out which node to send the request to, the process proceeds the roughly same as if the pods had been on the same node all along."
   ]
  },
  {
   "cell_type": "markdown",
   "id": "b90a03be",
   "metadata": {},
   "source": [
    "<img src='./img/node-to-node.gif'>"
   ]
  },
  {
   "cell_type": "markdown",
   "id": "bc566111",
   "metadata": {},
   "source": [
    "### 範例"
   ]
  },
  {
   "cell_type": "markdown",
   "id": "b2d0dc34",
   "metadata": {},
   "source": [
    "參考文章: https://medium.com/@anilkreddyr/kubernetes-with-flannel-understanding-the-networking-part-2-78b53e5364c7"
   ]
  },
  {
   "cell_type": "code",
   "execution_count": null,
   "id": "e72a84c9",
   "metadata": {},
   "outputs": [],
   "source": [
    "apiVersion: v1\n",
    "kind: Pod\n",
    "metadata:\n",
    "  name: mypod1\n",
    "spec:\n",
    "  containers:\n",
    "  - name: pod1\n",
    "    image: xiaopeng163/net-box\n",
    "    command: [\"sh\", \"-c\", \"while true; do echo $(date) >> /tmp/index.html; sleep 60; done\"]\n",
    "---\n",
    "apiVersion: v1\n",
    "kind: Pod\n",
    "metadata:\n",
    "  name: mypod2\n",
    "spec:\n",
    "  containers:\n",
    "  - name: pod2\n",
    "    image: xiaopeng163/net-box\n",
    "    command: [\"sh\", \"-c\", \"while true; do echo $(date) >> /tmp/index.html; sleep 60; done\"]"
   ]
  },
  {
   "cell_type": "markdown",
   "id": "ac95044d",
   "metadata": {},
   "source": [
    "<img src='./img/36.png'>"
   ]
  },
  {
   "cell_type": "markdown",
   "id": "2b49c2dc",
   "metadata": {},
   "source": [
    "# DNS for Services and Pods"
   ]
  },
  {
   "cell_type": "raw",
   "id": "e0298c58",
   "metadata": {},
   "source": [
    "Kubernetes creates DNS records for Services and Pods. You can contact Services with consistent DNS names instead of IP addresses.\n",
    "\n",
    "Kubernetes DNS schedules a DNS Pod and Service on the cluster, and configures the kubelets to tell individual containers to use the DNS Service's IP to resolve DNS names.\n",
    "\n",
    "Every Service defined in the cluster (including the DNS server itself) is assigned a DNS name. By default, a client Pod's DNS search list includes the Pod's own namespace and the cluster's default domain."
   ]
  },
  {
   "cell_type": "markdown",
   "id": "4f0893a5",
   "metadata": {},
   "source": [
    "### Namespaces of Services"
   ]
  },
  {
   "cell_type": "raw",
   "id": "9deb72a9",
   "metadata": {},
   "source": [
    "A DNS query may return different results based on the namespace of the Pod making it. DNS queries that don't specify a namespace are limited to the Pod's namespace. Access Services in other namespaces by specifying it in the DNS query.\n",
    "\n",
    "For example, consider a Pod in a test namespace. A data Service is in the prod namespace.\n",
    "\n",
    "A query for data returns no results, because it uses the Pod's test namespace.\n",
    "\n",
    "A query for data.prod returns the intended result, because it specifies the namespace.\n",
    "\n",
    "DNS queries may be expanded using the Pod's /etc/resolv.conf. Kubelet sets this file for each Pod. For example, a query for just data may be expanded to data.test.svc.cluster.local. The values of the search option are used to expand queries. To learn more about DNS queries, see the resolv.conf manual page."
   ]
  },
  {
   "cell_type": "raw",
   "id": "274d1853",
   "metadata": {},
   "source": [
    "nameserver 10.32.0.10\n",
    "search <namespace>.svc.cluster.local svc.cluster.local cluster.local\n",
    "options ndots:5"
   ]
  },
  {
   "cell_type": "raw",
   "id": "c0275e18",
   "metadata": {},
   "source": [
    "In summary, a Pod in the test namespace can successfully resolve either data.prod or data.prod.svc.cluster.local."
   ]
  },
  {
   "cell_type": "markdown",
   "id": "ff5b1ea2",
   "metadata": {},
   "source": [
    "# Services"
   ]
  },
  {
   "cell_type": "markdown",
   "id": "404f26f7",
   "metadata": {},
   "source": [
    "### A/AAAA records"
   ]
  },
  {
   "cell_type": "raw",
   "id": "ae259b33",
   "metadata": {},
   "source": [
    "\"Normal\" (not headless) Services are assigned a DNS A or AAAA record, depending on the IP family of the Service, for a name of the form my-svc.my-namespace.svc.cluster-domain.example. This resolves to the cluster IP of the Service.\n",
    "\n",
    "\"Headless\" (without a cluster IP) Services are also assigned a DNS A or AAAA record, depending on the IP family of the Service, for a name of the form my-svc.my-namespace.svc.cluster-domain.example. Unlike normal Services, this resolves to the set of IPs of the Pods selected by the Service. Clients are expected to consume the set or else use standard round-robin selection from the set."
   ]
  },
  {
   "cell_type": "markdown",
   "id": "1e5f9b1a",
   "metadata": {},
   "source": [
    "### SRV records"
   ]
  },
  {
   "cell_type": "raw",
   "id": "825a5876",
   "metadata": {},
   "source": [
    "SRV Records are created for named ports that are part of normal or Headless Services. For each named port, the SRV record would have the form _my-port-name._my-port-protocol.my-svc.my-namespace.svc.cluster-domain.example. For a regular Service, this resolves to the port number and the domain name: my-svc.my-namespace.svc.cluster-domain.example. For a headless Service, this resolves to multiple answers, one for each Pod that is backing the Service, and contains the port number and the domain name of the Pod of the form auto-generated-name.my-svc.my-namespace.svc.cluster-domain.example."
   ]
  },
  {
   "cell_type": "markdown",
   "id": "46218bf7",
   "metadata": {},
   "source": [
    "# Pods"
   ]
  },
  {
   "cell_type": "markdown",
   "id": "298e4619",
   "metadata": {},
   "source": [
    "### A/AAAA records "
   ]
  },
  {
   "cell_type": "raw",
   "id": "fe8edbc5",
   "metadata": {},
   "source": [
    "In general a Pod has the following DNS resolution:\n",
    "\n",
    "pod-ip-address.my-namespace.pod.cluster-domain.example.\n",
    "\n",
    "For example, if a Pod in the default namespace has the IP address 172.17.0.3, and the domain name for your cluster is cluster.local, then the Pod has a DNS name:\n",
    "\n",
    "172-17-0-3.default.pod.cluster.local.\n",
    "\n",
    "Any Pods exposed by a Service have the following DNS resolution available:\n",
    "\n",
    "pod-ip-address.service-name.my-namespace.svc.cluster-domain.example."
   ]
  },
  {
   "cell_type": "markdown",
   "id": "b7387eac",
   "metadata": {},
   "source": [
    "### Pod's hostname and subdomain fields"
   ]
  },
  {
   "cell_type": "raw",
   "id": "847a572c",
   "metadata": {},
   "source": [
    "Currently when a Pod is created, its hostname is the Pod's metadata.name value.\n",
    "\n",
    "The Pod spec has an optional hostname field, which can be used to specify the Pod's hostname. When specified, it takes precedence over the Pod's name to be the hostname of the Pod. For example, given a Pod with hostname set to \"my-host\", the Pod will have its hostname set to \"my-host\".\n",
    "\n",
    "The Pod spec also has an optional subdomain field which can be used to specify its subdomain. For example, a Pod with hostname set to \"foo\", and subdomain set to \"bar\", in namespace \"my-namespace\", will have the fully qualified domain name (FQDN) \"foo.bar.my-namespace.svc.cluster-domain.example\"."
   ]
  },
  {
   "cell_type": "markdown",
   "id": "abfbf1e7",
   "metadata": {},
   "source": [
    "### 範例"
   ]
  },
  {
   "cell_type": "code",
   "execution_count": null,
   "id": "5c6360b7",
   "metadata": {},
   "outputs": [],
   "source": [
    "apiVersion: v1\n",
    "kind: Service\n",
    "metadata:\n",
    "  name: default-subdomain\n",
    "spec:\n",
    "  selector:\n",
    "    name: busybox\n",
    "  clusterIP: None\n",
    "  ports:\n",
    "  - name: foo # Actually, no port is needed.\n",
    "    port: 1234\n",
    "    targetPort: 1234\n",
    "---\n",
    "apiVersion: v1\n",
    "kind: Pod\n",
    "metadata:\n",
    "  name: busybox1\n",
    "  labels:\n",
    "    name: busybox\n",
    "spec:\n",
    "  hostname: busybox-1\n",
    "  subdomain: default-subdomain\n",
    "  containers:\n",
    "  - image: busybox:1.28\n",
    "    command:\n",
    "      - sleep\n",
    "      - \"3600\"\n",
    "    name: busybox\n",
    "---\n",
    "apiVersion: v1\n",
    "kind: Pod\n",
    "metadata:\n",
    "  name: busybox2\n",
    "  labels:\n",
    "    name: busybox\n",
    "spec:\n",
    "  hostname: busybox-2\n",
    "  subdomain: default-subdomain\n",
    "  containers:\n",
    "  - image: busybox:1.28\n",
    "    command:\n",
    "      - sleep\n",
    "      - \"3600\"\n",
    "    name: busybox"
   ]
  },
  {
   "cell_type": "raw",
   "id": "84b98b87",
   "metadata": {},
   "source": [
    "If there exists a headless Service in the same namespace as the Pod and with the same name as the subdomain, the cluster's DNS Server also returns an A or AAAA record for the Pod's fully qualified hostname. For example, given a Pod with the hostname set to \"busybox-1\" and the subdomain set to \"default-subdomain\", and a headless Service named \"default-subdomain\" in the same namespace, the Pod will see its own FQDN as \"busybox-1.default-subdomain.my-namespace.svc.cluster-domain.example\". DNS serves an A or AAAA record at that name, pointing to the Pod's IP. Both Pods \"busybox1\" and \"busybox2\" can have their distinct A or AAAA records.\n",
    "\n",
    "An EndpointSlice can specify the DNS hostname for any endpoint addresses, along with its IP."
   ]
  },
  {
   "cell_type": "raw",
   "id": "49348782",
   "metadata": {},
   "source": [
    "Note: Because A or AAAA records are not created for Pod names, hostname is required for the Pod's A or AAAA record to be created. A Pod with no hostname but with subdomain will only create the A or AAAA record for the headless Service (default-subdomain.my-namespace.svc.cluster-domain.example), pointing to the Pod's IP address. Also, Pod needs to become ready in order to have a record unless publishNotReadyAddresses=True is set on the Service."
   ]
  },
  {
   "cell_type": "markdown",
   "id": "c1dc7c5d",
   "metadata": {},
   "source": [
    "### Pod's setHostnameAsFQDN field"
   ]
  },
  {
   "cell_type": "raw",
   "id": "a2ad6bf1",
   "metadata": {},
   "source": [
    "When a Pod is configured to have fully qualified domain name (FQDN), its hostname is the short hostname. For example, if you have a Pod with the fully qualified domain name busybox-1.default-subdomain.my-namespace.svc.cluster-domain.example, then by default the hostname command inside that Pod returns busybox-1 and the hostname --fqdn command returns the FQDN.\n",
    "\n",
    "When you set setHostnameAsFQDN: true in the Pod spec, the kubelet writes the Pod's FQDN into the hostname for that Pod's namespace. In this case, both hostname and hostname --fqdn return the Pod's FQDN."
   ]
  },
  {
   "cell_type": "raw",
   "id": "c1dcb8cd",
   "metadata": {},
   "source": [
    "Note:\n",
    "In Linux, the hostname field of the kernel (the nodename field of struct utsname) is limited to 64 characters.\n",
    "\n",
    "If a Pod enables this feature and its FQDN is longer than 64 character, it will fail to start. The Pod will remain in Pending status (ContainerCreating as seen by kubectl) generating error events, such as Failed to construct FQDN from Pod hostname and cluster domain, FQDN long-FQDN is too long (64 characters is the max, 70 characters requested). One way of improving user experience for this scenario is to create an admission webhook controller to control FQDN size when users create top level objects, for example, Deployment."
   ]
  },
  {
   "cell_type": "markdown",
   "id": "3874f06d",
   "metadata": {},
   "source": [
    "### Pod's DNS Policy"
   ]
  },
  {
   "cell_type": "raw",
   "id": "c0234e2a",
   "metadata": {},
   "source": [
    "DNS policies can be set on a per-Pod basis. Currently Kubernetes supports the following Pod-specific DNS policies. These policies are specified in the dnsPolicy field of a Pod Spec.\n",
    "\n",
    "1. \"Default\": The Pod inherits the name resolution configuration from the node that the Pods run on. See related discussion \n",
    "   for more details.\n",
    "2. \"ClusterFirst\": Any DNS query that does not match the configured cluster domain suffix, such as \"www.kubernetes.io\", is    forwarded to the upstream nameserver inherited from the node. Cluster administrators may have extra stub-domain and  \n",
    "   upstream DNS servers configured. See related discussion for details on how DNS queries are handled in those cases.\n",
    "3. \"ClusterFirstWithHostNet\": For Pods running with hostNetwork, you should explicitly set its DNS policy \n",
    "   \"ClusterFirstWithHostNet\".\n",
    "       Note: This is not supported on Windows. See below for details\n",
    "4. \"None\": It allows a Pod to ignore DNS settings from the Kubernetes environment. All DNS settings are supposed to be \n",
    "   provided using the dnsConfig field in the Pod Spec. See Pod's DNS config subsection below."
   ]
  },
  {
   "cell_type": "raw",
   "id": "fc289f17",
   "metadata": {},
   "source": [
    "Note: \"Default\" is not the default DNS policy. If dnsPolicy is not explicitly specified, then \"ClusterFirst\" is used."
   ]
  },
  {
   "cell_type": "raw",
   "id": "59582b29",
   "metadata": {},
   "source": [
    "The example below shows a Pod with its DNS policy set to \"ClusterFirstWithHostNet\" because it has hostNetwork set to true."
   ]
  },
  {
   "cell_type": "code",
   "execution_count": null,
   "id": "10ef9282",
   "metadata": {},
   "outputs": [],
   "source": [
    "apiVersion: v1\n",
    "kind: Pod\n",
    "metadata:\n",
    "  name: busybox\n",
    "  namespace: default\n",
    "spec:\n",
    "  containers:\n",
    "  - image: busybox:1.28\n",
    "    command:\n",
    "      - sleep\n",
    "      - \"3600\"\n",
    "    imagePullPolicy: IfNotPresent\n",
    "    name: busybox\n",
    "  restartPolicy: Always\n",
    "  hostNetwork: true\n",
    "  dnsPolicy: ClusterFirstWithHostNet"
   ]
  },
  {
   "cell_type": "markdown",
   "id": "0975e159",
   "metadata": {},
   "source": [
    "### Pod's DNS Config"
   ]
  },
  {
   "cell_type": "raw",
   "id": "9fcf87f2",
   "metadata": {},
   "source": [
    "Pod's DNS Config allows users more control on the DNS settings for a Pod.\n",
    "\n",
    "The dnsConfig field is optional and it can work with any dnsPolicy settings. However, when a Pod's dnsPolicy is set to \"None\", the dnsConfig field has to be specified.\n",
    "\n",
    "Below are the properties a user can specify in the dnsConfig field:\n",
    "\n",
    "1. nameservers: a list of IP addresses that will be used as DNS servers for the Pod. There can be at most 3 IP addresses \n",
    "   specified. When the Pod's dnsPolicy is set to \"None\", the list must contain at least one IP address, otherwise this \n",
    "   property is optional. The servers listed will be combined to the base nameservers generated from the specified DNS  \n",
    "   policy with duplicate addresses removed.\n",
    "2. searches: a list of DNS search domains for hostname lookup in the Pod. This property is optional. When specified, the \n",
    "   provided list will be merged into the base search domain names generated from the chosen DNS policy. Duplicate domain \n",
    "   names are removed. Kubernetes allows for at most 6 search domains.\n",
    "3. options: an optional list of objects where each object may have a name property (required) and a value property \n",
    "   (optional). The contents in this property will be merged to the options generated from the specified DNS policy.   \n",
    "   Duplicate entries are removed.\n",
    "\n",
    "The following is an example Pod with custom DNS settings:"
   ]
  },
  {
   "cell_type": "code",
   "execution_count": null,
   "id": "74ce10bd",
   "metadata": {},
   "outputs": [],
   "source": [
    "apiVersion: v1\n",
    "kind: Pod\n",
    "metadata:\n",
    "  namespace: default\n",
    "  name: dns-example\n",
    "spec:\n",
    "  containers:\n",
    "    - name: test\n",
    "      image: nginx\n",
    "  dnsPolicy: \"None\"\n",
    "  dnsConfig:\n",
    "    nameservers:\n",
    "      - 1.2.3.4\n",
    "    searches:\n",
    "      - ns1.svc.cluster-domain.example\n",
    "      - my.dns.search.suffix\n",
    "    options:\n",
    "      - name: ndots\n",
    "        value: \"2\"\n",
    "      - name: edns0"
   ]
  },
  {
   "cell_type": "raw",
   "id": "5a3dcaa1",
   "metadata": {},
   "source": [
    "When the Pod above is created, the container test gets the following contents in its /etc/resolv.conf file:"
   ]
  },
  {
   "cell_type": "code",
   "execution_count": null,
   "id": "93607589",
   "metadata": {},
   "outputs": [],
   "source": [
    "nameserver 1.2.3.4\n",
    "search ns1.svc.cluster-domain.example my.dns.search.suffix\n",
    "options ndots:2 edns0"
   ]
  },
  {
   "cell_type": "raw",
   "id": "2dd012bf",
   "metadata": {},
   "source": [
    "For IPv6 setup, search path and name server should be set up like this:"
   ]
  },
  {
   "cell_type": "code",
   "execution_count": null,
   "id": "9854fe9e",
   "metadata": {},
   "outputs": [],
   "source": [
    "kubectl exec -it dns-example -- cat /etc/resolv.conf"
   ]
  },
  {
   "cell_type": "raw",
   "id": "f0692e0b",
   "metadata": {},
   "source": [
    "The output is similar to this:"
   ]
  },
  {
   "cell_type": "raw",
   "id": "573cb82b",
   "metadata": {},
   "source": [
    "nameserver 2001:db8:30::a\n",
    "search default.svc.cluster-domain.example svc.cluster-domain.example cluster-domain.example\n",
    "options ndots:5"
   ]
  },
  {
   "cell_type": "markdown",
   "id": "0a348243",
   "metadata": {},
   "source": [
    "### 範例"
   ]
  },
  {
   "cell_type": "raw",
   "id": "35f1b1d4",
   "metadata": {},
   "source": [
    "k8s 預設就會創建幾個 pod ，其中一個就是 coredns，在 kube-system 的 namespace"
   ]
  },
  {
   "cell_type": "code",
   "execution_count": null,
   "id": "760378aa",
   "metadata": {},
   "outputs": [],
   "source": [
    "kubectl get pod -A"
   ]
  },
  {
   "cell_type": "raw",
   "id": "6bc6ce92",
   "metadata": {},
   "source": [
    "他其實是被 deployment 所控制的，也就是說有一個名為 coredns 的 deployment"
   ]
  },
  {
   "cell_type": "code",
   "execution_count": null,
   "id": "f34af91d",
   "metadata": {},
   "outputs": [],
   "source": [
    "kubectl get deployment -A"
   ]
  },
  {
   "cell_type": "raw",
   "id": "96957c9f",
   "metadata": {},
   "source": [
    "對應的 replicaSet "
   ]
  },
  {
   "cell_type": "code",
   "execution_count": null,
   "id": "1f9711b7",
   "metadata": {},
   "outputs": [],
   "source": [
    "kubectl get replicasets -A"
   ]
  },
  {
   "cell_type": "raw",
   "id": "aa9dacb4",
   "metadata": {},
   "source": [
    "其實還有一個對應的 service，為我們提供 dns 服務"
   ]
  },
  {
   "cell_type": "code",
   "execution_count": null,
   "id": "3f454d63",
   "metadata": {},
   "outputs": [],
   "source": [
    "kubectl get service -A"
   ]
  },
  {
   "cell_type": "markdown",
   "id": "1f74ef83",
   "metadata": {},
   "source": [
    "<img src='./img/37.png'>"
   ]
  },
  {
   "cell_type": "raw",
   "id": "3ed634ee",
   "metadata": {},
   "source": [
    "現在先創建一個 pod"
   ]
  },
  {
   "cell_type": "code",
   "execution_count": null,
   "id": "f336da3b",
   "metadata": {},
   "outputs": [],
   "source": [
    "kubectl run client --image=xiaopeng163/net-box --command -- sh -c \"sleep 100000\""
   ]
  },
  {
   "cell_type": "raw",
   "id": "0e39ba0b",
   "metadata": {},
   "source": [
    "查看有沒有創建成功"
   ]
  },
  {
   "cell_type": "code",
   "execution_count": null,
   "id": "25903474",
   "metadata": {},
   "outputs": [],
   "source": [
    "kubectl get pods"
   ]
  },
  {
   "cell_type": "raw",
   "id": "a634ee4c",
   "metadata": {},
   "source": [
    "進入 pod 的 shell"
   ]
  },
  {
   "cell_type": "code",
   "execution_count": null,
   "id": "b815e085",
   "metadata": {},
   "outputs": [],
   "source": [
    "kubectl exec -it client -- sh "
   ]
  },
  {
   "cell_type": "raw",
   "id": "e8317a9b",
   "metadata": {},
   "source": [
    "觀察一下 dns 配置文件，注意到 nameserver 跟我們剛剛看到的 dns server 一樣的 IP"
   ]
  },
  {
   "cell_type": "code",
   "execution_count": null,
   "id": "59409ad3",
   "metadata": {},
   "outputs": [],
   "source": [
    "cat /etc/resolv.conf"
   ]
  },
  {
   "cell_type": "markdown",
   "id": "9c6038e1",
   "metadata": {},
   "source": [
    "<img src='./img/38.png'>"
   ]
  },
  {
   "cell_type": "raw",
   "id": "3f7fe46f",
   "metadata": {},
   "source": [
    "查看 pod 的 ip"
   ]
  },
  {
   "cell_type": "code",
   "execution_count": null,
   "id": "2076c6cf",
   "metadata": {},
   "outputs": [],
   "source": [
    "ip addr"
   ]
  },
  {
   "cell_type": "raw",
   "id": "e918188d",
   "metadata": {},
   "source": [
    "網域解析成功，注意因為我們沒有指定 hostname，所以 nslookup client.default.pod.cluster.local 會解析失敗"
   ]
  },
  {
   "cell_type": "code",
   "execution_count": null,
   "id": "0c5a7fbe",
   "metadata": {},
   "outputs": [],
   "source": [
    "nslookup 172-17-0-4.default.pod.cluster.local"
   ]
  },
  {
   "cell_type": "markdown",
   "id": "727ed05f",
   "metadata": {},
   "source": [
    "<img src='./img/39.png'>"
   ]
  },
  {
   "cell_type": "raw",
   "id": "0f4b006e",
   "metadata": {},
   "source": [
    "nslookup 172-17-0-4.default.pod.cluster.local 在本地是查不到的， 看看本地的配置 cat /etc/resove.conf 會知道我們的 nameserver 不會有 10.96.0.10 這個 dns server。除非在最後加上 10.96.0.10， 表示由這台服務器來解析。"
   ]
  },
  {
   "cell_type": "raw",
   "id": "48db7189",
   "metadata": {},
   "source": [
    "看一下 coredns 相關的 configMap"
   ]
  },
  {
   "cell_type": "code",
   "execution_count": null,
   "id": "966ab161",
   "metadata": {},
   "outputs": [],
   "source": [
    "kubectl get configeMap -A"
   ]
  },
  {
   "cell_type": "code",
   "execution_count": null,
   "id": "6b327ebe",
   "metadata": {},
   "outputs": [],
   "source": [
    "kubectl describe configmaps coredns --namespace kube-system"
   ]
  },
  {
   "cell_type": "markdown",
   "id": "187d8d68",
   "metadata": {},
   "source": [
    "<img src='./img/40.png'>"
   ]
  },
  {
   "cell_type": "raw",
   "id": "41302f6f",
   "metadata": {},
   "source": [
    "為什麼在 pod 也可以 ping 通 www.google.com 就是因為無法解析的網域會被導轉到本地。"
   ]
  },
  {
   "cell_type": "code",
   "execution_count": null,
   "id": "892344fe",
   "metadata": {},
   "outputs": [],
   "source": []
  },
  {
   "cell_type": "code",
   "execution_count": null,
   "id": "edbc5970",
   "metadata": {},
   "outputs": [],
   "source": []
  },
  {
   "cell_type": "code",
   "execution_count": null,
   "id": "7d2cef6e",
   "metadata": {},
   "outputs": [],
   "source": []
  },
  {
   "cell_type": "code",
   "execution_count": null,
   "id": "6ce82334",
   "metadata": {},
   "outputs": [],
   "source": []
  },
  {
   "cell_type": "code",
   "execution_count": null,
   "id": "c7d458ae",
   "metadata": {},
   "outputs": [],
   "source": []
  }
 ],
 "metadata": {
  "kernelspec": {
   "display_name": "Python 3",
   "language": "python",
   "name": "python3"
  },
  "language_info": {
   "codemirror_mode": {
    "name": "ipython",
    "version": 3
   },
   "file_extension": ".py",
   "mimetype": "text/x-python",
   "name": "python",
   "nbconvert_exporter": "python",
   "pygments_lexer": "ipython3",
   "version": "3.8.10"
  }
 },
 "nbformat": 4,
 "nbformat_minor": 5
}
