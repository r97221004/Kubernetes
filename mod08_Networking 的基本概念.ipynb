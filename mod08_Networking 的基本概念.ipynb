{
 "cells": [
  {
   "cell_type": "markdown",
   "id": "07f522b1",
   "metadata": {},
   "source": [
    "參考文章: https://matthewpalmer.net/kubernetes-app-developer/articles/kubernetes-networking-guide-beginners.html"
   ]
  },
  {
   "cell_type": "markdown",
   "id": "6a1b9800",
   "metadata": {},
   "source": [
    "參考文章: https://kubernetes.io/docs/concepts/cluster-administration/networking/"
   ]
  },
  {
   "cell_type": "markdown",
   "id": "f4369ac6",
   "metadata": {},
   "source": [
    "參考文章: https://kubernetes.io/docs/concepts/services-networking/dns-pod-service/"
   ]
  },
  {
   "cell_type": "markdown",
   "id": "148c7d60",
   "metadata": {},
   "source": [
    "參考文章: https://kubernetes.io/docs/concepts/services-networking/service/"
   ]
  },
  {
   "cell_type": "markdown",
   "id": "9b8f9cf8",
   "metadata": {},
   "source": [
    "# Cluster Networking"
   ]
  },
  {
   "cell_type": "raw",
   "id": "71926197",
   "metadata": {},
   "source": [
    "Networking is a central part of Kubernetes, but it can be challenging to understand exactly how it is expected to work. There are 4 distinct networking problems to address:\n",
    "\n",
    "1. Highly-coupled container-to-container communications: this is solved by Pods and localhost communications.\n",
    "2. Pod-to-Pod communications: this is the primary focus of this document.\n",
    "3. Pod-to-Service communications: this is covered by Services.\n",
    "4. External-to-Service communications: this is also covered by Services\n",
    "\n",
    "Kubernetes is all about sharing machines between applications. Typically, sharing machines requires ensuring that two applications do not try to use the same ports. Coordinating ports across multiple developers is very difficult to do at scale and exposes users to cluster-level issues outside of their control.\n",
    "\n",
    "Dynamic port allocation brings a lot of complications to the system - every application has to take ports as flags, the API servers have to know how to insert dynamic port numbers into configuration blocks, services have to know how to find each other, etc. Rather than deal with this, Kubernetes takes a different approach.\n"
   ]
  },
  {
   "cell_type": "markdown",
   "id": "8df4aae9",
   "metadata": {},
   "source": [
    "# Kubernetes Networking Guide for Beginners"
   ]
  },
  {
   "cell_type": "raw",
   "id": "0d0452d2",
   "metadata": {},
   "source": [
    "One of the hardest things to learn about Kubernetes as a software developer is how the networking works. I had never done anything with networks prior to learning Kubernetes – I just wanted to deploy my code! I started reading and immediately hit walls of jargon and inscrutable diagrams. Here's my guide to Kubernetes networking for people who aren't networking experts. There are five essential things to understand about networking in Kubernetes.\n",
    "\n",
    "\n",
    "1. Communication between containers in the same pod\n",
    "2. Communication between pods on the same node\n",
    "3. Communication between pods on different nodes\n",
    "4. Communication between pods and services\n",
    "5. How does DNS work? How do we discover IP addresses?"
   ]
  },
  {
   "cell_type": "markdown",
   "id": "1e95244d",
   "metadata": {},
   "source": [
    "<img src='./img/35.png'>"
   ]
  },
  {
   "cell_type": "markdown",
   "id": "562c29d0",
   "metadata": {},
   "source": [
    "# Communication between containers in the same pod"
   ]
  },
  {
   "cell_type": "raw",
   "id": "491e82b9",
   "metadata": {},
   "source": [
    "First, if you've got two containers running in the same pod, how do they talk to each other? This happens via localhost and port numbers. Just like when you’re running multiple servers on your own laptop. This is possible because containers in the same pod are in the same network namespace – they share networking resources."
   ]
  },
  {
   "cell_type": "markdown",
   "id": "9cb86236",
   "metadata": {},
   "source": [
    "### What is a network namespace?"
   ]
  },
  {
   "cell_type": "raw",
   "id": "31ce091e",
   "metadata": {},
   "source": [
    "It’s a collection of network interfaces (connections between two pieces of equipment on a network) and routing tables (instructions for where to send network packets).\n",
    "\n",
    "Namespaces are helpful because you can have many network namespaces on the same virtual machine without collisions or interference.\n",
    "\n",
    "(You wouldn’t want all your pods to run containers that listen on port 3000 in the same namespace – they’d all collide!)\n",
    "\n",
    "There’s a secret container that runs on every pod in Kubernetes. This container’s #1 job is to keep the namespace open in case all the other containers on the pod die. It’s called the pause container.\n",
    "\n",
    "So, each pod gets its own network namespace. Containers in the same pod are in the same network namespace. This is why you can talk between containers via localhost and why you need to watch out for port conflicts when you’ve got multiple containers in the same pod."
   ]
  },
  {
   "cell_type": "markdown",
   "id": "395d583b",
   "metadata": {},
   "source": [
    "<img src='./img/same-pod.gif'>"
   ]
  },
  {
   "cell_type": "markdown",
   "id": "dad74f9d",
   "metadata": {},
   "source": [
    "# Communication between pods on the same node"
   ]
  },
  {
   "cell_type": "raw",
   "id": "7a221521",
   "metadata": {},
   "source": [
    "Each pod on a node has its own network namespace. Each pod has its own IP address.\n",
    "\n",
    "And each pod thinks it has a totally normal ethernet device called eth0 to make network requests through. But Kubernetes is faking it – it’s just a virtual ethernet connection.\n",
    "\n",
    "Each pod’s eth0 device is actually connected to a virtual ethernet device in the node.\n",
    "\n",
    "A virtual ethernet device is a tunnel that connects the pod’s network with the node. This connection has two sides – on the pod’s side, it’s named eth0, and on the node’s side, it’s named vethX.\n",
    "\n",
    "Why the X? There’s a vethX connection for every pod on the node. (So they’d be veth1, veth2, veth3, etc.)\n",
    "\n",
    "When a pod makes a request to the IP address of another node, it makes that request through its own eth0 interface. This tunnels to the node’s respective virtual vethX interface.\n",
    "\n",
    "But then how does the request get to the other pod?\n",
    "\n",
    "The node uses a network bridge."
   ]
  },
  {
   "cell_type": "markdown",
   "id": "2fd5e206",
   "metadata": {},
   "source": [
    "### What is a Network Bridge?"
   ]
  },
  {
   "cell_type": "raw",
   "id": "dd0f6243",
   "metadata": {},
   "source": [
    "A network bridge connects two networks together. When a request hits the bridge, the bridge asks all the connected devices (i.e. pods) if they have the right IP address to handle the original request.\n",
    "\n",
    "(Remember that each pod has its own IP address and it knows its own IP address.)\n",
    "\n",
    "If one of the devices does, the bridge will store this information and also forward data to the original back so that its network request is completed.\n",
    "\n",
    "In Kubernetes, this bridge is called cbr0. Every pod on a node is part of the bridge, and the bridge connects all pods on the same node together."
   ]
  },
  {
   "cell_type": "markdown",
   "id": "d71a0953",
   "metadata": {},
   "source": [
    "<img src='./img/pods-on-node.gif'>"
   ]
  },
  {
   "cell_type": "markdown",
   "id": "0357ea07",
   "metadata": {},
   "source": [
    "### 範例"
   ]
  },
  {
   "cell_type": "code",
   "execution_count": null,
   "id": "207a0716",
   "metadata": {},
   "outputs": [],
   "source": [
    "apiVersion: v1\n",
    "kind: Pod\n",
    "metadata:\n",
    "  name: mypod1\n",
    "spec:\n",
    "  nodeName: 'k8s-worker1'\n",
    "  containers:\n",
    "  - name: pod1\n",
    "    image: xiaopeng163/net-box\n",
    "    command: [\"sh\", \"-c\", \"while true; do echo $(date) >> /tmp/index.html; sleep 60; done\"]\n",
    "---\n",
    "apiVersion: v1\n",
    "kind: Pod\n",
    "metadata:\n",
    "  name: mypod2\n",
    "spec:\n",
    "  nodeName: 'k8s-worker1'\n",
    "  containers:\n",
    "  - name: pod2\n",
    "    image: xiaopeng163/net-box\n",
    "    command: [\"sh\", \"-c\", \"while true; do echo $(date) >> /tmp/index.html; sleep 60; done\"]"
   ]
  },
  {
   "cell_type": "markdown",
   "id": "4070c198",
   "metadata": {},
   "source": [
    "# Communication between pods on different nodes"
   ]
  },
  {
   "cell_type": "raw",
   "id": "ae85cc67",
   "metadata": {},
   "source": [
    "But what if pods are on different nodes?\n",
    "\n",
    "Well, when the network bridge asks all the connected devices (i.e. pods) if they have the right IP address, none of them will say yes.\n",
    "\n",
    "(Note that this part can vary based on the cloud provider and networking plugins.)\n",
    "\n",
    "After that, the bridge falls back to the default gateway. This goes up to the cluster level and looks for the IP address.\n",
    "\n",
    "At the cluster level, there’s a table that maps IP address ranges to various nodes. Pods on those nodes will have been assigned IP addresses from those ranges.\n",
    "\n",
    "For example, Kubernetes might give pods on node 1 addresses like 100.96.1.1, 100.96.1.2, etc. And Kubernetes gives pods on node 2 addresses like 100.96.2.1, 100.96.2.2, and so on.\n",
    "\n",
    "Then this table will store the fact that IP addresses that look like 100.96.1.xxx should go to node 1, and addresses like 100.96.2.xxx need to go to node 2.\n",
    "\n",
    "After we’ve figured out which node to send the request to, the process proceeds the roughly same as if the pods had been on the same node all along."
   ]
  },
  {
   "cell_type": "markdown",
   "id": "b90a03be",
   "metadata": {},
   "source": [
    "<img src='./img/node-to-node.gif'>"
   ]
  },
  {
   "cell_type": "markdown",
   "id": "bc566111",
   "metadata": {},
   "source": [
    "### 範例"
   ]
  },
  {
   "cell_type": "markdown",
   "id": "b2d0dc34",
   "metadata": {},
   "source": [
    "參考文章: https://medium.com/@anilkreddyr/kubernetes-with-flannel-understanding-the-networking-part-2-78b53e5364c7"
   ]
  },
  {
   "cell_type": "code",
   "execution_count": null,
   "id": "e72a84c9",
   "metadata": {},
   "outputs": [],
   "source": [
    "apiVersion: v1\n",
    "kind: Pod\n",
    "metadata:\n",
    "  name: mypod1\n",
    "spec:\n",
    "  containers:\n",
    "  - name: pod1\n",
    "    image: xiaopeng163/net-box\n",
    "    command: [\"sh\", \"-c\", \"while true; do echo $(date) >> /tmp/index.html; sleep 60; done\"]\n",
    "---\n",
    "apiVersion: v1\n",
    "kind: Pod\n",
    "metadata:\n",
    "  name: mypod2\n",
    "spec:\n",
    "  containers:\n",
    "  - name: pod2\n",
    "    image: xiaopeng163/net-box\n",
    "    command: [\"sh\", \"-c\", \"while true; do echo $(date) >> /tmp/index.html; sleep 60; done\"]"
   ]
  },
  {
   "cell_type": "markdown",
   "id": "ac95044d",
   "metadata": {},
   "source": [
    "<img src='./img/36.png'>"
   ]
  },
  {
   "cell_type": "markdown",
   "id": "2b49c2dc",
   "metadata": {},
   "source": [
    "# DNS for Services and Pods"
   ]
  },
  {
   "cell_type": "raw",
   "id": "e0298c58",
   "metadata": {},
   "source": [
    "Kubernetes creates DNS records for Services and Pods. You can contact Services with consistent DNS names instead of IP addresses.\n",
    "\n",
    "Kubernetes DNS schedules a DNS Pod and Service on the cluster, and configures the kubelets to tell individual containers to use the DNS Service's IP to resolve DNS names.\n",
    "\n",
    "Every Service defined in the cluster (including the DNS server itself) is assigned a DNS name. By default, a client Pod's DNS search list includes the Pod's own namespace and the cluster's default domain."
   ]
  },
  {
   "cell_type": "markdown",
   "id": "4f0893a5",
   "metadata": {},
   "source": [
    "### Namespaces of Services"
   ]
  },
  {
   "cell_type": "raw",
   "id": "9deb72a9",
   "metadata": {},
   "source": [
    "A DNS query may return different results based on the namespace of the Pod making it. DNS queries that don't specify a namespace are limited to the Pod's namespace. Access Services in other namespaces by specifying it in the DNS query.\n",
    "\n",
    "For example, consider a Pod in a test namespace. A data Service is in the prod namespace.\n",
    "\n",
    "A query for data returns no results, because it uses the Pod's test namespace.\n",
    "\n",
    "A query for data.prod returns the intended result, because it specifies the namespace.\n",
    "\n",
    "DNS queries may be expanded using the Pod's /etc/resolv.conf. Kubelet sets this file for each Pod. For example, a query for just data may be expanded to data.test.svc.cluster.local. The values of the search option are used to expand queries. To learn more about DNS queries, see the resolv.conf manual page."
   ]
  },
  {
   "cell_type": "raw",
   "id": "274d1853",
   "metadata": {},
   "source": [
    "nameserver 10.32.0.10\n",
    "search <namespace>.svc.cluster.local svc.cluster.local cluster.local\n",
    "options ndots:5"
   ]
  },
  {
   "cell_type": "raw",
   "id": "c0275e18",
   "metadata": {},
   "source": [
    "In summary, a Pod in the test namespace can successfully resolve either data.prod or data.prod.svc.cluster.local."
   ]
  },
  {
   "cell_type": "markdown",
   "id": "ff5b1ea2",
   "metadata": {},
   "source": [
    "# Services"
   ]
  },
  {
   "cell_type": "markdown",
   "id": "404f26f7",
   "metadata": {},
   "source": [
    "### A/AAAA records"
   ]
  },
  {
   "cell_type": "raw",
   "id": "ae259b33",
   "metadata": {},
   "source": [
    "\"Normal\" (not headless) Services are assigned a DNS A or AAAA record, depending on the IP family of the Service, for a name of the form my-svc.my-namespace.svc.cluster-domain.example. This resolves to the cluster IP of the Service.\n",
    "\n",
    "\"Headless\" (without a cluster IP) Services are also assigned a DNS A or AAAA record, depending on the IP family of the Service, for a name of the form my-svc.my-namespace.svc.cluster-domain.example. Unlike normal Services, this resolves to the set of IPs of the Pods selected by the Service. Clients are expected to consume the set or else use standard round-robin selection from the set."
   ]
  },
  {
   "cell_type": "markdown",
   "id": "1e5f9b1a",
   "metadata": {},
   "source": [
    "### SRV records"
   ]
  },
  {
   "cell_type": "raw",
   "id": "825a5876",
   "metadata": {},
   "source": [
    "SRV Records are created for named ports that are part of normal or Headless Services. For each named port, the SRV record would have the form _my-port-name._my-port-protocol.my-svc.my-namespace.svc.cluster-domain.example. For a regular Service, this resolves to the port number and the domain name: my-svc.my-namespace.svc.cluster-domain.example. For a headless Service, this resolves to multiple answers, one for each Pod that is backing the Service, and contains the port number and the domain name of the Pod of the form auto-generated-name.my-svc.my-namespace.svc.cluster-domain.example."
   ]
  },
  {
   "cell_type": "markdown",
   "id": "46218bf7",
   "metadata": {},
   "source": [
    "# Pods"
   ]
  },
  {
   "cell_type": "markdown",
   "id": "298e4619",
   "metadata": {},
   "source": [
    "### A/AAAA records "
   ]
  },
  {
   "cell_type": "raw",
   "id": "fe8edbc5",
   "metadata": {},
   "source": [
    "In general a Pod has the following DNS resolution:\n",
    "\n",
    "pod-ip-address.my-namespace.pod.cluster-domain.example.\n",
    "\n",
    "For example, if a Pod in the default namespace has the IP address 172.17.0.3, and the domain name for your cluster is cluster.local, then the Pod has a DNS name:\n",
    "\n",
    "172-17-0-3.default.pod.cluster.local.\n",
    "\n",
    "Any Pods exposed by a Service have the following DNS resolution available:\n",
    "\n",
    "pod-ip-address.service-name.my-namespace.svc.cluster-domain.example."
   ]
  },
  {
   "cell_type": "markdown",
   "id": "b7387eac",
   "metadata": {},
   "source": [
    "### Pod's hostname and subdomain fields"
   ]
  },
  {
   "cell_type": "raw",
   "id": "847a572c",
   "metadata": {},
   "source": [
    "Currently when a Pod is created, its hostname is the Pod's metadata.name value.\n",
    "\n",
    "The Pod spec has an optional hostname field, which can be used to specify the Pod's hostname. When specified, it takes precedence over the Pod's name to be the hostname of the Pod. For example, given a Pod with hostname set to \"my-host\", the Pod will have its hostname set to \"my-host\".\n",
    "\n",
    "The Pod spec also has an optional subdomain field which can be used to specify its subdomain. For example, a Pod with hostname set to \"foo\", and subdomain set to \"bar\", in namespace \"my-namespace\", will have the fully qualified domain name (FQDN) \"foo.bar.my-namespace.svc.cluster-domain.example\"."
   ]
  },
  {
   "cell_type": "markdown",
   "id": "abfbf1e7",
   "metadata": {},
   "source": [
    "### 範例"
   ]
  },
  {
   "cell_type": "code",
   "execution_count": null,
   "id": "5c6360b7",
   "metadata": {},
   "outputs": [],
   "source": [
    "apiVersion: v1\n",
    "kind: Service\n",
    "metadata:\n",
    "  name: default-subdomain\n",
    "spec:\n",
    "  selector:\n",
    "    name: busybox\n",
    "  clusterIP: None\n",
    "  ports:\n",
    "  - name: foo # Actually, no port is needed.\n",
    "    port: 1234\n",
    "    targetPort: 1234\n",
    "---\n",
    "apiVersion: v1\n",
    "kind: Pod\n",
    "metadata:\n",
    "  name: busybox1\n",
    "  labels:\n",
    "    name: busybox\n",
    "spec:\n",
    "  hostname: busybox-1\n",
    "  subdomain: default-subdomain\n",
    "  containers:\n",
    "  - image: busybox:1.28\n",
    "    command:\n",
    "      - sleep\n",
    "      - \"3600\"\n",
    "    name: busybox\n",
    "---\n",
    "apiVersion: v1\n",
    "kind: Pod\n",
    "metadata:\n",
    "  name: busybox2\n",
    "  labels:\n",
    "    name: busybox\n",
    "spec:\n",
    "  hostname: busybox-2\n",
    "  subdomain: default-subdomain\n",
    "  containers:\n",
    "  - image: busybox:1.28\n",
    "    command:\n",
    "      - sleep\n",
    "      - \"3600\"\n",
    "    name: busybox"
   ]
  },
  {
   "cell_type": "raw",
   "id": "84b98b87",
   "metadata": {},
   "source": [
    "If there exists a headless Service in the same namespace as the Pod and with the same name as the subdomain, the cluster's DNS Server also returns an A or AAAA record for the Pod's fully qualified hostname. For example, given a Pod with the hostname set to \"busybox-1\" and the subdomain set to \"default-subdomain\", and a headless Service named \"default-subdomain\" in the same namespace, the Pod will see its own FQDN as \"busybox-1.default-subdomain.my-namespace.svc.cluster-domain.example\". DNS serves an A or AAAA record at that name, pointing to the Pod's IP. Both Pods \"busybox1\" and \"busybox2\" can have their distinct A or AAAA records.\n",
    "\n",
    "An EndpointSlice can specify the DNS hostname for any endpoint addresses, along with its IP."
   ]
  },
  {
   "cell_type": "raw",
   "id": "49348782",
   "metadata": {},
   "source": [
    "Note: Because A or AAAA records are not created for Pod names, hostname is required for the Pod's A or AAAA record to be created. A Pod with no hostname but with subdomain will only create the A or AAAA record for the headless Service (default-subdomain.my-namespace.svc.cluster-domain.example), pointing to the Pod's IP address. Also, Pod needs to become ready in order to have a record unless publishNotReadyAddresses=True is set on the Service."
   ]
  },
  {
   "cell_type": "markdown",
   "id": "c1dc7c5d",
   "metadata": {},
   "source": [
    "### Pod's setHostnameAsFQDN field"
   ]
  },
  {
   "cell_type": "raw",
   "id": "a2ad6bf1",
   "metadata": {},
   "source": [
    "When a Pod is configured to have fully qualified domain name (FQDN), its hostname is the short hostname. For example, if you have a Pod with the fully qualified domain name busybox-1.default-subdomain.my-namespace.svc.cluster-domain.example, then by default the hostname command inside that Pod returns busybox-1 and the hostname --fqdn command returns the FQDN.\n",
    "\n",
    "When you set setHostnameAsFQDN: true in the Pod spec, the kubelet writes the Pod's FQDN into the hostname for that Pod's namespace. In this case, both hostname and hostname --fqdn return the Pod's FQDN."
   ]
  },
  {
   "cell_type": "raw",
   "id": "c1dcb8cd",
   "metadata": {},
   "source": [
    "Note:\n",
    "In Linux, the hostname field of the kernel (the nodename field of struct utsname) is limited to 64 characters.\n",
    "\n",
    "If a Pod enables this feature and its FQDN is longer than 64 character, it will fail to start. The Pod will remain in Pending status (ContainerCreating as seen by kubectl) generating error events, such as Failed to construct FQDN from Pod hostname and cluster domain, FQDN long-FQDN is too long (64 characters is the max, 70 characters requested). One way of improving user experience for this scenario is to create an admission webhook controller to control FQDN size when users create top level objects, for example, Deployment."
   ]
  },
  {
   "cell_type": "markdown",
   "id": "3874f06d",
   "metadata": {},
   "source": [
    "### Pod's DNS Policy"
   ]
  },
  {
   "cell_type": "raw",
   "id": "c0234e2a",
   "metadata": {},
   "source": [
    "DNS policies can be set on a per-Pod basis. Currently Kubernetes supports the following Pod-specific DNS policies. These policies are specified in the dnsPolicy field of a Pod Spec.\n",
    "\n",
    "1. \"Default\": The Pod inherits the name resolution configuration from the node that the Pods run on. See related discussion \n",
    "   for more details.\n",
    "2. \"ClusterFirst\": Any DNS query that does not match the configured cluster domain suffix, such as \"www.kubernetes.io\", is    forwarded to the upstream nameserver inherited from the node. Cluster administrators may have extra stub-domain and  \n",
    "   upstream DNS servers configured. See related discussion for details on how DNS queries are handled in those cases.\n",
    "3. \"ClusterFirstWithHostNet\": For Pods running with hostNetwork, you should explicitly set its DNS policy \n",
    "   \"ClusterFirstWithHostNet\".\n",
    "       Note: This is not supported on Windows. See below for details\n",
    "4. \"None\": It allows a Pod to ignore DNS settings from the Kubernetes environment. All DNS settings are supposed to be \n",
    "   provided using the dnsConfig field in the Pod Spec. See Pod's DNS config subsection below."
   ]
  },
  {
   "cell_type": "raw",
   "id": "fc289f17",
   "metadata": {},
   "source": [
    "Note: \"Default\" is not the default DNS policy. If dnsPolicy is not explicitly specified, then \"ClusterFirst\" is used."
   ]
  },
  {
   "cell_type": "raw",
   "id": "59582b29",
   "metadata": {},
   "source": [
    "The example below shows a Pod with its DNS policy set to \"ClusterFirstWithHostNet\" because it has hostNetwork set to true."
   ]
  },
  {
   "cell_type": "code",
   "execution_count": null,
   "id": "10ef9282",
   "metadata": {},
   "outputs": [],
   "source": [
    "apiVersion: v1\n",
    "kind: Pod\n",
    "metadata:\n",
    "  name: busybox\n",
    "  namespace: default\n",
    "spec:\n",
    "  containers:\n",
    "  - image: busybox:1.28\n",
    "    command:\n",
    "      - sleep\n",
    "      - \"3600\"\n",
    "    imagePullPolicy: IfNotPresent\n",
    "    name: busybox\n",
    "  restartPolicy: Always\n",
    "  hostNetwork: true\n",
    "  dnsPolicy: ClusterFirstWithHostNet"
   ]
  },
  {
   "cell_type": "markdown",
   "id": "0975e159",
   "metadata": {},
   "source": [
    "### Pod's DNS Config"
   ]
  },
  {
   "cell_type": "raw",
   "id": "9fcf87f2",
   "metadata": {},
   "source": [
    "Pod's DNS Config allows users more control on the DNS settings for a Pod.\n",
    "\n",
    "The dnsConfig field is optional and it can work with any dnsPolicy settings. However, when a Pod's dnsPolicy is set to \"None\", the dnsConfig field has to be specified.\n",
    "\n",
    "Below are the properties a user can specify in the dnsConfig field:\n",
    "\n",
    "1. nameservers: a list of IP addresses that will be used as DNS servers for the Pod. There can be at most 3 IP addresses \n",
    "   specified. When the Pod's dnsPolicy is set to \"None\", the list must contain at least one IP address, otherwise this \n",
    "   property is optional. The servers listed will be combined to the base nameservers generated from the specified DNS  \n",
    "   policy with duplicate addresses removed.\n",
    "2. searches: a list of DNS search domains for hostname lookup in the Pod. This property is optional. When specified, the \n",
    "   provided list will be merged into the base search domain names generated from the chosen DNS policy. Duplicate domain \n",
    "   names are removed. Kubernetes allows for at most 6 search domains.\n",
    "3. options: an optional list of objects where each object may have a name property (required) and a value property \n",
    "   (optional). The contents in this property will be merged to the options generated from the specified DNS policy.   \n",
    "   Duplicate entries are removed.\n",
    "\n",
    "The following is an example Pod with custom DNS settings:"
   ]
  },
  {
   "cell_type": "code",
   "execution_count": null,
   "id": "74ce10bd",
   "metadata": {},
   "outputs": [],
   "source": [
    "apiVersion: v1\n",
    "kind: Pod\n",
    "metadata:\n",
    "  namespace: default\n",
    "  name: dns-example\n",
    "spec:\n",
    "  containers:\n",
    "    - name: test\n",
    "      image: nginx\n",
    "  dnsPolicy: \"None\"\n",
    "  dnsConfig:\n",
    "    nameservers:\n",
    "      - 1.2.3.4\n",
    "    searches:\n",
    "      - ns1.svc.cluster-domain.example\n",
    "      - my.dns.search.suffix\n",
    "    options:\n",
    "      - name: ndots\n",
    "        value: \"2\"\n",
    "      - name: edns0"
   ]
  },
  {
   "cell_type": "raw",
   "id": "5a3dcaa1",
   "metadata": {},
   "source": [
    "When the Pod above is created, the container test gets the following contents in its /etc/resolv.conf file:"
   ]
  },
  {
   "cell_type": "code",
   "execution_count": null,
   "id": "93607589",
   "metadata": {},
   "outputs": [],
   "source": [
    "nameserver 1.2.3.4\n",
    "search ns1.svc.cluster-domain.example my.dns.search.suffix\n",
    "options ndots:2 edns0"
   ]
  },
  {
   "cell_type": "raw",
   "id": "2dd012bf",
   "metadata": {},
   "source": [
    "For IPv6 setup, search path and name server should be set up like this:"
   ]
  },
  {
   "cell_type": "code",
   "execution_count": null,
   "id": "9854fe9e",
   "metadata": {},
   "outputs": [],
   "source": [
    "kubectl exec -it dns-example -- cat /etc/resolv.conf"
   ]
  },
  {
   "cell_type": "raw",
   "id": "f0692e0b",
   "metadata": {},
   "source": [
    "The output is similar to this:"
   ]
  },
  {
   "cell_type": "raw",
   "id": "573cb82b",
   "metadata": {},
   "source": [
    "nameserver 2001:db8:30::a\n",
    "search default.svc.cluster-domain.example svc.cluster-domain.example cluster-domain.example\n",
    "options ndots:5"
   ]
  },
  {
   "cell_type": "markdown",
   "id": "0a348243",
   "metadata": {},
   "source": [
    "### 範例"
   ]
  },
  {
   "cell_type": "raw",
   "id": "35f1b1d4",
   "metadata": {},
   "source": [
    "k8s 預設就會創建幾個 pod ，其中一個就是 coredns，在 kube-system 的 namespace"
   ]
  },
  {
   "cell_type": "code",
   "execution_count": null,
   "id": "760378aa",
   "metadata": {},
   "outputs": [],
   "source": [
    "kubectl get pod -A"
   ]
  },
  {
   "cell_type": "raw",
   "id": "6bc6ce92",
   "metadata": {},
   "source": [
    "他其實是被 deployment 所控制的，也就是說有一個名為 coredns 的 deployment"
   ]
  },
  {
   "cell_type": "code",
   "execution_count": null,
   "id": "f34af91d",
   "metadata": {},
   "outputs": [],
   "source": [
    "kubectl get deployment -A"
   ]
  },
  {
   "cell_type": "raw",
   "id": "96957c9f",
   "metadata": {},
   "source": [
    "對應的 replicaSet "
   ]
  },
  {
   "cell_type": "code",
   "execution_count": null,
   "id": "1f9711b7",
   "metadata": {},
   "outputs": [],
   "source": [
    "kubectl get replicasets -A"
   ]
  },
  {
   "cell_type": "raw",
   "id": "aa9dacb4",
   "metadata": {},
   "source": [
    "其實還有一個對應的 service，為我們提供 dns 服務"
   ]
  },
  {
   "cell_type": "code",
   "execution_count": null,
   "id": "3f454d63",
   "metadata": {},
   "outputs": [],
   "source": [
    "kubectl get service -A"
   ]
  },
  {
   "cell_type": "markdown",
   "id": "1f74ef83",
   "metadata": {},
   "source": [
    "<img src='./img/37.png'>"
   ]
  },
  {
   "cell_type": "raw",
   "id": "3ed634ee",
   "metadata": {},
   "source": [
    "現在先創建一個 pod"
   ]
  },
  {
   "cell_type": "code",
   "execution_count": null,
   "id": "f336da3b",
   "metadata": {},
   "outputs": [],
   "source": [
    "kubectl run client --image=xiaopeng163/net-box --command -- sh -c \"sleep 100000\""
   ]
  },
  {
   "cell_type": "raw",
   "id": "0e39ba0b",
   "metadata": {},
   "source": [
    "查看有沒有創建成功"
   ]
  },
  {
   "cell_type": "code",
   "execution_count": null,
   "id": "25903474",
   "metadata": {},
   "outputs": [],
   "source": [
    "kubectl get pods"
   ]
  },
  {
   "cell_type": "raw",
   "id": "a634ee4c",
   "metadata": {},
   "source": [
    "進入 pod 的 shell"
   ]
  },
  {
   "cell_type": "code",
   "execution_count": null,
   "id": "b815e085",
   "metadata": {},
   "outputs": [],
   "source": [
    "kubectl exec -it client -- sh "
   ]
  },
  {
   "cell_type": "raw",
   "id": "e8317a9b",
   "metadata": {},
   "source": [
    "觀察一下 dns 配置文件，注意到 nameserver 跟我們剛剛看到的 dns server 一樣的 IP"
   ]
  },
  {
   "cell_type": "code",
   "execution_count": null,
   "id": "59409ad3",
   "metadata": {},
   "outputs": [],
   "source": [
    "cat /etc/resolv.conf"
   ]
  },
  {
   "cell_type": "markdown",
   "id": "9c6038e1",
   "metadata": {},
   "source": [
    "<img src='./img/38.png'>"
   ]
  },
  {
   "cell_type": "raw",
   "id": "3f7fe46f",
   "metadata": {},
   "source": [
    "查看 pod 的 ip"
   ]
  },
  {
   "cell_type": "code",
   "execution_count": null,
   "id": "2076c6cf",
   "metadata": {},
   "outputs": [],
   "source": [
    "ip addr"
   ]
  },
  {
   "cell_type": "raw",
   "id": "e918188d",
   "metadata": {},
   "source": [
    "網域解析成功，注意因為我們沒有指定 hostname，所以 nslookup client.default.pod.cluster.local 會解析失敗"
   ]
  },
  {
   "cell_type": "code",
   "execution_count": null,
   "id": "0c5a7fbe",
   "metadata": {},
   "outputs": [],
   "source": [
    "nslookup 172-17-0-4.default.pod.cluster.local"
   ]
  },
  {
   "cell_type": "markdown",
   "id": "727ed05f",
   "metadata": {},
   "source": [
    "<img src='./img/39.png'>"
   ]
  },
  {
   "cell_type": "raw",
   "id": "0f4b006e",
   "metadata": {},
   "source": [
    "nslookup 172-17-0-4.default.pod.cluster.local 在本地是查不到的， 看看本地的配置 cat /etc/resove.conf 會知道我們的 nameserver 不會有 10.96.0.10 這個 dns server。除非在最後加上 10.96.0.10， 表示由這台服務器來解析。"
   ]
  },
  {
   "cell_type": "raw",
   "id": "48db7189",
   "metadata": {},
   "source": [
    "看一下 coredns 相關的 configMap"
   ]
  },
  {
   "cell_type": "code",
   "execution_count": null,
   "id": "966ab161",
   "metadata": {},
   "outputs": [],
   "source": [
    "kubectl get configeMap -A"
   ]
  },
  {
   "cell_type": "code",
   "execution_count": null,
   "id": "6b327ebe",
   "metadata": {},
   "outputs": [],
   "source": [
    "kubectl describe configmaps coredns --namespace kube-system"
   ]
  },
  {
   "cell_type": "markdown",
   "id": "187d8d68",
   "metadata": {},
   "source": [
    "<img src='./img/40.png'>"
   ]
  },
  {
   "cell_type": "raw",
   "id": "41302f6f",
   "metadata": {},
   "source": [
    "為什麼在 pod 也可以 ping 通 www.google.com 就是因為無法解析的網域會被導轉到本地。"
   ]
  },
  {
   "cell_type": "markdown",
   "id": "16a5c293",
   "metadata": {},
   "source": [
    "# Service"
   ]
  },
  {
   "cell_type": "raw",
   "id": "f752aa43",
   "metadata": {},
   "source": [
    "An abstract way to expose an application running on a set of Pods as a network service.\n",
    "With Kubernetes you don't need to modify your application to use an unfamiliar service discovery mechanism. Kubernetes gives Pods their own IP addresses and a single DNS name for a set of Pods, and can load-balance across them."
   ]
  },
  {
   "cell_type": "markdown",
   "id": "809a6ce7",
   "metadata": {},
   "source": [
    "# Motivation "
   ]
  },
  {
   "cell_type": "raw",
   "id": "fa99cb85",
   "metadata": {},
   "source": [
    "Kubernetes Pods are created and destroyed to match the desired state of your cluster. Pods are nonpermanent resources. If you use a Deployment to run your app, it can create and destroy Pods dynamically.\n",
    "\n",
    "Each Pod gets its own IP address, however in a Deployment, the set of Pods running in one moment in time could be different from the set of Pods running that application a moment later.\n",
    "\n",
    "This leads to a problem: if some set of Pods (call them \"backends\") provides functionality to other Pods (call them \"frontends\") inside your cluster, how do the frontends find out and keep track of which IP address to connect to, so that the frontend can use the backend part of the workload?\n",
    "\n",
    "Enter Services."
   ]
  },
  {
   "cell_type": "markdown",
   "id": "db95deb9",
   "metadata": {},
   "source": [
    "# Service resources"
   ]
  },
  {
   "cell_type": "raw",
   "id": "b8e43913",
   "metadata": {},
   "source": [
    "In Kubernetes, a Service is an abstraction which defines a logical set of Pods and a policy by which to access them (sometimes this pattern is called a micro-service). The set of Pods targeted by a Service is usually determined by a selector. To learn about other ways to define Service endpoints, see Services without selectors.\n",
    "\n",
    "For example, consider a stateless image-processing backend which is running with 3 replicas. Those replicas are fungible—frontends do not care which backend they use. While the actual Pods that compose the backend set may change, the frontend clients should not need to be aware of that, nor should they need to keep track of the set of backends themselves.\n",
    "\n",
    "The Service abstraction enables this decoupling."
   ]
  },
  {
   "cell_type": "markdown",
   "id": "d46ed6fd",
   "metadata": {},
   "source": [
    "### Cloud-native service discovery"
   ]
  },
  {
   "cell_type": "raw",
   "id": "53b13749",
   "metadata": {},
   "source": [
    "If you're able to use Kubernetes APIs for service discovery in your application, you can query the API server for matching EndpointSlices. Kubernetes updates the EndpointSlices for a Service whenever the set of Pods in a Service changes.\n",
    "\n",
    "For non-native applications, Kubernetes offers ways to place a network port or load balancer in between your application and the backend Pods."
   ]
  },
  {
   "cell_type": "markdown",
   "id": "527a6f8e",
   "metadata": {},
   "source": [
    "# Defining a Service"
   ]
  },
  {
   "cell_type": "raw",
   "id": "9761705f",
   "metadata": {},
   "source": [
    "A Service in Kubernetes is a REST object, similar to a Pod. Like all of the REST objects, you can POST a Service definition to the API server to create a new instance. The name of a Service object must be a valid RFC 1035 label name.\n",
    "\n",
    "For example, suppose you have a set of Pods where each listens on TCP port 9376 and contains a label app.kubernetes.io/name=MyApp:"
   ]
  },
  {
   "cell_type": "code",
   "execution_count": null,
   "id": "39850dda",
   "metadata": {},
   "outputs": [],
   "source": [
    "apiVersion: v1\n",
    "kind: Service\n",
    "metadata:\n",
    "  name: my-service\n",
    "spec:\n",
    "  selector:\n",
    "    app.kubernetes.io/name: MyApp\n",
    "  ports:\n",
    "    - protocol: TCP\n",
    "      port: 80\n",
    "      targetPort: 9376"
   ]
  },
  {
   "cell_type": "raw",
   "id": "42b986da",
   "metadata": {},
   "source": [
    "This specification creates a new Service object named \"my-service\", which targets TCP port 9376 on any Pod with the app.kubernetes.io/name=MyApp label.\n",
    "\n",
    "Kubernetes assigns this Service an IP address (sometimes called the \"cluster IP\"), which is used by the Service proxies (see Virtual IPs and service proxies below).\n",
    "\n",
    "The controller for the Service selector continuously scans for Pods that match its selector, and then POSTs any updates to an Endpoint object also named \"my-service\"."
   ]
  },
  {
   "cell_type": "raw",
   "id": "6c31e34e",
   "metadata": {},
   "source": [
    "Note: A Service can map any incoming port to a targetPort. By default and for convenience, the targetPort is set to the same value as the port field."
   ]
  },
  {
   "cell_type": "raw",
   "id": "41039734",
   "metadata": {},
   "source": [
    "Port definitions in Pods have names, and you can reference these names in the targetPort attribute of a Service. For example, we can bind the targetPort of the Service to the Pod port in the following way:"
   ]
  },
  {
   "cell_type": "code",
   "execution_count": null,
   "id": "c7d458ae",
   "metadata": {},
   "outputs": [],
   "source": [
    "apiVersion: v1\n",
    "kind: Pod\n",
    "metadata:\n",
    "  name: nginx\n",
    "  labels:\n",
    "    app.kubernetes.io/name: proxy\n",
    "spec:\n",
    "  containers:\n",
    "  - name: nginx\n",
    "    image: nginx:stable\n",
    "    ports:\n",
    "      - containerPort: 80\n",
    "        name: http-web-svc\n",
    "\n",
    "---\n",
    "apiVersion: v1\n",
    "kind: Service\n",
    "metadata:\n",
    "  name: nginx-service\n",
    "spec:\n",
    "  selector:\n",
    "    app.kubernetes.io/name: proxy\n",
    "  ports:\n",
    "  - name: name-of-service-port\n",
    "    protocol: TCP\n",
    "    port: 80\n",
    "    targetPort: http-web-svc"
   ]
  },
  {
   "cell_type": "raw",
   "id": "c1e3a24e",
   "metadata": {},
   "source": [
    "This works even if there is a mixture of Pods in the Service using a single configured name, with the same network protocol available via different port numbers. This offers a lot of flexibility for deploying and evolving your Services. For example, you can change the port numbers that Pods expose in the next version of your backend software, without breaking clients.\n",
    "\n",
    "The default protocol for Services is TCP; you can also use any other supported protocol.\n",
    "\n",
    "As many Services need to expose more than one port, Kubernetes supports multiple port definitions on a Service object. Each port definition can have the same protocol, or a different one."
   ]
  },
  {
   "cell_type": "markdown",
   "id": "c83ab5ce",
   "metadata": {},
   "source": [
    "### Services without selectors"
   ]
  },
  {
   "cell_type": "raw",
   "id": "34d8f79c",
   "metadata": {},
   "source": [
    "Services most commonly abstract access to Kubernetes Pods thanks to the selector, but when used with a corresponding set of EndpointSlices objects and without a selector, the Service can abstract other kinds of backends, including ones that run outside the cluster.\n",
    "\n",
    "For example:\n",
    "\n",
    "You want to have an external database cluster in production, but in your test environment you use your own databases.\n",
    "You want to point your Service to a Service in a different Namespace or on another cluster.\n",
    "You are migrating a workload to Kubernetes. While evaluating the approach, you run only a portion of your backends in Kubernetes.\n",
    "In any of these scenarios you can define a Service without a Pod selector. For example:"
   ]
  },
  {
   "cell_type": "code",
   "execution_count": null,
   "id": "64676c45",
   "metadata": {},
   "outputs": [],
   "source": [
    "apiVersion: v1\n",
    "kind: Service\n",
    "metadata:\n",
    "  name: my-service\n",
    "spec:\n",
    "  ports:\n",
    "    - protocol: TCP\n",
    "      port: 80\n",
    "      targetPort: 9376"
   ]
  },
  {
   "cell_type": "raw",
   "id": "87062c1a",
   "metadata": {},
   "source": [
    "Because this Service has no selector, the corresponding EndpointSlice (and legacy Endpoints) objects are not created automatically. You can manually map the Service to the network address and port where it's running, by adding an EndpointSlice object manually. For example:"
   ]
  },
  {
   "cell_type": "code",
   "execution_count": null,
   "id": "13e7b9ea",
   "metadata": {},
   "outputs": [],
   "source": [
    "apiVersion: discovery.k8s.io/v1\n",
    "kind: EndpointSlice\n",
    "metadata:\n",
    "  name: my-service-1 # by convention, use the name of the Service\n",
    "                     # as a prefix for the name of the EndpointSlice\n",
    "  labels:\n",
    "    # You should set the \"kubernetes.io/service-name\" label.\n",
    "    # Set its value to match the name of the Service\n",
    "    kubernetes.io/service-name: my-service\n",
    "addressType: IPv4\n",
    "ports:\n",
    "  - name: '' # empty because port 9376 is not assigned as a well-known\n",
    "             # port (by IANA)\n",
    "    appProtocol: http\n",
    "    protocol: TCP\n",
    "    port: 9376\n",
    "endpoints:\n",
    "  - addresses:\n",
    "      - \"10.4.5.6\" # the IP addresses in this list can appear in any order\n",
    "      - \"10.1.2.3\""
   ]
  },
  {
   "cell_type": "markdown",
   "id": "11558cec",
   "metadata": {},
   "source": [
    "### Custom EndpointSlices"
   ]
  },
  {
   "cell_type": "raw",
   "id": "d0b4788e",
   "metadata": {},
   "source": [
    "When you create an EndpointSlice object for a Service, you can use any name for the EndpointSlice. Each EndpointSlice in a namespace must have a unique name. You link an EndpointSlice to a Service by setting the kubernetes.io/service-name label on that EndpointSlice."
   ]
  },
  {
   "cell_type": "markdown",
   "id": "9610d208",
   "metadata": {},
   "source": [
    "### Endpoints"
   ]
  },
  {
   "cell_type": "raw",
   "id": "9d8e668b",
   "metadata": {},
   "source": [
    "In the Kubernetes API, an Endpoints (the resource kind is plural) defines a list of network endpoints, typically referenced by a Service to define which Pods the traffic can be sent to.\n",
    "\n",
    "The EndpointSlice API is the recommended replacement for Endpoints."
   ]
  },
  {
   "cell_type": "markdown",
   "id": "3700bb36",
   "metadata": {},
   "source": [
    "##### Over-capacity endpoints "
   ]
  },
  {
   "cell_type": "raw",
   "id": "59d9efb2",
   "metadata": {},
   "source": [
    "Kubernetes limits the number of endpoints that can fit in a single Endpoints object. When there are over 1000 backing endpoints for a Service, Kubernetes truncates the data in the Endpoints object. Because a Service can be linked with more than one EndpointSlice, the 1000 backing endpoint limit only affects the legacy Endpoints API.\n",
    "\n",
    "In that case, Kubernetes selects at most 1000 possible backend endpoints to store into the Endpoints object, and sets an annotation on the Endpoints: endpoints.kubernetes.io/over-capacity: truncated. The control plane also removes that annotation if the number of backend Pods drops below 1000.\n",
    "\n",
    "Traffic is still sent to backends, but any load balancing mechanism that relies on the legacy Endpoints API only sends traffic to at most 1000 of the available backing endpoints.\n",
    "\n",
    "The same API limit means that you cannot manually update an Endpoints to have more than 1000 endpoints."
   ]
  },
  {
   "cell_type": "markdown",
   "id": "ee0266f4",
   "metadata": {},
   "source": [
    "##### Application protocol "
   ]
  },
  {
   "cell_type": "raw",
   "id": "dd5daa29",
   "metadata": {},
   "source": [
    "The appProtocol field provides a way to specify an application protocol for each Service port. The value of this field is mirrored by the corresponding Endpoints and EndpointSlice objects.\n",
    "\n",
    "This field follows standard Kubernetes label syntax. Values should either be IANA standard service names or domain prefixed names such as mycompany.com/my-custom-protocol."
   ]
  },
  {
   "cell_type": "markdown",
   "id": "ffbb3819",
   "metadata": {},
   "source": [
    "# EndpointSlices"
   ]
  },
  {
   "cell_type": "raw",
   "id": "52fd4a9e",
   "metadata": {},
   "source": [
    "EndpointSlices provide a simple way to track network endpoints within a Kubernetes cluster. They offer a more scalable and extensible alternative to Endpoints."
   ]
  },
  {
   "cell_type": "markdown",
   "id": "dc687779",
   "metadata": {},
   "source": [
    "### EndpointSlice API"
   ]
  },
  {
   "cell_type": "raw",
   "id": "cf8d7ff5",
   "metadata": {},
   "source": [
    "In Kubernetes, an EndpointSlice contains references to a set of network endpoints. The control plane automatically creates EndpointSlices for any Kubernetes Service that has a selector specified. These EndpointSlices include references to all the Pods that match the Service selector. EndpointSlices group network endpoints together by unique combinations of protocol, port number, and Service name. The name of a EndpointSlice object must be a valid DNS subdomain name.\n",
    "\n",
    "As an example, here's a sample EndpointSlice object, that's owned by the example Kubernetes Service."
   ]
  },
  {
   "cell_type": "code",
   "execution_count": null,
   "id": "c1207916",
   "metadata": {},
   "outputs": [],
   "source": [
    "apiVersion: discovery.k8s.io/v1\n",
    "kind: EndpointSlice\n",
    "metadata:\n",
    "  name: example-abc\n",
    "  labels:\n",
    "    kubernetes.io/service-name: example\n",
    "addressType: IPv4\n",
    "ports:\n",
    "  - name: http\n",
    "    protocol: TCP\n",
    "    port: 80\n",
    "endpoints:\n",
    "  - addresses:\n",
    "      - \"10.1.2.3\"\n",
    "    conditions:\n",
    "      ready: true\n",
    "    hostname: pod-1\n",
    "    nodeName: node-1\n",
    "    zone: us-west2-a"
   ]
  },
  {
   "cell_type": "raw",
   "id": "86c0fa29",
   "metadata": {},
   "source": [
    "By default, the control plane creates and manages EndpointSlices to have no more than 100 endpoints each. You can configure this with the --max-endpoints-per-slice kube-controller-manager flag, up to a maximum of 1000.\n",
    "\n",
    "EndpointSlices can act as the source of truth for kube-proxy when it comes to how to route internal traffic."
   ]
  },
  {
   "cell_type": "markdown",
   "id": "4d49a855",
   "metadata": {},
   "source": [
    "### Address types"
   ]
  },
  {
   "cell_type": "raw",
   "id": "ab72ee6d",
   "metadata": {},
   "source": [
    "EndpointSlices support three address types:\n",
    "\n",
    "1. Pv4\n",
    "2. Pv6\n",
    "3. FQDN (Fully Qualified Domain Name)\n",
    "\n",
    "Each EndpointSlice object represents a specific IP address type. If you have a Service that is available via IPv4 and IPv6, there will be at least two EndpointSlice objects (one for IPv4, and one for IPv6)."
   ]
  },
  {
   "cell_type": "markdown",
   "id": "9aaef04f",
   "metadata": {},
   "source": [
    "### Conditions"
   ]
  },
  {
   "cell_type": "raw",
   "id": "e1dbcf9f",
   "metadata": {},
   "source": [
    "The EndpointSlice API stores conditions about endpoints that may be useful for consumers. The three conditions are ready, serving, and terminating."
   ]
  },
  {
   "cell_type": "markdown",
   "id": "a6e097d0",
   "metadata": {},
   "source": [
    "##### Ready"
   ]
  },
  {
   "cell_type": "raw",
   "id": "daae2e3a",
   "metadata": {},
   "source": [
    "ready is a condition that maps to a Pod's Ready condition. A running Pod with the Ready condition set to True should have this EndpointSlice condition also set to true. For compatibility reasons, ready is NEVER true when a Pod is terminating. Consumers should refer to the serving condition to inspect the readiness of terminating Pods. The only exception to this rule is for Services with spec.publishNotReadyAddresses set to true. Endpoints for these Services will always have the ready condition set to true."
   ]
  },
  {
   "cell_type": "markdown",
   "id": "5db05f03",
   "metadata": {},
   "source": [
    "##### Serving"
   ]
  },
  {
   "cell_type": "raw",
   "id": "a8f61e21",
   "metadata": {},
   "source": [
    "serving is identical to the ready condition, except it does not account for terminating states. Consumers of the EndpointSlice API should check this condition if they care about pod readiness while the pod is also terminating."
   ]
  },
  {
   "cell_type": "raw",
   "id": "a7e75c13",
   "metadata": {},
   "source": [
    "Note: Although serving is almost identical to ready, it was added to prevent break the existing meaning of ready. It may be unexpected for existing clients if ready could be true for terminating endpoints, since historically terminating endpoints were never included in the Endpoints or EndpointSlice API to begin with. For this reason, ready is always false for terminating endpoints, and a new condition serving was added in v1.20 so that clients can track readiness for terminating pods independent of the existing semantics for ready."
   ]
  },
  {
   "cell_type": "markdown",
   "id": "214ba909",
   "metadata": {},
   "source": [
    "##### Terminating"
   ]
  },
  {
   "cell_type": "raw",
   "id": "1cb8e75a",
   "metadata": {},
   "source": [
    "Terminating is a condition that indicates whether an endpoint is terminating. For pods, this is any pod that has a deletion timestamp set."
   ]
  },
  {
   "cell_type": "markdown",
   "id": "5ec842d5",
   "metadata": {},
   "source": [
    "### Topology information"
   ]
  },
  {
   "cell_type": "raw",
   "id": "c6e274a2",
   "metadata": {},
   "source": [
    "Each endpoint within an EndpointSlice can contain relevant topology information. The topology information includes the location of the endpoint and information about the corresponding Node and zone. These are available in the following per endpoint fields on EndpointSlices:\n",
    "\n",
    "1. nodeName - The name of the Node this endpoint is on.\n",
    "2. zone - The zone this endpoint is in."
   ]
  },
  {
   "cell_type": "markdown",
   "id": "41d399fb",
   "metadata": {},
   "source": [
    "### Comparison with Endpoints"
   ]
  },
  {
   "cell_type": "raw",
   "id": "35987206",
   "metadata": {},
   "source": [
    "The original Endpoints API provided a simple and straightforward way of tracking network endpoints in Kubernetes. As Kubernetes clusters and Services grew to handle more traffic and to send more traffic to more backend Pods, the limitations of that original API became more visible. Most notably, those included challenges with scaling to larger numbers of network endpoints.\n",
    "\n",
    "Since all network endpoints for a Service were stored in a single Endpoints object, those Endpoints objects could get quite large. For Services that stayed stable (the same set of endpoints over a long period of time) the impact was less noticeable; even then, some use cases of Kubernetes weren't well served.\n",
    "\n",
    "When a Service had a lot of backend endpoints and the workload was either scaling frequently, or rolling out new changes frequently, each update to the single Endpoints object for that Service meant a lot of traffic between Kubernetes cluster components (within the control plane, and also between nodes and the API server). This extra traffic also had a cost in terms of CPU use.\n",
    "\n",
    "With EndpointSlices, adding or removing a single Pod triggers the same number of updates to clients that are watching for changes, but the size of those update message is much smaller at large scale.\n",
    "\n",
    "EndpointSlices also enabled innovation around new features such dual-stack networking and topology-aware routing."
   ]
  },
  {
   "cell_type": "markdown",
   "id": "16220c68",
   "metadata": {},
   "source": [
    "# Virtual IPs and service proxies"
   ]
  },
  {
   "cell_type": "raw",
   "id": "bd928cc6",
   "metadata": {},
   "source": [
    "Every node in a Kubernetes cluster runs a kube-proxy. kube-proxy is responsible for implementing a form of virtual IP for Services of type other than ExternalName."
   ]
  },
  {
   "cell_type": "markdown",
   "id": "2c3b100d",
   "metadata": {},
   "source": [
    "### Why not use round-robin DNS?"
   ]
  },
  {
   "cell_type": "raw",
   "id": "00c50c76",
   "metadata": {},
   "source": [
    "A question that pops up every now and then is why Kubernetes relies on proxying to forward inbound traffic to backends. What about other approaches? For example, would it be possible to configure DNS records that have multiple A values (or AAAA for IPv6), and rely on round-robin name resolution?\n",
    "\n",
    "There are a few reasons for using proxying for Services:\n",
    "\n",
    "1. There is a long history of DNS implementations not respecting record TTLs, and caching the results of name lookups after \n",
    "   they should have expired.\n",
    "2. Some apps do DNS lookups only once and cache the results indefinitely.\n",
    "3. Even if apps and libraries did proper re-resolution, the low or zero TTLs on the DNS records could impose a high load on \n",
    "   DNS that then becomes difficult to manage.\n",
    "\n",
    "Later in this page you can read about how various kube-proxy implementations work. Overall, you should note that, when running kube-proxy, kernel level rules may be modified (for example, iptables rules might get created), which won't get cleaned up, in some cases until you reboot. Thus, running kube-proxy is something that should only be done by an administrator which understands the consequences of having a low level, privileged network proxying service on a computer. Although the kube-proxy executable supports a cleanup function, this function is not an official feature and thus is only available to use as-is."
   ]
  },
  {
   "cell_type": "markdown",
   "id": "ecc6e732",
   "metadata": {},
   "source": [
    "### Configuration"
   ]
  },
  {
   "cell_type": "raw",
   "id": "2946939b",
   "metadata": {},
   "source": [
    "Note that the kube-proxy starts up in different modes, which are determined by its configuration.\n",
    "\n",
    "1. The kube-proxy's configuration is done via a ConfigMap, and the ConfigMap for kube-proxy effectively deprecates the \n",
    "   behavior for almost all of the flags for the kube-proxy.\n",
    "2. The ConfigMap for the kube-proxy does not support live reloading of configuration.\n",
    "3. The ConfigMap parameters for the kube-proxy cannot all be validated and verified on startup. For example, if your \n",
    "   operating system doesn't allow you to run iptables commands, the standard kernel kube-proxy implementation will not \n",
    "   work. Likewise, if you have an operating system which doesn't support netsh, it will not run in Windows userspace mode."
   ]
  },
  {
   "cell_type": "markdown",
   "id": "b35fbbc1",
   "metadata": {},
   "source": [
    "### User space proxy mode"
   ]
  },
  {
   "cell_type": "raw",
   "id": "f6dab750",
   "metadata": {},
   "source": [
    "In this (legacy) mode, kube-proxy watches the Kubernetes control plane for the addition and removal of Service and Endpoint objects. For each Service it opens a port (randomly chosen) on the local node. Any connections to this \"proxy port\" are proxied to one of the Service's backend Pods (as reported via Endpoints). kube-proxy takes the SessionAffinity setting of the Service into account when deciding which backend Pod to use.\n",
    "\n",
    "Lastly, the user-space proxy installs iptables rules which capture traffic to the Service's clusterIP (which is virtual) and port. The rules redirect that traffic to the proxy port which proxies the backend Pod.\n",
    "\n",
    "By default, kube-proxy in userspace mode chooses a backend via a round-robin algorithm."
   ]
  },
  {
   "cell_type": "markdown",
   "id": "da6b971c",
   "metadata": {},
   "source": [
    "<img src='./img/2.svg'>"
   ]
  },
  {
   "cell_type": "markdown",
   "id": "f92b044a",
   "metadata": {},
   "source": [
    "###  iptables proxy mode"
   ]
  },
  {
   "cell_type": "raw",
   "id": "b3e1189e",
   "metadata": {},
   "source": [
    "In this mode, kube-proxy watches the Kubernetes control plane for the addition and removal of Service and Endpoint objects. For each Service, it installs iptables rules, which capture traffic to the Service's clusterIP and port, and redirect that traffic to one of the Service's backend sets. For each Endpoint object, it installs iptables rules which select a backend Pod.\n",
    "\n",
    "By default, kube-proxy in iptables mode chooses a backend at random.\n",
    "\n",
    "Using iptables to handle traffic has a lower system overhead, because traffic is handled by Linux netfilter without the need to switch between userspace and the kernel space. This approach is also likely to be more reliable.\n",
    "\n",
    "If kube-proxy is running in iptables mode and the first Pod that's selected does not respond, the connection fails. This is different from userspace mode: in that scenario, kube-proxy would detect that the connection to the first Pod had failed and would automatically retry with a different backend Pod.\n",
    "\n",
    "You can use Pod readiness probes to verify that backend Pods are working OK, so that kube-proxy in iptables mode only sees backends that test out as healthy. Doing this means you avoid having traffic sent via kube-proxy to a Pod that's known to have failed."
   ]
  },
  {
   "cell_type": "markdown",
   "id": "c661b521",
   "metadata": {},
   "source": [
    "<img src='./img/3.svg'>"
   ]
  },
  {
   "cell_type": "markdown",
   "id": "2857140e",
   "metadata": {},
   "source": [
    "### IPVS proxy mode"
   ]
  },
  {
   "cell_type": "raw",
   "id": "d2b2fbd8",
   "metadata": {},
   "source": [
    "In ipvs mode, kube-proxy watches Kubernetes Services and Endpoints, calls netlink interface to create IPVS rules accordingly and synchronizes IPVS rules with Kubernetes Services and Endpoints periodically. This control loop ensures that IPVS status matches the desired state. When accessing a Service, IPVS directs traffic to one of the backend Pods.\n",
    "\n",
    "The IPVS proxy mode is based on netfilter hook function that is similar to iptables mode, but uses a hash table as the underlying data structure and works in the kernel space. That means kube-proxy in IPVS mode redirects traffic with lower latency than kube-proxy in iptables mode, with much better performance when synchronizing proxy rules. Compared to the other proxy modes, IPVS mode also supports a higher throughput of network traffic.\n",
    "\n",
    "IPVS provides more options for balancing traffic to backend Pods; these are:\n",
    "\n",
    "- rr: round-robin\n",
    "- lc: least connection (smallest number of open connections)\n",
    "- dh: destination hashing\n",
    "-  sh: source hashing\n",
    "- sed: shortest expected delay\n",
    "- nq: never queue"
   ]
  },
  {
   "cell_type": "raw",
   "id": "c4246f75",
   "metadata": {},
   "source": [
    "Note:\n",
    "To run kube-proxy in IPVS mode, you must make IPVS available on the node before starting kube-proxy.\n",
    "\n",
    "When kube-proxy starts in IPVS proxy mode, it verifies whether IPVS kernel modules are available. If the IPVS kernel modules are not detected, then kube-proxy falls back to running in iptables proxy mode."
   ]
  },
  {
   "cell_type": "markdown",
   "id": "a4761254",
   "metadata": {},
   "source": [
    "<img src='./img/4.svg'>"
   ]
  },
  {
   "cell_type": "raw",
   "id": "a2d5efeb",
   "metadata": {},
   "source": [
    "In these proxy models, the traffic bound for the Service's IP:Port is proxied to an appropriate backend without the clients knowing anything about Kubernetes or Services or Pods.\n",
    "\n",
    "If you want to make sure that connections from a particular client are passed to the same Pod each time, you can select the session affinity based on the client's IP addresses by setting service.spec.sessionAffinity to \"ClientIP\" (the default is \"None\"). You can also set the maximum session sticky time by setting service.spec.sessionAffinityConfig.clientIP.timeoutSeconds appropriately. (the default value is 10800, which works out to be 3 hours)."
   ]
  },
  {
   "cell_type": "raw",
   "id": "333a8771",
   "metadata": {},
   "source": [
    "Note: On Windows, setting the maximum session sticky time for Services is not supported."
   ]
  },
  {
   "cell_type": "markdown",
   "id": "9deaa390",
   "metadata": {},
   "source": [
    "# Multi-Port Services"
   ]
  },
  {
   "cell_type": "raw",
   "id": "266d4349",
   "metadata": {},
   "source": [
    "For some Services, you need to expose more than one port. Kubernetes lets you configure multiple port definitions on a Service object. When using multiple ports for a Service, you must give all of your ports names so that these are unambiguous. For example:"
   ]
  },
  {
   "cell_type": "code",
   "execution_count": null,
   "id": "8bae151e",
   "metadata": {},
   "outputs": [],
   "source": [
    "apiVersion: v1\n",
    "kind: Service\n",
    "metadata:\n",
    "  name: my-service\n",
    "spec:\n",
    "  selector:\n",
    "    app.kubernetes.io/name: MyApp\n",
    "  ports:\n",
    "    - name: http\n",
    "      protocol: TCP\n",
    "      port: 80\n",
    "      targetPort: 9376\n",
    "    - name: https\n",
    "      protocol: TCP\n",
    "      port: 443\n",
    "      targetPort: 9377"
   ]
  },
  {
   "cell_type": "raw",
   "id": "2b524874",
   "metadata": {},
   "source": [
    "Note:\n",
    "As with Kubernetes names in general, names for ports must only contain lowercase alphanumeric characters and -. Port names must also start and end with an alphanumeric character.\n",
    "\n",
    "For example, the names 123-abc and web are valid, but 123_abc and -web are not."
   ]
  },
  {
   "cell_type": "markdown",
   "id": "cfe31e95",
   "metadata": {},
   "source": [
    "# Choosing your own IP address"
   ]
  },
  {
   "cell_type": "raw",
   "id": "586502ea",
   "metadata": {},
   "source": [
    "You can specify your own cluster IP address as part of a Service creation request. To do this, set the .spec.clusterIP field. For example, if you already have an existing DNS entry that you wish to reuse, or legacy systems that are configured for a specific IP address and difficult to re-configure.\n",
    "\n",
    "The IP address that you choose must be a valid IPv4 or IPv6 address from within the service-cluster-ip-range CIDR range that is configured for the API server. If you try to create a Service with an invalid clusterIP address value, the API server will return a 422 HTTP status code to indicate that there's a problem."
   ]
  },
  {
   "cell_type": "markdown",
   "id": "3db2b10e",
   "metadata": {},
   "source": [
    "# Traffic policies"
   ]
  },
  {
   "cell_type": "raw",
   "id": "b1cf45ee",
   "metadata": {},
   "source": [
    "You can set the spec.externalTrafficPolicy field to control how traffic from external sources is routed. Valid values are Cluster and Local. Set the field to Cluster to route external traffic to all ready endpoints and Local to only route to ready node-local endpoints. If the traffic policy is Local and there are no node-local endpoints, the kube-proxy does not forward any traffic for the relevant Service."
   ]
  },
  {
   "cell_type": "markdown",
   "id": "c375dfde",
   "metadata": {},
   "source": [
    "### Internal traffic policy"
   ]
  },
  {
   "cell_type": "raw",
   "id": "94ca799f",
   "metadata": {},
   "source": [
    "You can set the spec.internalTrafficPolicy field to control how traffic from internal sources is routed. Valid values are Cluster and Local. Set the field to Cluster to route internal traffic to all ready endpoints and Local to only route to ready node-local endpoints. If the traffic policy is Local and there are no node-local endpoints, traffic is dropped by kube-proxy."
   ]
  },
  {
   "cell_type": "code",
   "execution_count": null,
   "id": "16306f4b",
   "metadata": {},
   "outputs": [],
   "source": []
  },
  {
   "cell_type": "code",
   "execution_count": null,
   "id": "a202c7e5",
   "metadata": {},
   "outputs": [],
   "source": []
  },
  {
   "cell_type": "code",
   "execution_count": null,
   "id": "7aa9db9f",
   "metadata": {},
   "outputs": [],
   "source": []
  },
  {
   "cell_type": "markdown",
   "id": "d80c3864",
   "metadata": {},
   "source": [
    "### 範例: Connecting Applications with Services"
   ]
  },
  {
   "cell_type": "markdown",
   "id": "902549da",
   "metadata": {},
   "source": [
    "參考文章: https://kubernetes.io/docs/tutorials/services/connect-applications-service/"
   ]
  },
  {
   "cell_type": "markdown",
   "id": "3abbacf9",
   "metadata": {},
   "source": [
    "##### The Kubernetes model for connecting containers"
   ]
  },
  {
   "cell_type": "raw",
   "id": "3f95d171",
   "metadata": {},
   "source": [
    "Now that you have a continuously running, replicated application you can expose it on a network.\n",
    "\n",
    "Kubernetes assumes that pods can communicate with other pods, regardless of which host they land on. Kubernetes gives every pod its own cluster-private IP address, so you do not need to explicitly create links between pods or map container ports to host ports. This means that containers within a Pod can all reach each other's ports on localhost, and all pods in a cluster can see each other without NAT. The rest of this document elaborates on how you can run reliable services on such a networking model.\n",
    "\n",
    "This tutorial uses a simple nginx web server to demonstrate the concept."
   ]
  },
  {
   "cell_type": "markdown",
   "id": "82018dae",
   "metadata": {},
   "source": [
    "##### Exposing pods to the cluster"
   ]
  },
  {
   "cell_type": "raw",
   "id": "d8ad1023",
   "metadata": {},
   "source": [
    "We did this in a previous example, but let's do it once again and focus on the networking perspective. Create an nginx Pod, and note that it has a container port specification:"
   ]
  },
  {
   "cell_type": "code",
   "execution_count": null,
   "id": "53bcc8a9",
   "metadata": {},
   "outputs": [],
   "source": [
    "apiVersion: apps/v1\n",
    "kind: Deployment\n",
    "metadata:\n",
    "  name: my-nginx\n",
    "spec:\n",
    "  selector:\n",
    "    matchLabels:\n",
    "      run: my-nginx\n",
    "  replicas: 2\n",
    "  template:\n",
    "    metadata:\n",
    "      labels:\n",
    "        run: my-nginx\n",
    "    spec:\n",
    "      containers:\n",
    "      - name: my-nginx\n",
    "        image: nginx\n",
    "        ports:\n",
    "        - containerPort: 80"
   ]
  },
  {
   "cell_type": "raw",
   "id": "cef4bd25",
   "metadata": {},
   "source": [
    "This makes it accessible from any node in your cluster. Check the nodes the Pod is running on:"
   ]
  },
  {
   "cell_type": "code",
   "execution_count": null,
   "id": "7a58d3fa",
   "metadata": {},
   "outputs": [],
   "source": [
    "kubectl apply -f ./run-my-nginx.yaml\n",
    "kubectl get pods -l run=my-nginx -o wide"
   ]
  },
  {
   "cell_type": "raw",
   "id": "7c69e886",
   "metadata": {},
   "source": [
    "NAME                        READY     STATUS    RESTARTS   AGE       IP            NODE\n",
    "my-nginx-3800858182-jr4a2   1/1       Running   0          13s       10.244.3.4    kubernetes-minion-905m\n",
    "my-nginx-3800858182-kna2y   1/1       Running   0          13s       10.244.2.5    kubernetes-minion-ljyd\n",
    "Check your pods' IPs:"
   ]
  },
  {
   "cell_type": "raw",
   "id": "8423b09f",
   "metadata": {},
   "source": [
    "Check your pods' IPs:"
   ]
  },
  {
   "cell_type": "raw",
   "id": "24e51745",
   "metadata": {},
   "source": [
    "kubectl get pods -l run=my-nginx -o custom-columns=POD_IP:.status.podIPs\n",
    "    POD_IP\n",
    "    [map[ip:10.244.3.4]]\n",
    "    [map[ip:10.244.2.5]]"
   ]
  },
  {
   "cell_type": "raw",
   "id": "1fafc5f2",
   "metadata": {},
   "source": [
    "You should be able to ssh into any node in your cluster and use a tool such as curl to make queries against both IPs. Note that the containers are not using port 80 on the node, nor are there any special NAT rules to route traffic to the pod. This means you can run multiple nginx pods on the same node all using the same containerPort, and access them from any other pod or node in your cluster using the assigned IP address for the Service. If you want to arrange for a specific port on the host Node to be forwarded to backing Pods, you can - but the networking model should mean that you do not need to do so.\n",
    "\n",
    "You can read more about the Kubernetes Networking Model if you're curious."
   ]
  },
  {
   "cell_type": "markdown",
   "id": "286c0bf9",
   "metadata": {},
   "source": [
    "##### Creating a Service"
   ]
  },
  {
   "cell_type": "raw",
   "id": "3119fbc9",
   "metadata": {},
   "source": [
    "So we have pods running nginx in a flat, cluster wide, address space. In theory, you could talk to these pods directly, but what happens when a node dies? The pods die with it, and the Deployment will create new ones, with different IPs. This is the problem a Service solves.\n",
    "\n",
    "A Kubernetes Service is an abstraction which defines a logical set of Pods running somewhere in your cluster, that all provide the same functionality. When created, each Service is assigned a unique IP address (also called clusterIP). This address is tied to the lifespan of the Service, and will not change while the Service is alive. Pods can be configured to talk to the Service, and know that communication to the Service will be automatically load-balanced out to some pod that is a member of the Service.\n",
    "\n",
    "You can create a Service for your 2 nginx replicas with kubectl expose:"
   ]
  },
  {
   "cell_type": "code",
   "execution_count": null,
   "id": "ee90c3e3",
   "metadata": {},
   "outputs": [],
   "source": [
    "kubectl expose deployment/my-nginx"
   ]
  },
  {
   "cell_type": "raw",
   "id": "e95499b8",
   "metadata": {},
   "source": [
    "This is equivalent to kubectl apply -f the following yaml:"
   ]
  },
  {
   "cell_type": "code",
   "execution_count": null,
   "id": "ee7bb2b1",
   "metadata": {},
   "outputs": [],
   "source": [
    "apiVersion: v1\n",
    "kind: Service\n",
    "metadata:\n",
    "  name: my-nginx\n",
    "  labels:\n",
    "    run: my-nginx\n",
    "spec:\n",
    "  ports:\n",
    "  - port: 80\n",
    "    protocol: TCP\n",
    "  selector:\n",
    "    run: my-nginx"
   ]
  },
  {
   "cell_type": "raw",
   "id": "e86a1233",
   "metadata": {},
   "source": [
    "This specification will create a Service which targets TCP port 80 on any Pod with the run: my-nginx label, and expose it on an abstracted Service port (targetPort: is the port the container accepts traffic on, port: is the abstracted Service port, which can be any port other pods use to access the Service). View Service API object to see the list of supported fields in service definition. Check your Service:"
   ]
  },
  {
   "cell_type": "raw",
   "id": "f7e8e26b",
   "metadata": {},
   "source": [
    "kubectl get svc my-nginx"
   ]
  },
  {
   "cell_type": "raw",
   "id": "43b7360c",
   "metadata": {},
   "source": [
    "NAME       TYPE        CLUSTER-IP     EXTERNAL-IP   PORT(S)   AGE\n",
    "my-nginx   ClusterIP   10.0.162.149   <none>        80/TCP    21s"
   ]
  },
  {
   "cell_type": "raw",
   "id": "08ac16bd",
   "metadata": {},
   "source": [
    "As mentioned previously, a Service is backed by a group of Pods. These Pods are exposed through EndpointSlices. The Service's selector will be evaluated continuously and the results will be POSTed to an EndpointSlice that is connected to the Service using a labels. When a Pod dies, it is automatically removed from the EndpointSlices that contain it as an endpoint. New Pods that match the Service's selector will automatically get added to an EndpointSlice for that Service. Check the endpoints, and note that the IPs are the same as the Pods created in the first step:"
   ]
  },
  {
   "cell_type": "code",
   "execution_count": null,
   "id": "adce23c2",
   "metadata": {},
   "outputs": [],
   "source": [
    "kubectl describe svc my-nginx"
   ]
  },
  {
   "cell_type": "raw",
   "id": "50c2dd0e",
   "metadata": {},
   "source": [
    "Name:                my-nginx\n",
    "Namespace:           default\n",
    "Labels:              run=my-nginx\n",
    "Annotations:         <none>\n",
    "Selector:            run=my-nginx\n",
    "Type:                ClusterIP\n",
    "IP:                  10.0.162.149\n",
    "Port:                <unset> 80/TCP\n",
    "Endpoints:           10.244.2.5:80,10.244.3.4:80\n",
    "Session Affinity:    None\n",
    "Events:              <none>"
   ]
  },
  {
   "cell_type": "code",
   "execution_count": null,
   "id": "6f42968b",
   "metadata": {},
   "outputs": [],
   "source": [
    "kubectl get endpointslices -l kubernetes.io/service-name=my-nginx"
   ]
  },
  {
   "cell_type": "raw",
   "id": "eb21c6ac",
   "metadata": {},
   "source": [
    "NAME             ADDRESSTYPE   PORTS   ENDPOINTS               AGE\n",
    "my-nginx-7vzhx   IPv4          80      10.244.2.5,10.244.3.4   21s"
   ]
  },
  {
   "cell_type": "raw",
   "id": "47160984",
   "metadata": {},
   "source": [
    "You should now be able to curl the nginx Service on <CLUSTER-IP>:<PORT> from any node in your cluster. Note that the Service IP is completely virtual, it never hits the wire. If you're curious about how this works you can read more about the service proxy."
   ]
  },
  {
   "cell_type": "markdown",
   "id": "19b9b9d3",
   "metadata": {},
   "source": [
    "### Accessing the Service"
   ]
  },
  {
   "cell_type": "raw",
   "id": "fb73906b",
   "metadata": {},
   "source": [
    "Kubernetes supports 2 primary modes of finding a Service - environment variables and DNS. The former works out of the box while the latter requires the CoreDNS cluster addon."
   ]
  },
  {
   "cell_type": "markdown",
   "id": "dfd97dab",
   "metadata": {},
   "source": [
    "##### Environment Variables"
   ]
  },
  {
   "cell_type": "raw",
   "id": "2e2f3f70",
   "metadata": {},
   "source": [
    "When a Pod runs on a Node, the kubelet adds a set of environment variables for each active Service. This introduces an ordering problem. To see why, inspect the environment of your running nginx Pods (your Pod name will be different):"
   ]
  },
  {
   "cell_type": "code",
   "execution_count": null,
   "id": "5a582ac7",
   "metadata": {},
   "outputs": [],
   "source": [
    "kubectl exec my-nginx-3800858182-jr4a2 -- printenv | grep SERVICE"
   ]
  },
  {
   "cell_type": "code",
   "execution_count": null,
   "id": "7e408697",
   "metadata": {},
   "outputs": [],
   "source": [
    "KUBERNETES_SERVICE_HOST=10.0.0.1\n",
    "KUBERNETES_SERVICE_PORT=443\n",
    "KUBERNETES_SERVICE_PORT_HTTPS=443"
   ]
  },
  {
   "cell_type": "raw",
   "id": "e34b7a6e",
   "metadata": {},
   "source": [
    "Note there's no mention of your Service. This is because you created the replicas before the Service. Another disadvantage of doing this is that the scheduler might put both Pods on the same machine, which will take your entire Service down if it dies. We can do this the right way by killing the 2 Pods and waiting for the Deployment to recreate them. This time around the Service exists before the replicas. This will give you scheduler-level Service spreading of your Pods (provided all your nodes have equal capacity), as well as the right environment variables:"
   ]
  },
  {
   "cell_type": "code",
   "execution_count": null,
   "id": "26d5a1d2",
   "metadata": {},
   "outputs": [],
   "source": [
    "kubectl scale deployment my-nginx --replicas=0; kubectl scale deployment my-nginx --replicas=2;\n",
    "kubectl get pods -l run=my-nginx -o wide"
   ]
  },
  {
   "cell_type": "raw",
   "id": "52f146a9",
   "metadata": {},
   "source": [
    "NAME                        READY     STATUS    RESTARTS   AGE     IP            NODE\n",
    "my-nginx-3800858182-e9ihh   1/1       Running   0          5s      10.244.2.7    kubernetes-minion-ljyd\n",
    "my-nginx-3800858182-j4rm4   1/1       Running   0          5s      10.244.3.8    kubernetes-minion-905m"
   ]
  },
  {
   "cell_type": "raw",
   "id": "2b2aab4e",
   "metadata": {},
   "source": [
    "You may notice that the pods have different names, since they are killed and recreated."
   ]
  },
  {
   "cell_type": "code",
   "execution_count": null,
   "id": "e2fef00b",
   "metadata": {},
   "outputs": [],
   "source": [
    "kubectl exec my-nginx-3800858182-e9ihh -- printenv | grep SERVICE"
   ]
  },
  {
   "cell_type": "raw",
   "id": "80df8170",
   "metadata": {},
   "source": [
    "KUBERNETES_SERVICE_PORT=443\n",
    "MY_NGINX_SERVICE_HOST=10.0.162.149\n",
    "KUBERNETES_SERVICE_HOST=10.0.0.1\n",
    "MY_NGINX_SERVICE_PORT=80\n",
    "KUBERNETES_SERVICE_PORT_HTTPS=443"
   ]
  },
  {
   "cell_type": "markdown",
   "id": "db0147ca",
   "metadata": {},
   "source": [
    "##### DNS"
   ]
  },
  {
   "cell_type": "raw",
   "id": "28600643",
   "metadata": {},
   "source": [
    "Kubernetes offers a DNS cluster addon Service that automatically assigns dns names to other Services. You can check if it's running on your cluster:"
   ]
  },
  {
   "cell_type": "code",
   "execution_count": null,
   "id": "1b6a79a7",
   "metadata": {},
   "outputs": [],
   "source": [
    "kubectl get services kube-dns --namespace=kube-system"
   ]
  },
  {
   "cell_type": "raw",
   "id": "e348d5df",
   "metadata": {},
   "source": [
    "NAME       TYPE        CLUSTER-IP   EXTERNAL-IP   PORT(S)         AGE\n",
    "kube-dns   ClusterIP   10.0.0.10    <none>        53/UDP,53/TCP   8m"
   ]
  },
  {
   "cell_type": "raw",
   "id": "f32a5273",
   "metadata": {},
   "source": [
    "The rest of this section will assume you have a Service with a long lived IP (my-nginx), and a DNS server that has assigned a name to that IP. Here we use the CoreDNS cluster addon (application name kube-dns), so you can talk to the Service from any pod in your cluster using standard methods (e.g. gethostbyname()). If CoreDNS isn't running, you can enable it referring to the CoreDNS README or Installing CoreDNS. Let's run another curl application to test this:"
   ]
  },
  {
   "cell_type": "code",
   "execution_count": null,
   "id": "d746a6a6",
   "metadata": {},
   "outputs": [],
   "source": [
    "kubectl run curl --image=radial/busyboxplus:curl -i --tty"
   ]
  },
  {
   "cell_type": "raw",
   "id": "01731f2c",
   "metadata": {},
   "source": [
    "Waiting for pod default/curl-131556218-9fnch to be running, status is Pending, pod ready: false\n",
    "Hit enter for command prompt"
   ]
  },
  {
   "cell_type": "raw",
   "id": "7616ab4e",
   "metadata": {},
   "source": [
    "Then, hit enter and run nslookup my-nginx:"
   ]
  },
  {
   "cell_type": "raw",
   "id": "1ff1ff23",
   "metadata": {},
   "source": [
    "[ root@curl-131556218-9fnch:/ ]$ nslookup my-nginx\n",
    "Server:    10.0.0.10\n",
    "Address 1: 10.0.0.10\n",
    "\n",
    "Name:      my-nginx\n",
    "Address 1: 10.0.162.149"
   ]
  },
  {
   "cell_type": "markdown",
   "id": "ada73b91",
   "metadata": {},
   "source": [
    "### Securing the Service"
   ]
  },
  {
   "cell_type": "raw",
   "id": "6af713a8",
   "metadata": {},
   "source": [
    "Till now we have only accessed the nginx server from within the cluster. Before exposing the Service to the internet, you want to make sure the communication channel is secure. For this, you will need:\n",
    "\n",
    "Self signed certificates for https (unless you already have an identity certificate)\n",
    "An nginx server configured to use the certificates\n",
    "A secret that makes the certificates accessible to pods\n",
    "You can acquire all these from the nginx https example. This requires having go and make tools installed. If you don't want to install those, then follow the manual steps later. In short:"
   ]
  },
  {
   "cell_type": "raw",
   "id": "d76f341c",
   "metadata": {},
   "source": [
    "Till now we have only accessed the nginx server from within the cluster. Before exposing the Service to the internet, you want to make sure the communication channel is secure. For this, you will need:\n",
    "\n",
    "1. Self signed certificates for https (unless you already have an identity certificate)\n",
    "2. An nginx server configured to use the certificates\n",
    "3. A secret that makes the certificates accessible to pods\n",
    "\n",
    "You can acquire all these from the nginx https example. This requires having go and make tools installed. If you don't want to install those, then follow the manual steps later. In short:"
   ]
  },
  {
   "cell_type": "markdown",
   "id": "1becbc62",
   "metadata": {},
   "source": [
    "https example: https://github.com/kubernetes/examples/tree/master/staging/https-nginx/"
   ]
  },
  {
   "cell_type": "code",
   "execution_count": null,
   "id": "066e2c27",
   "metadata": {},
   "outputs": [],
   "source": [
    "make keys KEY=/tmp/nginx.key CERT=/tmp/nginx.crt\n",
    "kubectl create secret tls nginxsecret --key /tmp/nginx.key --cert /tmp/nginx.crt"
   ]
  },
  {
   "cell_type": "code",
   "execution_count": null,
   "id": "9023e4bb",
   "metadata": {},
   "outputs": [],
   "source": [
    "kubectl get secrets"
   ]
  },
  {
   "cell_type": "raw",
   "id": "558f520b",
   "metadata": {},
   "source": [
    "NAME                  TYPE                                  DATA      AGE\n",
    "nginxsecret           kubernetes.io/tls                     2         1m"
   ]
  },
  {
   "cell_type": "raw",
   "id": "f4fa164c",
   "metadata": {},
   "source": [
    "And also the configmap:"
   ]
  },
  {
   "cell_type": "code",
   "execution_count": null,
   "id": "fdbd500d",
   "metadata": {},
   "outputs": [],
   "source": [
    "kubectl create configmap nginxconfigmap --from-file=default.conf"
   ]
  },
  {
   "cell_type": "code",
   "execution_count": null,
   "id": "35ff18c3",
   "metadata": {},
   "outputs": [],
   "source": [
    "kubectl get configmaps"
   ]
  },
  {
   "cell_type": "raw",
   "id": "4e9718c2",
   "metadata": {},
   "source": [
    "NAME             DATA   AGE\n",
    "nginxconfigmap   1      114s"
   ]
  },
  {
   "cell_type": "raw",
   "id": "02941480",
   "metadata": {},
   "source": [
    "Following are the manual steps to follow in case you run into problems running make (on windows for example):"
   ]
  },
  {
   "cell_type": "raw",
   "id": "aaf82fe3",
   "metadata": {},
   "source": [
    "# Create a public private key pair\n",
    "openssl req -x509 -nodes -days 365 -newkey rsa:2048 -keyout /d/tmp/nginx.key -out /d/tmp/nginx.crt -subj \"/CN=my-nginx/O=my-nginx\"\n",
    "# Convert the keys to base64 encoding\n",
    "cat /d/tmp/nginx.crt | base64\n",
    "cat /d/tmp/nginx.key | base64"
   ]
  },
  {
   "cell_type": "raw",
   "id": "14b58480",
   "metadata": {},
   "source": [
    "Use the output from the previous commands to create a yaml file as follows. The base64 encoded value should all be on a single line."
   ]
  },
  {
   "cell_type": "code",
   "execution_count": null,
   "id": "d8439632",
   "metadata": {},
   "outputs": [],
   "source": [
    "apiVersion: \"v1\"\n",
    "kind: \"Secret\"\n",
    "metadata:\n",
    "  name: \"nginxsecret\"\n",
    "  namespace: \"default\"\n",
    "type: kubernetes.io/tls\n",
    "data:\n",
    "  tls.crt: \"LS0tLS1CRUdJTiBDRVJUSUZJQ0FURS0tLS0tCk1JSURIekNDQWdlZ0F3SUJBZ0lKQUp5M3lQK0pzMlpJTUEwR0NTcUdTSWIzRFFFQkJRVUFNQ1l4RVRBUEJnTlYKQkFNVENHNW5hVzU0YzNaak1SRXdEd1lEVlFRS0V3aHVaMmx1ZUhOMll6QWVGdzB4TnpFd01qWXdOekEzTVRKYQpGdzB4T0RFd01qWXdOekEzTVRKYU1DWXhFVEFQQmdOVkJBTVRDRzVuYVc1NGMzWmpNUkV3RHdZRFZRUUtFd2h1CloybHVlSE4yWXpDQ0FTSXdEUVlKS29aSWh2Y05BUUVCQlFBRGdnRVBBRENDQVFvQ2dnRUJBSjFxSU1SOVdWM0IKMlZIQlRMRmtobDRONXljMEJxYUhIQktMSnJMcy8vdzZhU3hRS29GbHlJSU94NGUrMlN5ajBFcndCLzlYTnBwbQppeW1CL3JkRldkOXg5UWhBQUxCZkVaTmNiV3NsTVFVcnhBZW50VWt1dk1vLzgvMHRpbGhjc3paenJEYVJ4NEo5Ci82UVRtVVI3a0ZTWUpOWTVQZkR3cGc3dlVvaDZmZ1Voam92VG42eHNVR0M2QURVODBpNXFlZWhNeVI1N2lmU2YKNHZpaXdIY3hnL3lZR1JBRS9mRTRqakxCdmdONjc2SU90S01rZXV3R0ljNDFhd05tNnNTSzRqYUNGeGpYSnZaZQp2by9kTlEybHhHWCtKT2l3SEhXbXNhdGp4WTRaNVk3R1ZoK0QrWnYvcW1mMFgvbVY0Rmo1NzV3ajFMWVBocWtsCmdhSXZYRyt4U1FVQ0F3RUFBYU5RTUU0d0hRWURWUjBPQkJZRUZPNG9OWkI3YXc1OUlsYkROMzhIYkduYnhFVjcKTUI4R0ExVWRJd1FZTUJhQUZPNG9OWkI3YXc1OUlsYkROMzhIYkduYnhFVjdNQXdHQTFVZEV3UUZNQU1CQWY4dwpEUVlKS29aSWh2Y05BUUVGQlFBRGdnRUJBRVhTMW9FU0lFaXdyMDhWcVA0K2NwTHI3TW5FMTducDBvMm14alFvCjRGb0RvRjdRZnZqeE04Tzd2TjB0clcxb2pGSW0vWDE4ZnZaL3k4ZzVaWG40Vm8zc3hKVmRBcStNZC9jTStzUGEKNmJjTkNUekZqeFpUV0UrKzE5NS9zb2dmOUZ3VDVDK3U2Q3B5N0M3MTZvUXRUakViV05VdEt4cXI0Nk1OZWNCMApwRFhWZmdWQTRadkR4NFo3S2RiZDY5eXM3OVFHYmg5ZW1PZ05NZFlsSUswSGt0ejF5WU4vbVpmK3FqTkJqbWZjCkNnMnlwbGQ0Wi8rUUNQZjl3SkoybFIrY2FnT0R4elBWcGxNSEcybzgvTHFDdnh6elZPUDUxeXdLZEtxaUMwSVEKQ0I5T2wwWW5scE9UNEh1b2hSUzBPOStlMm9KdFZsNUIyczRpbDlhZ3RTVXFxUlU9Ci0tLS0tRU5EIENFUlRJRklDQVRFLS0tLS0K\"\n",
    "  tls.key: \"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\""
   ]
  },
  {
   "cell_type": "raw",
   "id": "5881a06d",
   "metadata": {},
   "source": [
    "Now create the secrets using the file:"
   ]
  },
  {
   "cell_type": "code",
   "execution_count": null,
   "id": "a62d5073",
   "metadata": {},
   "outputs": [],
   "source": [
    "kubectl apply -f nginxsecrets.yaml\n",
    "kubectl get secrets"
   ]
  },
  {
   "cell_type": "raw",
   "id": "e71bf03b",
   "metadata": {},
   "source": [
    "NAME                  TYPE                                  DATA      AGE\n",
    "nginxsecret           kubernetes.io/tls                     2         1m"
   ]
  },
  {
   "cell_type": "code",
   "execution_count": null,
   "id": "65f9662a",
   "metadata": {},
   "outputs": [],
   "source": [
    "apiVersion: v1\n",
    "kind: Service\n",
    "metadata:\n",
    "  name: my-nginx\n",
    "  labels:\n",
    "    run: my-nginx\n",
    "spec:\n",
    "  type: NodePort\n",
    "  ports:\n",
    "  - port: 8080\n",
    "    targetPort: 80\n",
    "    protocol: TCP\n",
    "    name: http\n",
    "  - port: 443\n",
    "    protocol: TCP\n",
    "    name: https\n",
    "  selector:\n",
    "    run: my-nginx\n",
    "---\n",
    "apiVersion: apps/v1\n",
    "kind: Deployment\n",
    "metadata:\n",
    "  name: my-nginx\n",
    "spec:\n",
    "  selector:\n",
    "    matchLabels:\n",
    "      run: my-nginx\n",
    "  replicas: 1\n",
    "  template:\n",
    "    metadata:\n",
    "      labels:\n",
    "        run: my-nginx\n",
    "    spec:\n",
    "      volumes:\n",
    "      - name: secret-volume\n",
    "        secret:\n",
    "          secretName: nginxsecret\n",
    "      - name: configmap-volume\n",
    "        configMap:\n",
    "          name: nginxconfigmap\n",
    "      containers:\n",
    "      - name: nginxhttps\n",
    "        image: bprashanth/nginxhttps:1.0\n",
    "        ports:\n",
    "        - containerPort: 443\n",
    "        - containerPort: 80\n",
    "        volumeMounts:\n",
    "        - mountPath: /etc/nginx/ssl\n",
    "          name: secret-volume\n",
    "        - mountPath: /etc/nginx/conf.d\n",
    "          name: configmap-volume"
   ]
  },
  {
   "cell_type": "raw",
   "id": "43b5ada1",
   "metadata": {},
   "source": [
    "Noteworthy points about the nginx-secure-app manifest:\n",
    "\n",
    "1. It contains both Deployment and Service specification in the same file.\n",
    "2. The nginx server serves HTTP traffic on port 80 and HTTPS traffic on 443, and nginx Service exposes both ports.\n",
    "3. Each container has access to the keys through a volume mounted at /etc/nginx/ssl. This is set up before the nginx server \n",
    "   is started."
   ]
  },
  {
   "cell_type": "code",
   "execution_count": null,
   "id": "a20d1e8f",
   "metadata": {},
   "outputs": [],
   "source": [
    "kubectl delete deployments,svc my-nginx; kubectl create -f ./nginx-secure-app.yaml"
   ]
  },
  {
   "cell_type": "raw",
   "id": "6a8655cc",
   "metadata": {},
   "source": [
    "At this point you can reach the nginx server from any node.`"
   ]
  },
  {
   "cell_type": "code",
   "execution_count": null,
   "id": "c1f27cc3",
   "metadata": {},
   "outputs": [],
   "source": [
    "kubectl get pods -l run=my-nginx -o custom-columns=POD_IP:.status.podIPs\n",
    "    POD_IP\n",
    "    [map[ip:10.244.3.5]]"
   ]
  },
  {
   "cell_type": "code",
   "execution_count": null,
   "id": "62c789ea",
   "metadata": {},
   "outputs": [],
   "source": [
    "node $ curl -k https://10.244.3.5\n",
    "...\n",
    "<h1>Welcome to nginx!</h1>"
   ]
  },
  {
   "cell_type": "raw",
   "id": "abf2fb86",
   "metadata": {},
   "source": [
    "Note how we supplied the -k parameter to curl in the last step, this is because we don't know anything about the pods running nginx at certificate generation time, so we have to tell curl to ignore the CName mismatch. By creating a Service we linked the CName used in the certificate with the actual DNS name used by pods during Service lookup. Let's test this from a pod (the same secret is being reused for simplicity, the pod only needs nginx.crt to access the Service):"
   ]
  },
  {
   "cell_type": "code",
   "execution_count": null,
   "id": "a1afb38c",
   "metadata": {},
   "outputs": [],
   "source": [
    "apiVersion: apps/v1\n",
    "kind: Deployment\n",
    "metadata:\n",
    "  name: curl-deployment\n",
    "spec:\n",
    "  selector:\n",
    "    matchLabels:\n",
    "      app: curlpod\n",
    "  replicas: 1\n",
    "  template:\n",
    "    metadata:\n",
    "      labels:\n",
    "        app: curlpod\n",
    "    spec:\n",
    "      volumes:\n",
    "      - name: secret-volume\n",
    "        secret:\n",
    "          secretName: nginxsecret\n",
    "      containers:\n",
    "      - name: curlpod\n",
    "        command:\n",
    "        - sh\n",
    "        - -c\n",
    "        - while true; do sleep 1; done\n",
    "        image: radial/busyboxplus:curl\n",
    "        volumeMounts:\n",
    "        - mountPath: /etc/nginx/ssl\n",
    "          name: secret-volume"
   ]
  },
  {
   "cell_type": "code",
   "execution_count": null,
   "id": "7d47ba83",
   "metadata": {},
   "outputs": [],
   "source": [
    "kubectl apply -f ./curlpod.yaml\n",
    "kubectl get pods -l app=curlpod"
   ]
  },
  {
   "cell_type": "raw",
   "id": "022ac240",
   "metadata": {},
   "source": [
    "NAME                               READY     STATUS    RESTARTS   AGE\n",
    "curl-deployment-1515033274-1410r   1/1       Running   0          1m"
   ]
  },
  {
   "cell_type": "raw",
   "id": "a0d87296",
   "metadata": {},
   "source": [
    "kubectl exec curl-deployment-1515033274-1410r -- curl https://my-nginx --cacert /etc/nginx/ssl/tls.crt\n",
    "...\n",
    "<title>Welcome to nginx!</title>\n",
    "..."
   ]
  },
  {
   "cell_type": "markdown",
   "id": "b0095b0e",
   "metadata": {},
   "source": [
    "### Exposing the Service"
   ]
  },
  {
   "cell_type": "raw",
   "id": "661d0ee7",
   "metadata": {},
   "source": [
    "For some parts of your applications you may want to expose a Service onto an external IP address. Kubernetes supports two ways of doing this: NodePorts and LoadBalancers. The Service created in the last section already used NodePort, so your nginx HTTPS replica is ready to serve traffic on the internet if your node has a public IP."
   ]
  },
  {
   "cell_type": "code",
   "execution_count": null,
   "id": "428fa5ce",
   "metadata": {},
   "outputs": [],
   "source": [
    "kubectl get svc my-nginx -o yaml | grep nodePort -C 5\n",
    "  uid: 07191fb3-f61a-11e5-8ae5-42010af00002\n",
    "spec:\n",
    "  clusterIP: 10.0.162.149\n",
    "  ports:\n",
    "  - name: http\n",
    "    nodePort: 31704\n",
    "    port: 8080\n",
    "    protocol: TCP\n",
    "    targetPort: 80\n",
    "  - name: https\n",
    "    nodePort: 32453\n",
    "    port: 443\n",
    "    protocol: TCP\n",
    "    targetPort: 443\n",
    "  selector:\n",
    "    run: my-nginx"
   ]
  },
  {
   "cell_type": "code",
   "execution_count": null,
   "id": "67709df3",
   "metadata": {},
   "outputs": [],
   "source": [
    "kubectl get nodes -o yaml | grep ExternalIP -C 1\n",
    "    - address: 104.197.41.11\n",
    "      type: ExternalIP\n",
    "    allocatable:\n",
    "--\n",
    "    - address: 23.251.152.56\n",
    "      type: ExternalIP\n",
    "    allocatable:\n",
    "...\n",
    "\n",
    "$ curl https://<EXTERNAL-IP>:<NODE-PORT> -k\n",
    "...\n",
    "<h1>Welcome to nginx!</h1>"
   ]
  },
  {
   "cell_type": "raw",
   "id": "06166f75",
   "metadata": {},
   "source": [
    "Let's now recreate the Service to use a cloud load balancer. Change the Type of my-nginx Service from NodePort to LoadBalancer:"
   ]
  },
  {
   "cell_type": "code",
   "execution_count": null,
   "id": "5b5e6b20",
   "metadata": {},
   "outputs": [],
   "source": [
    "kubectl edit svc my-nginx\n",
    "kubectl get svc my-nginx"
   ]
  },
  {
   "cell_type": "raw",
   "id": "067ae8d5",
   "metadata": {},
   "source": [
    "AME       TYPE           CLUSTER-IP     EXTERNAL-IP        PORT(S)               AGE\n",
    "my-nginx   LoadBalancer   10.0.162.149     xx.xxx.xxx.xxx     8080:30163/TCP        21s"
   ]
  },
  {
   "cell_type": "code",
   "execution_count": null,
   "id": "21731795",
   "metadata": {},
   "outputs": [],
   "source": [
    "curl https://<EXTERNAL-IP> -k\n",
    "...\n",
    "<title>Welcome to nginx!</title>"
   ]
  },
  {
   "cell_type": "raw",
   "id": "3e6cbd2e",
   "metadata": {},
   "source": [
    "The IP address in the EXTERNAL-IP column is the one that is available on the public internet. The CLUSTER-IP is only available inside your cluster/private cloud network.\n",
    "\n",
    "Note that on AWS, type LoadBalancer creates an ELB, which uses a (long) hostname, not an IP. It's too long to fit in the standard kubectl get svc output, in fact, so you'll need to do kubectl describe service my-nginx to see it. You'll see something like this:"
   ]
  },
  {
   "cell_type": "code",
   "execution_count": null,
   "id": "1b7d952d",
   "metadata": {},
   "outputs": [],
   "source": [
    "kubectl describe service my-nginx\n",
    "...\n",
    "LoadBalancer Ingress:   a320587ffd19711e5a37606cf4a74574-1142138393.us-east-1.elb.amazonaws.com\n",
    "..."
   ]
  },
  {
   "cell_type": "code",
   "execution_count": null,
   "id": "36c5bcc6",
   "metadata": {},
   "outputs": [],
   "source": []
  }
 ],
 "metadata": {
  "kernelspec": {
   "display_name": "Python 3",
   "language": "python",
   "name": "python3"
  },
  "language_info": {
   "codemirror_mode": {
    "name": "ipython",
    "version": 3
   },
   "file_extension": ".py",
   "mimetype": "text/x-python",
   "name": "python",
   "nbconvert_exporter": "python",
   "pygments_lexer": "ipython3",
   "version": "3.8.10"
  }
 },
 "nbformat": 4,
 "nbformat_minor": 5
}
