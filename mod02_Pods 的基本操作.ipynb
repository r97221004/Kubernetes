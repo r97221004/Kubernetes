{
 "cells": [
  {
   "cell_type": "markdown",
   "id": "bb0b24ea",
   "metadata": {},
   "source": [
    "# What is Pod"
   ]
  },
  {
   "cell_type": "raw",
   "id": "4fef3bcc",
   "metadata": {},
   "source": [
    "Pod 是 k8s 裏最小的調度單位。"
   ]
  },
  {
   "cell_type": "raw",
   "id": "715eaa60",
   "metadata": {},
   "source": [
    "- A group of one or more application containers and their shared resources like volume.\n",
    "- A pod share the same name spaces like network name spaces (have same IP address.)\n",
    "- Pod is the smallest unit for K8s scheduling"
   ]
  },
  {
   "cell_type": "markdown",
   "id": "5a4e89d2",
   "metadata": {},
   "source": [
    "<img src='./img/pod.png'>"
   ]
  },
  {
   "cell_type": "markdown",
   "id": "8ac25e24",
   "metadata": {},
   "source": [
    "官方網站: https://kubernetes.io/docs/concepts/workloads/pods/"
   ]
  },
  {
   "cell_type": "markdown",
   "id": "da883f5e",
   "metadata": {},
   "source": [
    "# Creating Pods"
   ]
  },
  {
   "cell_type": "markdown",
   "id": "799315d0",
   "metadata": {},
   "source": [
    "### Imperative 的方法: 使用鏡像"
   ]
  },
  {
   "cell_type": "raw",
   "id": "00cd3c03",
   "metadata": {},
   "source": [
    "使用鏡像 nginx 去起一個名字為 nginx 的 pod。"
   ]
  },
  {
   "cell_type": "code",
   "execution_count": null,
   "id": "2634a879",
   "metadata": {},
   "outputs": [],
   "source": [
    "kubectl run nginx --image=nginx "
   ]
  },
  {
   "cell_type": "raw",
   "id": "7222e241",
   "metadata": {},
   "source": [
    "運行一個命令，kubectl run <podName> --image=<imageName> --command -- bin/sh -c \"sleep 100000\""
   ]
  },
  {
   "cell_type": "code",
   "execution_count": null,
   "id": "d782a0ea",
   "metadata": {},
   "outputs": [],
   "source": [
    "kubectl run client --image=busybox --command -- bin/sh -c 'sleep 100000'"
   ]
  },
  {
   "cell_type": "markdown",
   "id": "cbd36948",
   "metadata": {},
   "source": [
    "### Declarative 的方法: 使用 YMAL 檔"
   ]
  },
  {
   "cell_type": "raw",
   "id": "d6e1cfb1",
   "metadata": {},
   "source": [
    "注意 YAML 檔基本有四個 root level，有 - 符號是指 list 型態。 下面的 command 還有其他的寫法，有需要可以再去查詢。"
   ]
  },
  {
   "cell_type": "raw",
   "id": "bab0a98e",
   "metadata": {},
   "source": [
    "nginx_busybox.yml 檔:"
   ]
  },
  {
   "cell_type": "code",
   "execution_count": null,
   "id": "1f1c7954",
   "metadata": {},
   "outputs": [],
   "source": [
    "apiVersion: v1\n",
    "kind: Pod\n",
    "metadata:\n",
    "  name: nginx-busybox\n",
    "spec:\n",
    "  containers:\n",
    "  - name: nginx\n",
    "    image: nginx\n",
    "    ports:\n",
    "    - containerPort: 80\n",
    "  - name: busybox\n",
    "    image: busybox\n",
    "    command: [\"/bin/sh\"]\n",
    "    args: [\"-c\", \"while true; do echo hello; sleep 10;done\"]"
   ]
  },
  {
   "cell_type": "raw",
   "id": "8f6bbe9a",
   "metadata": {},
   "source": [
    "啟動可以用 kubectl create 或者 kubectl apply(推薦):"
   ]
  },
  {
   "cell_type": "code",
   "execution_count": null,
   "id": "64a555a1",
   "metadata": {},
   "outputs": [],
   "source": [
    "kubectl apply -f nginx_busybox.yml"
   ]
  },
  {
   "cell_type": "markdown",
   "id": "8bea2b82",
   "metadata": {},
   "source": [
    "### 簡單的查詢 Pod 的 YAML 語法"
   ]
  },
  {
   "cell_type": "raw",
   "id": "b367d859",
   "metadata": {},
   "source": [
    "查文档 kubernetes.io。"
   ]
  },
  {
   "cell_type": "code",
   "execution_count": null,
   "id": "61018981",
   "metadata": {},
   "outputs": [],
   "source": [
    "kubectl explain pods | more"
   ]
  },
  {
   "cell_type": "code",
   "execution_count": null,
   "id": "bb63d53a",
   "metadata": {},
   "outputs": [],
   "source": [
    "kubectl explain pod.spec | more"
   ]
  },
  {
   "cell_type": "code",
   "execution_count": null,
   "id": "38a714a0",
   "metadata": {},
   "outputs": [],
   "source": [
    "kubectl explain pod.spec.containers | more"
   ]
  },
  {
   "cell_type": "markdown",
   "id": "456eefb9",
   "metadata": {},
   "source": [
    "### kubectl 的 長選項 --dry-run"
   ]
  },
  {
   "cell_type": "markdown",
   "id": "532c3cf2",
   "metadata": {},
   "source": [
    "##### Server-side"
   ]
  },
  {
   "cell_type": "raw",
   "id": "5b12c147",
   "metadata": {},
   "source": [
    "和正常情況一樣處理客戶端發送過來的請求，但是並不會把 Object 狀態持久化存儲到 storage 中。"
   ]
  },
  {
   "cell_type": "code",
   "execution_count": null,
   "id": "e1f87cb8",
   "metadata": {},
   "outputs": [],
   "source": [
    "kubectl apply -f nginx_busybox.yml --dry-run=server"
   ]
  },
  {
   "cell_type": "markdown",
   "id": "a8095d6e",
   "metadata": {},
   "source": [
    "##### Client-side"
   ]
  },
  {
   "cell_type": "raw",
   "id": "984090ae",
   "metadata": {},
   "source": [
    "- 把要操作的 Object 通過標準輸出 stdout 輸出到 terminal\n",
    "- 驗證 manifest 的語法\n",
    "- 可以用於生成語法正確的 Yaml manifest"
   ]
  },
  {
   "cell_type": "code",
   "execution_count": null,
   "id": "aaee527b",
   "metadata": {},
   "outputs": [],
   "source": [
    "kubectl apply -f nginx.yml --dry-run=client\n",
    "kubectl run web --image=nginx --dry-run=client -o yaml\n",
    "kubectl run web --image=nginx --dry-run=client -o yaml > nginx.yml"
   ]
  },
  {
   "cell_type": "markdown",
   "id": "f73e89fb",
   "metadata": {},
   "source": [
    "### kubectl diff 的操作"
   ]
  },
  {
   "cell_type": "raw",
   "id": "ba2016d0",
   "metadata": {},
   "source": [
    "顯示當前要部署的 manifest 和集群中運行的有和不同，這樣就知道如果 apply 會發生什麽。"
   ]
  },
  {
   "cell_type": "code",
   "execution_count": null,
   "id": "f358fc0e",
   "metadata": {},
   "outputs": [],
   "source": [
    "kubectl diff -f nginx_busybox.yml"
   ]
  },
  {
   "cell_type": "markdown",
   "id": "42e4cf84",
   "metadata": {},
   "source": [
    "# Describing Pods"
   ]
  },
  {
   "cell_type": "markdown",
   "id": "d4cbe81c",
   "metadata": {},
   "source": [
    "### 獲取 pod 列表"
   ]
  },
  {
   "cell_type": "raw",
   "id": "46982fa6",
   "metadata": {},
   "source": [
    "簡單的觀察一下 pods 的狀態。"
   ]
  },
  {
   "cell_type": "code",
   "execution_count": null,
   "id": "fc86e211",
   "metadata": {},
   "outputs": [],
   "source": [
    "kubectl get pods"
   ]
  },
  {
   "cell_type": "raw",
   "id": "a4bf4e78",
   "metadata": {},
   "source": [
    "稍微多點資訊的輸出。"
   ]
  },
  {
   "cell_type": "code",
   "execution_count": null,
   "id": "432ad64e",
   "metadata": {},
   "outputs": [],
   "source": [
    "kubectl get pod nginx-busybox -o wide"
   ]
  },
  {
   "cell_type": "raw",
   "id": "e9ba19a3",
   "metadata": {},
   "source": [
    "把 pod 的資訊轉成 json 檔，還有其他資料結構可以選擇，例如 -o yaml。"
   ]
  },
  {
   "cell_type": "code",
   "execution_count": null,
   "id": "9d693a15",
   "metadata": {},
   "outputs": [],
   "source": [
    "kubectl get pod nginx-busybox -o json"
   ]
  },
  {
   "cell_type": "markdown",
   "id": "4d761186",
   "metadata": {},
   "source": [
    "### 獲取 pod 的詳細訊息"
   ]
  },
  {
   "cell_type": "raw",
   "id": "52c5cc07",
   "metadata": {},
   "source": [
    "完整的 pod 資訊。"
   ]
  },
  {
   "cell_type": "code",
   "execution_count": null,
   "id": "cd8655db",
   "metadata": {},
   "outputs": [],
   "source": [
    "kubectl describe pod nginx-busybox"
   ]
  },
  {
   "cell_type": "markdown",
   "id": "ec4a359c",
   "metadata": {},
   "source": [
    "### API level 的 log"
   ]
  },
  {
   "cell_type": "raw",
   "id": "70e7e5d0",
   "metadata": {},
   "source": [
    "通過 -v 可以獲取到每一個 kubectl 命令在 API level 的 log，例如: 獲取 kubectl 操作更詳細的 log, API level（ 通過 -v 指定）"
   ]
  },
  {
   "cell_type": "code",
   "execution_count": null,
   "id": "816a0b9d",
   "metadata": {},
   "outputs": [],
   "source": [
    "kubectl get pod <pod-name> -v 6   # 或者 7,8,9 不同的 level，數值越大，得到的信息越詳细"
   ]
  },
  {
   "cell_type": "raw",
   "id": "42168f17",
   "metadata": {},
   "source": [
    "觀察上面的指令與下面的指令產生的 url 的差別。"
   ]
  },
  {
   "cell_type": "code",
   "execution_count": null,
   "id": "ced63b7b",
   "metadata": {},
   "outputs": [],
   "source": [
    "kubectl get pod <pod-name> -A -v 6 "
   ]
  },
  {
   "cell_type": "raw",
   "id": "f6e7739e",
   "metadata": {},
   "source": [
    "長指令 --watch 可持續監聽 kubectl 的 API level 操作。"
   ]
  },
  {
   "cell_type": "code",
   "execution_count": null,
   "id": "09e7e6a9",
   "metadata": {},
   "outputs": [],
   "source": [
    "kubectl get pods <pod-name> --watch -v 6"
   ]
  },
  {
   "cell_type": "markdown",
   "id": "dae84ede",
   "metadata": {},
   "source": [
    "---"
   ]
  },
  {
   "cell_type": "raw",
   "id": "7f54b2fa",
   "metadata": {},
   "source": [
    "使用長選項 --watch 持續監控發生的事件"
   ]
  },
  {
   "cell_type": "code",
   "execution_count": null,
   "id": "feeb8472",
   "metadata": {},
   "outputs": [],
   "source": [
    "kubectl get events --watch"
   ]
  },
  {
   "cell_type": "markdown",
   "id": "c05901fa",
   "metadata": {},
   "source": [
    "### kubectl proxy 的使用"
   ]
  },
  {
   "cell_type": "raw",
   "id": "a4ce69d2",
   "metadata": {},
   "source": [
    "由下面的操作我們可以得到資訊的 api url，例如: https://192.168.49.2:8443/api/v1/namespaces/default/pods?limit=500。"
   ]
  },
  {
   "cell_type": "code",
   "execution_count": null,
   "id": "69d29db8",
   "metadata": {},
   "outputs": [],
   "source": [
    "kubectl get pods -v 6"
   ]
  },
  {
   "cell_type": "raw",
   "id": "3fcc6846",
   "metadata": {},
   "source": [
    "照理我們可以直接拜訪這個 api ，且得到相同的結果。但發現會有認證的問題。"
   ]
  },
  {
   "cell_type": "code",
   "execution_count": null,
   "id": "a6dbc181",
   "metadata": {},
   "outputs": [],
   "source": [
    "curl https://192.168.49.2:8443/api/v1/namespaces/default/pods?limit=500 --insecure"
   ]
  },
  {
   "cell_type": "raw",
   "id": "94fb54ee",
   "metadata": {},
   "source": [
    "使用 kubectl proxy 命令就可以解決這個問題。proxy 會幫我們轉發，且解決認證的問題。注意這在前台執行。"
   ]
  },
  {
   "cell_type": "code",
   "execution_count": null,
   "id": "21f27663",
   "metadata": {},
   "outputs": [],
   "source": [
    "kubectl proxy"
   ]
  },
  {
   "cell_type": "raw",
   "id": "9490556f",
   "metadata": {},
   "source": [
    "加入 & 會在後臺執行。"
   ]
  },
  {
   "cell_type": "code",
   "execution_count": null,
   "id": "e1eddd93",
   "metadata": {},
   "outputs": [],
   "source": [
    "kubectl proxy &"
   ]
  },
  {
   "cell_type": "raw",
   "id": "fac897fc",
   "metadata": {},
   "source": [
    "現在就可以由拜訪下面的 url 得到相同的資訊，注意要把 https 改成 http。"
   ]
  },
  {
   "cell_type": "code",
   "execution_count": null,
   "id": "ad812df3",
   "metadata": {},
   "outputs": [],
   "source": [
    "curl http://127.0.0.1:8001/api/v1/namespaces/default/pods?limit=500"
   ]
  },
  {
   "cell_type": "raw",
   "id": "daef2910",
   "metadata": {},
   "source": [
    "使用 fg 指令，又可以把後台執行轉成前台執行。再使用 ctrl + C 就可以把它殺掉。"
   ]
  },
  {
   "cell_type": "code",
   "execution_count": null,
   "id": "5a78b64f",
   "metadata": {},
   "outputs": [],
   "source": [
    "fg"
   ]
  },
  {
   "cell_type": "markdown",
   "id": "a4c99079",
   "metadata": {},
   "source": [
    "# Geting into pods"
   ]
  },
  {
   "cell_type": "raw",
   "id": "66aff1a2",
   "metadata": {},
   "source": [
    "進入 pod 的容器內部，預設是進入第一個容器，在容器內執行 date 指令。如果不知道 pod 的第一個與第二個容器是誰也忘了容器名稱，可以使用\n",
    "kubectl describe 找到資訊。"
   ]
  },
  {
   "cell_type": "code",
   "execution_count": null,
   "id": "620ac2d5",
   "metadata": {},
   "outputs": [],
   "source": [
    "kubectl exec nginx-busybox -- date"
   ]
  },
  {
   "cell_type": "raw",
   "id": "d26f92eb",
   "metadata": {},
   "source": [
    "指定要進入的容器內部與執行的指令。-c 的 c 是 containers 的意思， 想看更多的資訊請輸入 kubectl exec --help。"
   ]
  },
  {
   "cell_type": "code",
   "execution_count": null,
   "id": "008b2bf5",
   "metadata": {},
   "outputs": [],
   "source": [
    "kubectl exec nginx-busybox -c busybox -- date"
   ]
  },
  {
   "cell_type": "raw",
   "id": "c59f398f",
   "metadata": {},
   "source": [
    "進入 busybox 容器的 shell。"
   ]
  },
  {
   "cell_type": "code",
   "execution_count": null,
   "id": "3f93adaf",
   "metadata": {},
   "outputs": [],
   "source": [
    "kubectl exec -it nginx-busybox -c busybox -- sh "
   ]
  },
  {
   "cell_type": "raw",
   "id": "635b8d8a",
   "metadata": {},
   "source": [
    "在容器內查詢容器的 IP 地址。"
   ]
  },
  {
   "cell_type": "code",
   "execution_count": null,
   "id": "22d73933",
   "metadata": {},
   "outputs": [],
   "source": [
    "$ ip addr"
   ]
  },
  {
   "cell_type": "raw",
   "id": "12248a7c",
   "metadata": {},
   "source": [
    "注意在同一個 pod 裡面共用同一個 IP 地址，也就是說我們可以藉由以下的指令就能訪問到 nginx 的首頁。"
   ]
  },
  {
   "cell_type": "code",
   "execution_count": null,
   "id": "eaf35906",
   "metadata": {},
   "outputs": [],
   "source": [
    "$ wget 127.0.0.1:80\n",
    "$ more index.html"
   ]
  },
  {
   "cell_type": "markdown",
   "id": "59359054",
   "metadata": {},
   "source": [
    "# Updating pods"
   ]
  },
  {
   "cell_type": "markdown",
   "id": "7f91b041",
   "metadata": {},
   "source": [
    "### 已經有 yaml 文件"
   ]
  },
  {
   "cell_type": "raw",
   "id": "5517b65c",
   "metadata": {},
   "source": [
    "nginx_busybox.yml 檔:"
   ]
  },
  {
   "cell_type": "code",
   "execution_count": null,
   "id": "194e30a4",
   "metadata": {},
   "outputs": [],
   "source": [
    "apiVersion: v1\n",
    "kind: Pod\n",
    "metadata:\n",
    "  name: nginx-busybox\n",
    "spec:\n",
    "  containers:\n",
    "  - name: nginx\n",
    "    image: nginx\n",
    "    ports:\n",
    "    - containerPort: 80\n",
    "  - name: busybox\n",
    "    image: busybox\n",
    "    command: [\"/bin/sh\"]\n",
    "    args: [\"-c\", \"while true; do echo hello; sleep 10;done\"]"
   ]
  },
  {
   "cell_type": "raw",
   "id": "f43044c6",
   "metadata": {},
   "source": [
    "我們先啟動這個 pod。看看有沒有成功。"
   ]
  },
  {
   "cell_type": "code",
   "execution_count": null,
   "id": "35d826ec",
   "metadata": {},
   "outputs": [],
   "source": [
    "kubectl create -f nginx_busybox.yml\n",
    "kubectl get pods"
   ]
  },
  {
   "cell_type": "raw",
   "id": "99a9128a",
   "metadata": {},
   "source": [
    "比如我們要修改 nginx 的版本，我們可以直接修改這個 yaml 檔。像這裡我們改成 image:1.22.0"
   ]
  },
  {
   "cell_type": "code",
   "execution_count": null,
   "id": "36e339f1",
   "metadata": {},
   "outputs": [],
   "source": [
    "apiVersion: v1\n",
    "kind: Pod\n",
    "metadata:\n",
    "  name: nginx-busybox\n",
    "spec:\n",
    "  containers:\n",
    "  - name: nginx\n",
    "    image: nginx:1.22.0\n",
    "    ports:\n",
    "    - containerPort: 80\n",
    "  - name: busybox\n",
    "    image: busybox\n",
    "    command: [\"/bin/sh\"]\n",
    "    args: [\"-c\", \"while true; do echo hello; sleep 10;done\"]"
   ]
  },
  {
   "cell_type": "raw",
   "id": "62592bee",
   "metadata": {},
   "source": [
    "改完之後用 apply 命令更新。"
   ]
  },
  {
   "cell_type": "code",
   "execution_count": null,
   "id": "7208a8bf",
   "metadata": {},
   "outputs": [],
   "source": [
    "kubectl apply -f nginx_busybox.ymlclea"
   ]
  },
  {
   "cell_type": "markdown",
   "id": "9d590281",
   "metadata": {},
   "source": [
    "### 沒有 yaml 文件: 產生一個"
   ]
  },
  {
   "cell_type": "raw",
   "id": "1320012e",
   "metadata": {},
   "source": [
    "假設我們現在啟動一個 pod。"
   ]
  },
  {
   "cell_type": "code",
   "execution_count": null,
   "id": "1ff9e0fe",
   "metadata": {},
   "outputs": [],
   "source": [
    "kubectl run nginx --image nginx"
   ]
  },
  {
   "cell_type": "raw",
   "id": "baa112a6",
   "metadata": {},
   "source": [
    "我們沒有這個 pod 的 yaml 檔，我們可以用一下指令產生一個。"
   ]
  },
  {
   "cell_type": "code",
   "execution_count": null,
   "id": "824cefba",
   "metadata": {},
   "outputs": [],
   "source": [
    "kubectl get pod nginx -o yaml > nginx.yml"
   ]
  },
  {
   "cell_type": "raw",
   "id": "7228f9fe",
   "metadata": {},
   "source": [
    "這樣情況就跟上面一樣了，可以依照上面處理。"
   ]
  },
  {
   "cell_type": "markdown",
   "id": "177358cd",
   "metadata": {},
   "source": [
    "### 沒有 yaml 文件: 使用 edit 命令"
   ]
  },
  {
   "cell_type": "raw",
   "id": "c66d1381",
   "metadata": {},
   "source": [
    "也可以使用 edit 命令進入 yaml 文件進行編輯。"
   ]
  },
  {
   "cell_type": "code",
   "execution_count": null,
   "id": "0e9eb4cd",
   "metadata": {},
   "outputs": [],
   "source": [
    "kubectl edit pod nginx "
   ]
  },
  {
   "cell_type": "markdown",
   "id": "18d19330",
   "metadata": {},
   "source": [
    "# Deleting  pods"
   ]
  },
  {
   "cell_type": "raw",
   "id": "bdc405f3",
   "metadata": {},
   "source": [
    "刪除剛剛建的 pod，nginx 是 pod 的名字。"
   ]
  },
  {
   "cell_type": "code",
   "execution_count": null,
   "id": "95a4ba2b",
   "metadata": {},
   "outputs": [],
   "source": [
    "kubectl delete pod nginx"
   ]
  },
  {
   "cell_type": "raw",
   "id": "b82564c3",
   "metadata": {},
   "source": [
    "另外一種刪除方式。"
   ]
  },
  {
   "cell_type": "code",
   "execution_count": null,
   "id": "9c54edf2",
   "metadata": {},
   "outputs": [],
   "source": [
    "kubectl delete -f nginx_busybox.yml"
   ]
  },
  {
   "cell_type": "markdown",
   "id": "630d9643",
   "metadata": {},
   "source": [
    "# Static Pod"
   ]
  },
  {
   "cell_type": "markdown",
   "id": "957af853",
   "metadata": {},
   "source": [
    "### 什麼是 Static Pods"
   ]
  },
  {
   "cell_type": "raw",
   "id": "21afbe86",
   "metadata": {},
   "source": [
    "- Managed by the kubelet on Node\n",
    "- Static Pod manifests, staticPodPath in kubelet’s configuration, by default is /etc/kubernetes/manifests\n",
    "- kubelet configuration file: /var/lib/kubelet/config.yaml\n",
    "- pod can be ‘seen’ through API server, but can not be managed by API server"
   ]
  },
  {
   "cell_type": "markdown",
   "id": "334d8d48",
   "metadata": {},
   "source": [
    "### 怎麼知道那些是 Static Pods"
   ]
  },
  {
   "cell_type": "markdown",
   "id": "5b3cefaa",
   "metadata": {},
   "source": [
    "##### 方法一"
   ]
  },
  {
   "cell_type": "raw",
   "id": "3b41b3d3",
   "metadata": {},
   "source": [
    "先看一下全部的 pods。"
   ]
  },
  {
   "cell_type": "code",
   "execution_count": null,
   "id": "2fed949a",
   "metadata": {},
   "outputs": [],
   "source": [
    "kubectl get pods -A"
   ]
  },
  {
   "cell_type": "raw",
   "id": "84279cfc",
   "metadata": {},
   "source": [
    "想知道 etcd-minikube 是不是 static pod，可以輸入以下的 describe 指令。 看一下 Controlled By 這個 key， 如果結果\n",
    "是 Node/minikube 表示是 static pod。"
   ]
  },
  {
   "cell_type": "code",
   "execution_count": null,
   "id": "92f3d0a5",
   "metadata": {},
   "outputs": [],
   "source": [
    "kubectl describe pod --namespace=kube-system etcd-minikube"
   ]
  },
  {
   "cell_type": "code",
   "execution_count": null,
   "id": "dec2d323",
   "metadata": {},
   "outputs": [],
   "source": []
  },
  {
   "cell_type": "code",
   "execution_count": null,
   "id": "53762810",
   "metadata": {},
   "outputs": [],
   "source": [
    "kubectl describe pod --namespace=kube-system storage-provisioner"
   ]
  },
  {
   "cell_type": "markdown",
   "id": "2dfc005e",
   "metadata": {},
   "source": [
    "##### 方法二"
   ]
  },
  {
   "cell_type": "code",
   "execution_count": null,
   "id": "df482b24",
   "metadata": {},
   "outputs": [],
   "source": []
  }
 ],
 "metadata": {
  "kernelspec": {
   "display_name": "Python 3",
   "language": "python",
   "name": "python3"
  },
  "language_info": {
   "codemirror_mode": {
    "name": "ipython",
    "version": 3
   },
   "file_extension": ".py",
   "mimetype": "text/x-python",
   "name": "python",
   "nbconvert_exporter": "python",
   "pygments_lexer": "ipython3",
   "version": "3.8.10"
  }
 },
 "nbformat": 4,
 "nbformat_minor": 5
}
