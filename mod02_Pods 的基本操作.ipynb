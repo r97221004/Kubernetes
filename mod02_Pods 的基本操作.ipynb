{
 "cells": [
  {
   "cell_type": "markdown",
   "id": "29203e69",
   "metadata": {},
   "source": [
    "# API Server and API Object"
   ]
  },
  {
   "cell_type": "code",
   "execution_count": null,
   "id": "4685ec0e",
   "metadata": {},
   "outputs": [],
   "source": [
    "待補"
   ]
  },
  {
   "cell_type": "markdown",
   "id": "bb0b24ea",
   "metadata": {},
   "source": [
    "# What is Pod"
   ]
  },
  {
   "cell_type": "raw",
   "id": "4fef3bcc",
   "metadata": {},
   "source": [
    "Pod 是 k8s 裏最小的調度單位。"
   ]
  },
  {
   "cell_type": "raw",
   "id": "715eaa60",
   "metadata": {},
   "source": [
    "- A group of one or more application containers and their shared resources like volume.\n",
    "- A pod share the same name spaces like network name spaces (have same IP address.)\n",
    "- Pod is the smallest unit for K8s scheduling."
   ]
  },
  {
   "cell_type": "markdown",
   "id": "5a4e89d2",
   "metadata": {},
   "source": [
    "<img src='./img/pod.png'>"
   ]
  },
  {
   "cell_type": "markdown",
   "id": "8ac25e24",
   "metadata": {},
   "source": [
    "官方網站: https://kubernetes.io/docs/concepts/workloads/pods/"
   ]
  },
  {
   "cell_type": "markdown",
   "id": "da883f5e",
   "metadata": {},
   "source": [
    "# Creating Pods"
   ]
  },
  {
   "cell_type": "markdown",
   "id": "799315d0",
   "metadata": {},
   "source": [
    "### Imperative 的方法: 使用鏡像"
   ]
  },
  {
   "cell_type": "raw",
   "id": "00cd3c03",
   "metadata": {},
   "source": [
    "使用鏡像 nginx 去起一個名字為 nginx 的 pod。"
   ]
  },
  {
   "cell_type": "code",
   "execution_count": null,
   "id": "2634a879",
   "metadata": {},
   "outputs": [],
   "source": [
    "kubectl run nginx --image=nginx "
   ]
  },
  {
   "cell_type": "raw",
   "id": "7222e241",
   "metadata": {},
   "source": [
    "在運行 busybox 這個鏡像時，如果不使用 command 讓它 sleep，它執行完就會退出。\n",
    "運行一個命令，kubectl run <podName> --image=<imageName> --command -- bin/sh -c \"sleep 100000\""
   ]
  },
  {
   "cell_type": "code",
   "execution_count": null,
   "id": "d782a0ea",
   "metadata": {},
   "outputs": [],
   "source": [
    "kubectl run client --image=busybox --command -- bin/sh -c 'sleep 100000'"
   ]
  },
  {
   "cell_type": "markdown",
   "id": "cbd36948",
   "metadata": {},
   "source": [
    "### Declarative 的方法: 使用 YMAL 檔"
   ]
  },
  {
   "cell_type": "raw",
   "id": "d6e1cfb1",
   "metadata": {},
   "source": [
    "注意 YAML 檔基本有四個 root level，有 - 符號是指 list 型態。 下面的 command 還有其他的寫法，有需要可以再去查詢。"
   ]
  },
  {
   "cell_type": "raw",
   "id": "bab0a98e",
   "metadata": {},
   "source": [
    "nginx_busybox.yml 檔:"
   ]
  },
  {
   "cell_type": "code",
   "execution_count": null,
   "id": "1f1c7954",
   "metadata": {},
   "outputs": [],
   "source": [
    "apiVersion: v1\n",
    "kind: Pod\n",
    "metadata:\n",
    "  name: nginx-busybox\n",
    "spec:\n",
    "  containers:\n",
    "  - name: nginx\n",
    "    image: nginx\n",
    "    ports:\n",
    "    - containerPort: 80\n",
    "  - name: busybox\n",
    "    image: busybox\n",
    "    command: [\"/bin/sh\"]\n",
    "    args: [\"-c\", \"while true; do echo hello; sleep 10;done\"]"
   ]
  },
  {
   "cell_type": "raw",
   "id": "8f6bbe9a",
   "metadata": {},
   "source": [
    "啟動可以用 kubectl create 或者 kubectl apply(推薦):"
   ]
  },
  {
   "cell_type": "code",
   "execution_count": null,
   "id": "64a555a1",
   "metadata": {},
   "outputs": [],
   "source": [
    "kubectl apply -f nginx_busybox.yml"
   ]
  },
  {
   "cell_type": "markdown",
   "id": "8bea2b82",
   "metadata": {},
   "source": [
    "### 簡單的查詢 Pod 的 YAML 語法"
   ]
  },
  {
   "cell_type": "raw",
   "id": "b367d859",
   "metadata": {},
   "source": [
    "可以利用關鍵字 explain 簡單了解 pod 的 yaml 語法。要得到更多訊息可以查看官方文檔 kubernetes.io。"
   ]
  },
  {
   "cell_type": "code",
   "execution_count": null,
   "id": "61018981",
   "metadata": {},
   "outputs": [],
   "source": [
    "kubectl explain pods"
   ]
  },
  {
   "cell_type": "code",
   "execution_count": null,
   "id": "bb63d53a",
   "metadata": {},
   "outputs": [],
   "source": [
    "kubectl explain pod.spec | more"
   ]
  },
  {
   "cell_type": "code",
   "execution_count": null,
   "id": "38a714a0",
   "metadata": {},
   "outputs": [],
   "source": [
    "kubectl explain pod.spec.containers | more"
   ]
  },
  {
   "cell_type": "markdown",
   "id": "456eefb9",
   "metadata": {},
   "source": [
    "### kubectl 的 長選項 --dry-run"
   ]
  },
  {
   "cell_type": "markdown",
   "id": "532c3cf2",
   "metadata": {},
   "source": [
    "##### Server-side"
   ]
  },
  {
   "cell_type": "raw",
   "id": "5b12c147",
   "metadata": {},
   "source": [
    "和正常情況一樣處理客戶端發送過來的請求，但是並不會把 Object 狀態持久化存儲到 storage 中。"
   ]
  },
  {
   "cell_type": "code",
   "execution_count": null,
   "id": "e1f87cb8",
   "metadata": {},
   "outputs": [],
   "source": [
    "kubectl apply -f nginx_busybox.yml --dry-run=server"
   ]
  },
  {
   "cell_type": "markdown",
   "id": "a8095d6e",
   "metadata": {},
   "source": [
    "##### Client-side"
   ]
  },
  {
   "cell_type": "raw",
   "id": "984090ae",
   "metadata": {},
   "source": [
    "- 把要操作的 Object 通過標準輸出 stdout 輸出到 terminal\n",
    "- 驗證 manifest 的語法\n",
    "- 可以用於生成語法正確的 Yaml manifest"
   ]
  },
  {
   "cell_type": "code",
   "execution_count": null,
   "id": "aaee527b",
   "metadata": {},
   "outputs": [],
   "source": [
    "kubectl apply -f nginx.yml --dry-run=client\n",
    "kubectl run web --image=nginx --dry-run=client -o yaml\n",
    "kubectl run web --image=nginx --dry-run=client -o yaml > nginx.yml"
   ]
  },
  {
   "cell_type": "markdown",
   "id": "f73e89fb",
   "metadata": {},
   "source": [
    "### kubectl diff 的操作"
   ]
  },
  {
   "cell_type": "raw",
   "id": "ba2016d0",
   "metadata": {},
   "source": [
    "顯示當前要部署的 manifest 和集群中運行的有和不同，這樣就知道如果 apply 會發生什麽。"
   ]
  },
  {
   "cell_type": "code",
   "execution_count": null,
   "id": "f358fc0e",
   "metadata": {},
   "outputs": [],
   "source": [
    "kubectl diff -f nginx_busybox.yml"
   ]
  },
  {
   "cell_type": "markdown",
   "id": "9e36a989",
   "metadata": {},
   "source": [
    "<img src='./img/21.png'>"
   ]
  },
  {
   "cell_type": "markdown",
   "id": "42e4cf84",
   "metadata": {},
   "source": [
    "# Describing Pods"
   ]
  },
  {
   "cell_type": "markdown",
   "id": "d4cbe81c",
   "metadata": {},
   "source": [
    "### 獲取 pod 列表"
   ]
  },
  {
   "cell_type": "raw",
   "id": "46982fa6",
   "metadata": {},
   "source": [
    "簡單的觀察一下 pods 的狀態。"
   ]
  },
  {
   "cell_type": "code",
   "execution_count": null,
   "id": "fc86e211",
   "metadata": {},
   "outputs": [],
   "source": [
    "kubectl get pods"
   ]
  },
  {
   "cell_type": "raw",
   "id": "a4bf4e78",
   "metadata": {},
   "source": [
    "稍微多點資訊的輸出。"
   ]
  },
  {
   "cell_type": "code",
   "execution_count": null,
   "id": "432ad64e",
   "metadata": {},
   "outputs": [],
   "source": [
    "kubectl get pod nginx-busybox -o wide"
   ]
  },
  {
   "cell_type": "raw",
   "id": "e9ba19a3",
   "metadata": {},
   "source": [
    "把 pod 的資訊轉成 json 檔，還有其他資料結構可以選擇，例如 -o yaml。"
   ]
  },
  {
   "cell_type": "code",
   "execution_count": null,
   "id": "9d693a15",
   "metadata": {},
   "outputs": [],
   "source": [
    "kubectl get pod nginx-busybox -o json"
   ]
  },
  {
   "cell_type": "markdown",
   "id": "4d761186",
   "metadata": {},
   "source": [
    "### 獲取 pod 的詳細訊息"
   ]
  },
  {
   "cell_type": "raw",
   "id": "52c5cc07",
   "metadata": {},
   "source": [
    "完整的 pod 資訊。"
   ]
  },
  {
   "cell_type": "code",
   "execution_count": null,
   "id": "cd8655db",
   "metadata": {},
   "outputs": [],
   "source": [
    "kubectl describe pod nginx-busybox"
   ]
  },
  {
   "cell_type": "markdown",
   "id": "ec4a359c",
   "metadata": {},
   "source": [
    "### API level 的 log"
   ]
  },
  {
   "cell_type": "raw",
   "id": "70e7e5d0",
   "metadata": {},
   "source": [
    "通過 -v 可以獲取到每一個 kubectl 命令在 API level 的 log，例如: 獲取 kubectl 操作更詳細的 log, API level（ 通過 -v 指定）"
   ]
  },
  {
   "cell_type": "code",
   "execution_count": null,
   "id": "816a0b9d",
   "metadata": {},
   "outputs": [],
   "source": [
    "kubectl get pod <pod-name> -v 6   # 或者 7,8,9 不同的 level，數值越大，得到的信息越詳细"
   ]
  },
  {
   "cell_type": "markdown",
   "id": "eac19610",
   "metadata": {},
   "source": [
    "  <img src='./img/1.png'>"
   ]
  },
  {
   "cell_type": "raw",
   "id": "42168f17",
   "metadata": {},
   "source": [
    "觀察上面的指令與下面的指令產生的 url 的差別。短選項 -A 會把所有 namespaces 的 pods 顯示出來。\n",
    "所以/namespaces/default 就消失了。"
   ]
  },
  {
   "cell_type": "code",
   "execution_count": null,
   "id": "ced63b7b",
   "metadata": {},
   "outputs": [],
   "source": [
    "kubectl get pods -A -v 6 "
   ]
  },
  {
   "cell_type": "markdown",
   "id": "63765818",
   "metadata": {},
   "source": [
    "<img src='./img/2.png'>"
   ]
  },
  {
   "cell_type": "raw",
   "id": "f6e7739e",
   "metadata": {},
   "source": [
    "長指令 --watch 可持續監聽 kubectl 的 API level 操作。再加上 & 可以在後臺執行。"
   ]
  },
  {
   "cell_type": "code",
   "execution_count": null,
   "id": "09e7e6a9",
   "metadata": {},
   "outputs": [],
   "source": [
    "kubectl get pods <pod-name> --watch -v 6"
   ]
  },
  {
   "cell_type": "markdown",
   "id": "dae84ede",
   "metadata": {},
   "source": [
    "---"
   ]
  },
  {
   "cell_type": "raw",
   "id": "7f54b2fa",
   "metadata": {},
   "source": [
    "使用長選項 --watch 持續監控發生的事件。"
   ]
  },
  {
   "cell_type": "code",
   "execution_count": null,
   "id": "feeb8472",
   "metadata": {},
   "outputs": [],
   "source": [
    "kubectl get events --watch"
   ]
  },
  {
   "cell_type": "markdown",
   "id": "c05901fa",
   "metadata": {},
   "source": [
    "### kubectl proxy 的使用"
   ]
  },
  {
   "cell_type": "raw",
   "id": "a4ce69d2",
   "metadata": {},
   "source": [
    "由下面的操作我們可以得到資訊的 api url，例如: https://192.168.49.2:8443/api/v1/namespaces/default/pods?limit=500。"
   ]
  },
  {
   "cell_type": "code",
   "execution_count": null,
   "id": "69d29db8",
   "metadata": {},
   "outputs": [],
   "source": [
    "kubectl get pods -v 6"
   ]
  },
  {
   "cell_type": "raw",
   "id": "3fcc6846",
   "metadata": {},
   "source": [
    "照理我們可以直接拜訪這個 api ，且得到相同的結果。但發現會有認證的問題。"
   ]
  },
  {
   "cell_type": "code",
   "execution_count": null,
   "id": "a6dbc181",
   "metadata": {},
   "outputs": [],
   "source": [
    "curl https://192.168.49.2:8443/api/v1/namespaces/default/pods?limit=500 --insecure"
   ]
  },
  {
   "cell_type": "raw",
   "id": "94fb54ee",
   "metadata": {},
   "source": [
    "使用 kubectl proxy 命令就可以解決這個問題。proxy 會幫我們轉發，且解決認證的問題。注意這在前台執行。"
   ]
  },
  {
   "cell_type": "code",
   "execution_count": null,
   "id": "21f27663",
   "metadata": {},
   "outputs": [],
   "source": [
    "kubectl proxy"
   ]
  },
  {
   "cell_type": "raw",
   "id": "9490556f",
   "metadata": {},
   "source": [
    "加入 & 會在後臺執行。"
   ]
  },
  {
   "cell_type": "code",
   "execution_count": null,
   "id": "e1eddd93",
   "metadata": {},
   "outputs": [],
   "source": [
    "kubectl proxy &"
   ]
  },
  {
   "cell_type": "raw",
   "id": "fac897fc",
   "metadata": {},
   "source": [
    "現在就可以由拜訪下面的 url 得到相同的資訊，注意要把 https 改成 http，且 host 改成 127.0.0.1 port 改成 8001。"
   ]
  },
  {
   "cell_type": "code",
   "execution_count": null,
   "id": "ad812df3",
   "metadata": {},
   "outputs": [],
   "source": [
    "curl http://127.0.0.1:8001/api/v1/namespaces/default/pods?limit=500"
   ]
  },
  {
   "cell_type": "raw",
   "id": "daef2910",
   "metadata": {},
   "source": [
    "使用 fg 指令，又可以把後台執行轉成前台執行。再使用 ctrl + C 就可以把它殺掉。"
   ]
  },
  {
   "cell_type": "code",
   "execution_count": null,
   "id": "5a78b64f",
   "metadata": {},
   "outputs": [],
   "source": [
    "fg"
   ]
  },
  {
   "cell_type": "markdown",
   "id": "a4c99079",
   "metadata": {},
   "source": [
    "# Geting into pods"
   ]
  },
  {
   "cell_type": "raw",
   "id": "66aff1a2",
   "metadata": {},
   "source": [
    "進入 pod 的容器內部，預設是進入第一個容器，在容器內執行 date 指令。如果不知道 pod 的第一個與第二個容器是誰也忘了容器名稱，可以使用\n",
    "kubectl describe 找到資訊。"
   ]
  },
  {
   "cell_type": "code",
   "execution_count": null,
   "id": "620ac2d5",
   "metadata": {},
   "outputs": [],
   "source": [
    "kubectl exec nginx-busybox -- date"
   ]
  },
  {
   "cell_type": "raw",
   "id": "d26f92eb",
   "metadata": {},
   "source": [
    "指定要進入的容器內部與執行的指令。-c 的 c 是 containers 的意思， 想看更多的資訊請輸入 kubectl exec --help。"
   ]
  },
  {
   "cell_type": "code",
   "execution_count": null,
   "id": "008b2bf5",
   "metadata": {},
   "outputs": [],
   "source": [
    "kubectl exec nginx-busybox -c busybox -- date"
   ]
  },
  {
   "cell_type": "code",
   "execution_count": null,
   "id": "fb901191",
   "metadata": {},
   "outputs": [],
   "source": [
    "查看容器 busybox 的域名。"
   ]
  },
  {
   "cell_type": "code",
   "execution_count": null,
   "id": "6bd27cc9",
   "metadata": {},
   "outputs": [],
   "source": [
    "kubectl exec -it nginx-busybox -c busybox -- hostname -f"
   ]
  },
  {
   "cell_type": "raw",
   "id": "c59f398f",
   "metadata": {},
   "source": [
    "進入 busybox 容器的 shell。"
   ]
  },
  {
   "cell_type": "code",
   "execution_count": null,
   "id": "3f93adaf",
   "metadata": {},
   "outputs": [],
   "source": [
    "kubectl exec -it nginx-busybox -c busybox -- sh "
   ]
  },
  {
   "cell_type": "raw",
   "id": "635b8d8a",
   "metadata": {},
   "source": [
    "在容器內查詢容器的 IP 地址。"
   ]
  },
  {
   "cell_type": "code",
   "execution_count": null,
   "id": "22d73933",
   "metadata": {},
   "outputs": [],
   "source": [
    "$ ip addr"
   ]
  },
  {
   "cell_type": "raw",
   "id": "12248a7c",
   "metadata": {},
   "source": [
    "注意在同一個 pod 裡面共用同一個 IP 地址，也就是說我們可以藉由以下的指令就能訪問到 nginx 的首頁。"
   ]
  },
  {
   "cell_type": "code",
   "execution_count": null,
   "id": "eaf35906",
   "metadata": {},
   "outputs": [],
   "source": [
    "$ wget 127.0.0.1:80\n",
    "$ more index.html"
   ]
  },
  {
   "cell_type": "markdown",
   "id": "59359054",
   "metadata": {},
   "source": [
    "# Updating pods"
   ]
  },
  {
   "cell_type": "markdown",
   "id": "7f91b041",
   "metadata": {},
   "source": [
    "### 已經有 yaml 文件"
   ]
  },
  {
   "cell_type": "raw",
   "id": "5517b65c",
   "metadata": {},
   "source": [
    "nginx_busybox.yml 檔:"
   ]
  },
  {
   "cell_type": "code",
   "execution_count": null,
   "id": "194e30a4",
   "metadata": {},
   "outputs": [],
   "source": [
    "apiVersion: v1\n",
    "kind: Pod\n",
    "metadata:\n",
    "  name: nginx-busybox\n",
    "spec:\n",
    "  containers:\n",
    "  - name: nginx\n",
    "    image: nginx\n",
    "    ports:\n",
    "    - containerPort: 80\n",
    "  - name: busybox\n",
    "    image: busybox\n",
    "    command: [\"/bin/sh\"]\n",
    "    args: [\"-c\", \"while true; do echo hello; sleep 10;done\"]"
   ]
  },
  {
   "cell_type": "raw",
   "id": "f43044c6",
   "metadata": {},
   "source": [
    "我們先啟動這個 pod。看看有沒有成功。"
   ]
  },
  {
   "cell_type": "code",
   "execution_count": null,
   "id": "35d826ec",
   "metadata": {},
   "outputs": [],
   "source": [
    "kubectl create -f nginx_busybox.yml\n",
    "kubectl get pods"
   ]
  },
  {
   "cell_type": "raw",
   "id": "99a9128a",
   "metadata": {},
   "source": [
    "比如我們要修改 nginx 的版本，我們可以直接修改這個 yaml 檔。像這裡我們改成 image:1.22.0"
   ]
  },
  {
   "cell_type": "code",
   "execution_count": null,
   "id": "36e339f1",
   "metadata": {},
   "outputs": [],
   "source": [
    "apiVersion: v1\n",
    "kind: Pod\n",
    "metadata:\n",
    "  name: nginx-busybox\n",
    "spec:\n",
    "  containers:\n",
    "  - name: nginx\n",
    "    image: nginx:1.22.0\n",
    "    ports:\n",
    "    - containerPort: 80\n",
    "  - name: busybox\n",
    "    image: busybox\n",
    "    command: [\"/bin/sh\"]\n",
    "    args: [\"-c\", \"while true; do echo hello; sleep 10;done\"]"
   ]
  },
  {
   "cell_type": "raw",
   "id": "62592bee",
   "metadata": {},
   "source": [
    "改完之後用 apply 命令更新。"
   ]
  },
  {
   "cell_type": "code",
   "execution_count": null,
   "id": "7208a8bf",
   "metadata": {},
   "outputs": [],
   "source": [
    "kubectl apply -f nginx_busybox.yml"
   ]
  },
  {
   "cell_type": "markdown",
   "id": "9d590281",
   "metadata": {},
   "source": [
    "### 沒有 yaml 文件: 產生一個"
   ]
  },
  {
   "cell_type": "raw",
   "id": "1320012e",
   "metadata": {},
   "source": [
    "假設我們現在啟動一個 pod。"
   ]
  },
  {
   "cell_type": "code",
   "execution_count": null,
   "id": "1ff9e0fe",
   "metadata": {},
   "outputs": [],
   "source": [
    "kubectl run nginx --image nginx"
   ]
  },
  {
   "cell_type": "raw",
   "id": "baa112a6",
   "metadata": {},
   "source": [
    "我們沒有這個 pod 的 yaml 檔，我們可以用一下指令產生一個。"
   ]
  },
  {
   "cell_type": "code",
   "execution_count": null,
   "id": "824cefba",
   "metadata": {},
   "outputs": [],
   "source": [
    "kubectl get pod nginx -o yaml > nginx.yml"
   ]
  },
  {
   "cell_type": "raw",
   "id": "7228f9fe",
   "metadata": {},
   "source": [
    "這樣情況就跟上面一樣了，可以依照上面處理。"
   ]
  },
  {
   "cell_type": "markdown",
   "id": "177358cd",
   "metadata": {},
   "source": [
    "### 沒有 yaml 文件: 使用 edit 命令"
   ]
  },
  {
   "cell_type": "raw",
   "id": "c66d1381",
   "metadata": {},
   "source": [
    "也可以使用 edit 命令進入 yaml 文件進行編輯。"
   ]
  },
  {
   "cell_type": "code",
   "execution_count": null,
   "id": "0e9eb4cd",
   "metadata": {},
   "outputs": [],
   "source": [
    "kubectl edit pod nginx "
   ]
  },
  {
   "cell_type": "markdown",
   "id": "18d19330",
   "metadata": {},
   "source": [
    "# Deleting  pods"
   ]
  },
  {
   "cell_type": "raw",
   "id": "bdc405f3",
   "metadata": {},
   "source": [
    "刪除剛剛建的 pod，nginx 是 pod 的名字。"
   ]
  },
  {
   "cell_type": "code",
   "execution_count": null,
   "id": "95a4ba2b",
   "metadata": {},
   "outputs": [],
   "source": [
    "kubectl delete pod nginx"
   ]
  },
  {
   "cell_type": "raw",
   "id": "b82564c3",
   "metadata": {},
   "source": [
    "另外一種刪除方式。注意直接刪除 yml 是不會有用的"
   ]
  },
  {
   "cell_type": "code",
   "execution_count": null,
   "id": "9c54edf2",
   "metadata": {},
   "outputs": [],
   "source": [
    "kubectl delete -f nginx_busybox.yml"
   ]
  },
  {
   "cell_type": "markdown",
   "id": "630d9643",
   "metadata": {},
   "source": [
    "# Static Pod"
   ]
  },
  {
   "cell_type": "markdown",
   "id": "957af853",
   "metadata": {},
   "source": [
    "### 什麼是 Static Pods"
   ]
  },
  {
   "cell_type": "raw",
   "id": "21afbe86",
   "metadata": {},
   "source": [
    "- Managed by the kubelet on Node\n",
    "- Static Pod manifests, staticPodPath in kubelet’s configuration, by default is /etc/kubernetes/manifests\n",
    "- kubelet configuration file: /var/lib/kubelet/config.yaml\n",
    "- pod can be ‘seen’ through API server, but can not be managed by API server"
   ]
  },
  {
   "cell_type": "markdown",
   "id": "334d8d48",
   "metadata": {},
   "source": [
    "### 怎麼知道那些是 Static Pods"
   ]
  },
  {
   "cell_type": "markdown",
   "id": "5b3cefaa",
   "metadata": {},
   "source": [
    "##### 方法一: 使用指令 kubectl describe"
   ]
  },
  {
   "cell_type": "raw",
   "id": "3b41b3d3",
   "metadata": {},
   "source": [
    "先看一下全部的 pods，與他們所在的 namespace。"
   ]
  },
  {
   "cell_type": "code",
   "execution_count": null,
   "id": "2fed949a",
   "metadata": {},
   "outputs": [],
   "source": [
    "kubectl get pods -A"
   ]
  },
  {
   "cell_type": "raw",
   "id": "84279cfc",
   "metadata": {},
   "source": [
    "想知道 pod etcd-minikube 是不是 static pod，可以輸入以下的 describe 指令。 看一下 Controlled By 這個 key， 如果結果\n",
    "是 Node/minikube 表示是 static pod。"
   ]
  },
  {
   "cell_type": "code",
   "execution_count": null,
   "id": "92f3d0a5",
   "metadata": {},
   "outputs": [],
   "source": [
    "kubectl describe pod --namespace=kube-system etcd-minikube"
   ]
  },
  {
   "cell_type": "markdown",
   "id": "1666d3a5",
   "metadata": {},
   "source": [
    "<img src='./img/3.PNG'>"
   ]
  },
  {
   "cell_type": "code",
   "execution_count": null,
   "id": "53762810",
   "metadata": {},
   "outputs": [],
   "source": [
    "kubectl describe pod --namespace=kube-system storage-provisioner"
   ]
  },
  {
   "cell_type": "markdown",
   "id": "5eba2ef0",
   "metadata": {},
   "source": [
    "<img src='./img/4.png'>"
   ]
  },
  {
   "cell_type": "raw",
   "id": "93a7885b",
   "metadata": {},
   "source": [
    "上面這個 pod storage-provisioner 就不是 static pod，因為它沒有 Controlled By 這個欄位。"
   ]
  },
  {
   "cell_type": "markdown",
   "id": "2dfc005e",
   "metadata": {},
   "source": [
    "##### 方法二: 去找 static pod 的預設配置文件"
   ]
  },
  {
   "cell_type": "raw",
   "id": "a11ba189",
   "metadata": {},
   "source": [
    "先找 static pod 的配置文件放在哪裡。可用以下的指令查看配置文件的路徑。"
   ]
  },
  {
   "cell_type": "code",
   "execution_count": null,
   "id": "5325d3ca",
   "metadata": {},
   "outputs": [],
   "source": [
    "cat /var/lib/kubelet/config.yaml "
   ]
  },
  {
   "cell_type": "markdown",
   "id": "b7a8cd2c",
   "metadata": {},
   "source": [
    "<img src='./img/5.png'>"
   ]
  },
  {
   "cell_type": "raw",
   "id": "d0e936ef",
   "metadata": {},
   "source": [
    "通過上面的路徑，我們就可以通過查看有哪些 yaml 檔，就可知道有哪些 static pods 了。"
   ]
  },
  {
   "cell_type": "code",
   "execution_count": null,
   "id": "6cae94b3",
   "metadata": {},
   "outputs": [],
   "source": [
    "ls /etc/kubernetes/manifests"
   ]
  },
  {
   "cell_type": "markdown",
   "id": "fd75f725",
   "metadata": {},
   "source": [
    "<img src='./img/6.png'>"
   ]
  },
  {
   "cell_type": "markdown",
   "id": "806db45a",
   "metadata": {},
   "source": [
    "### 創建 static pods"
   ]
  },
  {
   "cell_type": "raw",
   "id": "4833f868",
   "metadata": {},
   "source": [
    "先產生 pod 的 yaml 文件 web.yaml。\n",
    "再把 web.yaml 放在 staticPodPath 底下就可以了。"
   ]
  },
  {
   "cell_type": "code",
   "execution_count": null,
   "id": "63904608",
   "metadata": {},
   "outputs": [],
   "source": [
    "kubectl run web --image=nginx --dry-run=client -o yaml > web.yaml\n",
    "kubectl get pods"
   ]
  },
  {
   "cell_type": "raw",
   "id": "de6b7e81",
   "metadata": {},
   "source": [
    "注意 static pod 用 kubectl delete 是刪除不掉的，要刪除 static pod 的話，要把整個 yaml 刪除才可以。\n",
    "不然 pod 會重新產生。"
   ]
  },
  {
   "cell_type": "markdown",
   "id": "6b295622",
   "metadata": {},
   "source": [
    "### 怎麼知道 k8s 的 config.yaml 文件放哪"
   ]
  },
  {
   "cell_type": "raw",
   "id": "106e8bc3",
   "metadata": {},
   "source": [
    "使用以下指令就可以知道  k8s 的 config.yaml 文件放哪。看長選項 --config 指定到哪個路徑。"
   ]
  },
  {
   "cell_type": "code",
   "execution_count": null,
   "id": "3eeb0083",
   "metadata": {},
   "outputs": [],
   "source": [
    "ps aux | grep kubelet"
   ]
  },
  {
   "cell_type": "markdown",
   "id": "f7506f37",
   "metadata": {},
   "source": [
    "<img src='./img/7.png'>"
   ]
  },
  {
   "cell_type": "markdown",
   "id": "8889d9d4",
   "metadata": {},
   "source": [
    "# Init containers"
   ]
  },
  {
   "cell_type": "markdown",
   "id": "2d94c71b",
   "metadata": {},
   "source": [
    "參考官方文檔: https://kubernetes.io/docs/concepts/workloads/pods/init-containers/"
   ]
  },
  {
   "cell_type": "markdown",
   "id": "4ba3286b",
   "metadata": {},
   "source": [
    "<img src='./img/9.PNG'>"
   ]
  },
  {
   "cell_type": "raw",
   "id": "4a228724",
   "metadata": {},
   "source": [
    "有時候在創建 pods 時，可能是有順序的。比如你會希望資料庫的容器先啟動，再啟動 app 的容器。\n",
    "像這種有順序的啟動容器可以使用 init containers。以下是參考的 yaml 文件。"
   ]
  },
  {
   "cell_type": "raw",
   "id": "f3d4bbb2",
   "metadata": {},
   "source": [
    "init_container.yaml"
   ]
  },
  {
   "cell_type": "code",
   "execution_count": null,
   "id": "650e9c36",
   "metadata": {},
   "outputs": [],
   "source": [
    "apiVersion: v1\n",
    "kind: Pod\n",
    "metadata:\n",
    "  name: pod-with-init-containers\n",
    "spec:\n",
    "  initContainers:\n",
    "  - name: init-service\n",
    "    image: busybox\n",
    "    command: [\"sh\", \"-c\", \"echo waiting for sercice; sleep 2\"]\n",
    "  - name: init-database\n",
    "    image: busybox\n",
    "    command: [\"sh\", \"-c\", \"echo waiting for database; sleep 2\"]\n",
    "  containers:\n",
    "  - name: app-container\n",
    "    image: nginx"
   ]
  },
  {
   "cell_type": "raw",
   "id": "bc815960",
   "metadata": {},
   "source": [
    "執行 yaml 文件。"
   ]
  },
  {
   "cell_type": "code",
   "execution_count": null,
   "id": "228aab3c",
   "metadata": {},
   "outputs": [],
   "source": [
    "kubectl apply -f init_container.yaml"
   ]
  },
  {
   "cell_type": "raw",
   "id": "a27b833e",
   "metadata": {},
   "source": [
    "可用以下指令即時監控 pods 創建的順序。"
   ]
  },
  {
   "cell_type": "code",
   "execution_count": null,
   "id": "b355e808",
   "metadata": {},
   "outputs": [],
   "source": [
    "kubectl get pod --watch"
   ]
  },
  {
   "cell_type": "raw",
   "id": "63212383",
   "metadata": {},
   "source": [
    "或者是用 describe 也可以觀察到。"
   ]
  },
  {
   "cell_type": "code",
   "execution_count": null,
   "id": "23e373c3",
   "metadata": {},
   "outputs": [],
   "source": [
    "kubectl describe pod pod-with-init-containers"
   ]
  },
  {
   "cell_type": "markdown",
   "id": "99b53b66",
   "metadata": {},
   "source": [
    "# Pod Lifecycle"
   ]
  },
  {
   "cell_type": "markdown",
   "id": "4ed730ef",
   "metadata": {},
   "source": [
    "參考官方文檔: https://kubernetes.io/docs/concepts/workloads/pods/pod-lifecycle/"
   ]
  },
  {
   "cell_type": "markdown",
   "id": "934a14ba",
   "metadata": {},
   "source": [
    "### SIGTERM vs SIGKILL: What’s the Difference"
   ]
  },
  {
   "cell_type": "markdown",
   "id": "0bb97409",
   "metadata": {},
   "source": [
    "參考文章: https://linuxhandbook.com/sigterm-vs-sigkill/"
   ]
  },
  {
   "cell_type": "markdown",
   "id": "5a99084d",
   "metadata": {},
   "source": [
    "<img src='./img/10.png'>"
   ]
  },
  {
   "cell_type": "markdown",
   "id": "716ec011",
   "metadata": {},
   "source": [
    "### pod phase"
   ]
  },
  {
   "cell_type": "markdown",
   "id": "a7d2042e",
   "metadata": {},
   "source": [
    "<img src='./img/11.png'>"
   ]
  },
  {
   "cell_type": "markdown",
   "id": "ee3531ad",
   "metadata": {},
   "source": [
    "### Container state"
   ]
  },
  {
   "cell_type": "raw",
   "id": "9906c1cd",
   "metadata": {},
   "source": [
    "- Waiting\n",
    "- Running\n",
    "- Termination\n",
    "    Process is terminated/crashed\n",
    "    Pod is deleted\n",
    "    Node failure or maintenance\n",
    "    Evicted due to lack of resources"
   ]
  },
  {
   "cell_type": "markdown",
   "id": "046756ff",
   "metadata": {},
   "source": [
    "### Stopping/Terminating Pods"
   ]
  },
  {
   "cell_type": "code",
   "execution_count": null,
   "id": "15e7759f",
   "metadata": {},
   "outputs": [],
   "source": [
    "kubectl delete pod podName"
   ]
  },
  {
   "cell_type": "raw",
   "id": "ad4cd27c",
   "metadata": {},
   "source": [
    "當執行刪除的時候，API server 會設置一個 timer（grace period Timer），默認是 30 秒。同時 pod 狀態改成 Terminating。Pod 所在 node 上的 kubelet 收到命令，會給 Pod 裏的 container 發送 SIGTERM 信號，然後等 container 退出。如果 container 在 timer 到時之前退出了，\n",
    "那麼 pod 信息同時會被 API server 從存儲中刪除。如果 container 沒有在 timer 到時之前退出，則 kubelet 會發送 SIGKILL 信息到 pod 裏的容器，強制殺死容器， 最後 API server 更新存儲 etcd。"
   ]
  },
  {
   "cell_type": "raw",
   "id": "dc19efac",
   "metadata": {},
   "source": [
    "grace period timer 是可以修改的。"
   ]
  },
  {
   "cell_type": "code",
   "execution_count": null,
   "id": "d99b06e6",
   "metadata": {},
   "outputs": [],
   "source": [
    "kubectl delete pod <name> --grace-period=<seconds>"
   ]
  },
  {
   "cell_type": "raw",
   "id": "19563a00",
   "metadata": {},
   "source": [
    "或者直接在 yaml 上添加。"
   ]
  },
  {
   "cell_type": "code",
   "execution_count": null,
   "id": "557079d7",
   "metadata": {},
   "outputs": [],
   "source": [
    "apiVersion: v1\n",
    "kind: Pod\n",
    "metadata:\n",
    "  name: web\n",
    "spec:\n",
    "  terminationGracePeriodSeconds: 10\n",
    "  containers:\n",
    "  - image: nginx\n",
    "    name: web"
   ]
  },
  {
   "cell_type": "raw",
   "id": "7b22cdfb",
   "metadata": {},
   "source": [
    "也可以直接就強制刪除 pod（SIGKILL），不建議使用。"
   ]
  },
  {
   "cell_type": "code",
   "execution_count": null,
   "id": "0044cff8",
   "metadata": {},
   "outputs": [],
   "source": [
    "kubectl delete pod podName --grace-period=0 --force"
   ]
  },
  {
   "cell_type": "markdown",
   "id": "6db5cc0f",
   "metadata": {},
   "source": [
    "### Persistency of Pod"
   ]
  },
  {
   "cell_type": "raw",
   "id": "9624fe19",
   "metadata": {},
   "source": [
    "注意 pod 失效之後不會重新啟動，但是 container 可以通過設定讓它自動重啟。"
   ]
  },
  {
   "cell_type": "raw",
   "id": "b953bd3f",
   "metadata": {},
   "source": [
    "Pod 本身不會重新自動部署，如果一個 pod 停止了，它不會重新啟動，只有可能創建一個新的。如果有配置需要持久化怎麼辦？要多善用以下的操作。\n",
    "\n",
    "- Pod Manifests(使用 yaml 文件) \n",
    "- secrets\n",
    "- ConfigMaps\n",
    "- environment variables\n",
    "\n",
    "如果要數據持久，則需要有以下操作，之後會有專門的章節。\n",
    "\n",
    "- PersistentVolume\n",
    "- PersistentVolumeClaim"
   ]
  },
  {
   "cell_type": "markdown",
   "id": "d2285608",
   "metadata": {},
   "source": [
    "### Container Restart Policy"
   ]
  },
  {
   "cell_type": "raw",
   "id": "c8941b49",
   "metadata": {},
   "source": [
    "The spec of a Pod has a restartPolicy field with possible values \n",
    "\n",
    "Always, \n",
    "OnFailure, \n",
    "and Never. The default value is Always."
   ]
  },
  {
   "cell_type": "code",
   "execution_count": null,
   "id": "d9c65382",
   "metadata": {},
   "outputs": [],
   "source": [
    "apiVersion: v1\n",
    "kind: Pod\n",
    "metadata:\n",
    "  creationTimestamp: null\n",
    "  labels:\n",
    "    run: web\n",
    "  name: web\n",
    "spec:\n",
    "  containers:\n",
    "  - image: nginx\n",
    "    name: web\n",
    "    resources: {}\n",
    "  dnsPolicy: ClusterFirst\n",
    "  restartPolicy: Always"
   ]
  },
  {
   "cell_type": "markdown",
   "id": "78c1b79e",
   "metadata": {},
   "source": [
    "### 範例"
   ]
  },
  {
   "cell_type": "raw",
   "id": "bfc488f9",
   "metadata": {},
   "source": [
    "nginx.yaml 檔"
   ]
  },
  {
   "cell_type": "code",
   "execution_count": null,
   "id": "52792de3",
   "metadata": {},
   "outputs": [],
   "source": [
    "apiVersion: v1\n",
    "kind: Pod\n",
    "metadata:\n",
    "  name: busybox\n",
    "spec:\n",
    "  containers:\n",
    "  - name: busybox\n",
    "    image: busybox\n",
    "    command: [\"/bin/sh\"]\n",
    "    args: [\"-c\", \"while true; do echo hello; sleep 10000;done\"]"
   ]
  },
  {
   "cell_type": "raw",
   "id": "0f600bbe",
   "metadata": {},
   "source": [
    "這種情況刪除會等待一段時間，因為我們沒有寫程式去處理收到刪除 signal 後的動作。"
   ]
  },
  {
   "cell_type": "raw",
   "id": "f0f51342",
   "metadata": {},
   "source": [
    "kubectl run -f busybox.yaml \n",
    "kubectl delete pod busybox"
   ]
  }
 ],
 "metadata": {
  "kernelspec": {
   "display_name": "Python 3",
   "language": "python",
   "name": "python3"
  },
  "language_info": {
   "codemirror_mode": {
    "name": "ipython",
    "version": 3
   },
   "file_extension": ".py",
   "mimetype": "text/x-python",
   "name": "python",
   "nbconvert_exporter": "python",
   "pygments_lexer": "ipython3",
   "version": "3.8.10"
  }
 },
 "nbformat": 4,
 "nbformat_minor": 5
}
