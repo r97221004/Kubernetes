{
 "cells": [
  {
   "cell_type": "markdown",
   "id": "bef6405d",
   "metadata": {},
   "source": [
    "# Getting cluster info"
   ]
  },
  {
   "cell_type": "raw",
   "id": "08b84e95",
   "metadata": {},
   "source": [
    "使用以下指令得到我們的 cluster 的相關資訊。"
   ]
  },
  {
   "cell_type": "code",
   "execution_count": null,
   "id": "411b8ad3",
   "metadata": {},
   "outputs": [],
   "source": [
    "kubectl cluster-info"
   ]
  },
  {
   "cell_type": "markdown",
   "id": "03d47d31",
   "metadata": {},
   "source": [
    "# Getting all nodes"
   ]
  },
  {
   "cell_type": "raw",
   "id": "ac776398",
   "metadata": {},
   "source": [
    "看看現在我們有幾個節點，例如 minikube 就只有一個 Master 節點。"
   ]
  },
  {
   "cell_type": "code",
   "execution_count": null,
   "id": "ce90b5d4",
   "metadata": {},
   "outputs": [],
   "source": [
    "kubectl get nodes"
   ]
  },
  {
   "cell_type": "raw",
   "id": "c47f64fe",
   "metadata": {},
   "source": [
    "可以使用短選項 -o 得到更多的資訊，可接的資料結構有 wide、json、yaml 等。"
   ]
  },
  {
   "cell_type": "code",
   "execution_count": null,
   "id": "7c445ff4",
   "metadata": {},
   "outputs": [],
   "source": [
    "kubectl get node nodeName -o wide"
   ]
  },
  {
   "cell_type": "raw",
   "id": "bc930ce9",
   "metadata": {},
   "source": [
    "使用 describe 可以得到最完整的節點資訊。"
   ]
  },
  {
   "cell_type": "code",
   "execution_count": null,
   "id": "1b6b5c52",
   "metadata": {},
   "outputs": [],
   "source": [
    "kubectl describe nod nodName"
   ]
  },
  {
   "cell_type": "raw",
   "id": "3498ae8e",
   "metadata": {},
   "source": [
    "如果想知道 nodes 的 labels，可以使用長選項 --show-labels。"
   ]
  },
  {
   "cell_type": "code",
   "execution_count": null,
   "id": "be442237",
   "metadata": {},
   "outputs": [],
   "source": [
    "kubectl get nodes --show-labels"
   ]
  },
  {
   "cell_type": "markdown",
   "id": "a1608de6",
   "metadata": {},
   "source": [
    "# Setting/Deleting labels for nodes"
   ]
  },
  {
   "cell_type": "raw",
   "id": "20e4fb5f",
   "metadata": {},
   "source": [
    "我們來給一個 node 加上標籤，key 是 env，value 是 test。"
   ]
  },
  {
   "cell_type": "code",
   "execution_count": null,
   "id": "c17384ac",
   "metadata": {},
   "outputs": [],
   "source": [
    "kubectl label node nodeName env=test"
   ]
  },
  {
   "cell_type": "raw",
   "id": "392f2510",
   "metadata": {},
   "source": [
    "看看剛剛的加上標籤有沒有成功"
   ]
  },
  {
   "cell_type": "code",
   "execution_count": null,
   "id": "135fd626",
   "metadata": {},
   "outputs": [],
   "source": [
    "kubectl get node nodeName --show-labels "
   ]
  },
  {
   "cell_type": "raw",
   "id": "a3897221",
   "metadata": {},
   "source": [
    "如果要修改剛剛的 env，需要再加入長選項 --overwrite "
   ]
  },
  {
   "cell_type": "code",
   "execution_count": null,
   "id": "5942c599",
   "metadata": {},
   "outputs": [],
   "source": [
    "kubectl label node nodeName env=update --overwrite\n",
    "kubectl get node nodeName --show-labels "
   ]
  },
  {
   "cell_type": "raw",
   "id": "d4ac0be3",
   "metadata": {},
   "source": [
    "再把剛剛加上的標籤給刪除，刪除只要 key 的後面加個 - 就可以了。"
   ]
  },
  {
   "cell_type": "code",
   "execution_count": null,
   "id": "dcb114b2",
   "metadata": {},
   "outputs": [],
   "source": [
    "kubectl label node nodeName env-"
   ]
  },
  {
   "cell_type": "raw",
   "id": "84ec078d",
   "metadata": {},
   "source": [
    "注意像我們之前由 get 得到的資訊很多是從標籤來的，所以也可以從標籤來修改。"
   ]
  }
 ],
 "metadata": {
  "kernelspec": {
   "display_name": "Python 3",
   "language": "python",
   "name": "python3"
  },
  "language_info": {
   "codemirror_mode": {
    "name": "ipython",
    "version": 3
   },
   "file_extension": ".py",
   "mimetype": "text/x-python",
   "name": "python",
   "nbconvert_exporter": "python",
   "pygments_lexer": "ipython3",
   "version": "3.8.10"
  }
 },
 "nbformat": 4,
 "nbformat_minor": 5
}
